{
 "cells": [
  {
   "attachments": {},
   "cell_type": "markdown",
   "metadata": {},
   "source": [
    "# Импорты"
   ]
  },
  {
   "cell_type": "code",
   "execution_count": 1,
   "metadata": {},
   "outputs": [],
   "source": [
    "import time\n",
    "import sys\n",
    "import warnings\n",
    "from pathlib import Path\n",
    "from typing import Sequence, Union\n",
    "import os\n",
    "import pandas as pd\n",
    "import matplotlib.pyplot as plt\n",
    "import seaborn as sns\n",
    "from datetime import datetime\n",
    "from functools import partial\n",
    "import dill\n",
    "from sklearn.preprocessing import FunctionTransformer, StandardScaler\n",
    "from sklearn.model_selection import (\n",
    "    train_test_split, GridSearchCV, StratifiedKFold)\n",
    "from sklearn.metrics import (\n",
    "    roc_auc_score, accuracy_score, confusion_matrix, precision_score, \n",
    "    recall_score, f1_score, make_scorer, roc_curve)\n",
    "from sklearn.pipeline import Pipeline\n",
    "from feature_engine.encoding import RareLabelEncoder, OneHotEncoder\n",
    "from feature_engine.wrappers import SklearnTransformerWrapper\n",
    "from feature_engine.outliers import Winsorizer\n",
    "from feature_engine.selection import (\n",
    "    DropDuplicateFeatures, DropConstantFeatures, \n",
    "    DropCorrelatedFeatures, DropFeatures)\n",
    "from feature_engine.transformation import YeoJohnsonTransformer\n",
    "from bayes_opt import BayesianOptimization\n",
    "\n",
    "# модели\n",
    "from sklearn.base import BaseEstimator\n",
    "from sklearn.dummy import DummyClassifier\n",
    "from sklearn.linear_model import LogisticRegression\n",
    "from sklearn.neighbors import KNeighborsClassifier\n",
    "from sklearn.neural_network import MLPClassifier\n",
    "from sklearn.svm import LinearSVC\n",
    "from sklearn.naive_bayes import GaussianNB\n",
    "from sklearn.tree import DecisionTreeClassifier\n",
    "from sklearn.ensemble import (\n",
    "    RandomForestClassifier, HistGradientBoostingClassifier)\n",
    "from xgboost import XGBClassifier"
   ]
  },
  {
   "cell_type": "markdown",
   "metadata": {},
   "source": [
    "Дополнительные данные"
   ]
  },
  {
   "cell_type": "code",
   "execution_count": 2,
   "metadata": {},
   "outputs": [],
   "source": [
    "russian_holidays = [\n",
    "    '2021-01-01', '2021-01-02', '2021-01-03', '2021-01-04', '2021-01-05', \n",
    "    '2021-01-06', '2021-01-07', '2021-01-08', '2021-02-22', '2021-02-23', \n",
    "    '2021-03-08', '2021-05-01', '2021-05-03', '2021-05-09', '2021-05-10', \n",
    "    '2021-06-12', '2021-06-14', '2021-11-04', '2021-11-05', '2021-12-31', \n",
    "    '2022-01-01', '2022-01-02', '2022-01-03', '2022-01-04', '2022-01-05', \n",
    "    '2022-01-06', '2022-01-07', '2022-01-08', '2022-02-23', '2022-03-08', \n",
    "    '2022-05-01', '2022-05-02', '2022-05-09', '2022-06-12', '2022-06-13', \n",
    "    '2022-11-04', '2022-12-31']\n",
    "\n",
    "organic_mediums = ['organic', 'referral', '(none)']\n",
    "\n",
    "social_media_sources = ['QxAxdyPLuQMEcrdZWdWb', 'MvfHsxITijuriZxsqZqt', \n",
    "                        'ISrKoXQCxqqYvAZICvjs', 'IZEXUFLARCUMynmHNBGo', \n",
    "                        'PlbkrSYoHuZBWfYjYnfw', 'gVRrcxiDQubJiljoTbGm']"
   ]
  },
  {
   "attachments": {},
   "cell_type": "markdown",
   "metadata": {},
   "source": [
    "# Исходные данные"
   ]
  },
  {
   "cell_type": "code",
   "execution_count": 3,
   "metadata": {},
   "outputs": [],
   "source": [
    "df_hits = pd.read_csv(\"D:\\Final_Work\\data\\ga_hits.csv\", encoding='utf-8')"
   ]
  },
  {
   "cell_type": "code",
   "execution_count": 4,
   "metadata": {},
   "outputs": [
    {
     "data": {
      "text/html": [
       "<div>\n",
       "<style scoped>\n",
       "    .dataframe tbody tr th:only-of-type {\n",
       "        vertical-align: middle;\n",
       "    }\n",
       "\n",
       "    .dataframe tbody tr th {\n",
       "        vertical-align: top;\n",
       "    }\n",
       "\n",
       "    .dataframe thead th {\n",
       "        text-align: right;\n",
       "    }\n",
       "</style>\n",
       "<table border=\"1\" class=\"dataframe\">\n",
       "  <thead>\n",
       "    <tr style=\"text-align: right;\">\n",
       "      <th></th>\n",
       "      <th>session_id</th>\n",
       "      <th>hit_date</th>\n",
       "      <th>hit_time</th>\n",
       "      <th>hit_number</th>\n",
       "      <th>hit_type</th>\n",
       "      <th>hit_referer</th>\n",
       "      <th>hit_page_path</th>\n",
       "      <th>event_category</th>\n",
       "      <th>event_action</th>\n",
       "      <th>event_label</th>\n",
       "      <th>event_value</th>\n",
       "    </tr>\n",
       "  </thead>\n",
       "  <tbody>\n",
       "    <tr>\n",
       "      <th>0</th>\n",
       "      <td>5639623078712724064.1640254056.1640254056</td>\n",
       "      <td>2021-12-23</td>\n",
       "      <td>597864.0</td>\n",
       "      <td>30</td>\n",
       "      <td>event</td>\n",
       "      <td>NaN</td>\n",
       "      <td>sberauto.com/cars?utm_source_initial=google&amp;ut...</td>\n",
       "      <td>quiz</td>\n",
       "      <td>quiz_show</td>\n",
       "      <td>NaN</td>\n",
       "      <td>NaN</td>\n",
       "    </tr>\n",
       "    <tr>\n",
       "      <th>1</th>\n",
       "      <td>7750352294969115059.1640271109.1640271109</td>\n",
       "      <td>2021-12-23</td>\n",
       "      <td>597331.0</td>\n",
       "      <td>41</td>\n",
       "      <td>event</td>\n",
       "      <td>NaN</td>\n",
       "      <td>sberauto.com/cars/fiat?city=1&amp;city=18&amp;rental_c...</td>\n",
       "      <td>quiz</td>\n",
       "      <td>quiz_show</td>\n",
       "      <td>NaN</td>\n",
       "      <td>NaN</td>\n",
       "    </tr>\n",
       "    <tr>\n",
       "      <th>2</th>\n",
       "      <td>885342191847998240.1640235807.1640235807</td>\n",
       "      <td>2021-12-23</td>\n",
       "      <td>796252.0</td>\n",
       "      <td>49</td>\n",
       "      <td>event</td>\n",
       "      <td>NaN</td>\n",
       "      <td>sberauto.com/cars/all/volkswagen/polo/e994838f...</td>\n",
       "      <td>quiz</td>\n",
       "      <td>quiz_show</td>\n",
       "      <td>NaN</td>\n",
       "      <td>NaN</td>\n",
       "    </tr>\n",
       "    <tr>\n",
       "      <th>3</th>\n",
       "      <td>142526202120934167.1640211014.1640211014</td>\n",
       "      <td>2021-12-23</td>\n",
       "      <td>934292.0</td>\n",
       "      <td>46</td>\n",
       "      <td>event</td>\n",
       "      <td>NaN</td>\n",
       "      <td>sberauto.com/cars?utm_source_initial=yandex&amp;ut...</td>\n",
       "      <td>quiz</td>\n",
       "      <td>quiz_show</td>\n",
       "      <td>NaN</td>\n",
       "      <td>NaN</td>\n",
       "    </tr>\n",
       "    <tr>\n",
       "      <th>4</th>\n",
       "      <td>3450086108837475701.1640265078.1640265078</td>\n",
       "      <td>2021-12-23</td>\n",
       "      <td>768741.0</td>\n",
       "      <td>79</td>\n",
       "      <td>event</td>\n",
       "      <td>NaN</td>\n",
       "      <td>sberauto.com/cars/all/mercedes-benz/cla-klasse...</td>\n",
       "      <td>quiz</td>\n",
       "      <td>quiz_show</td>\n",
       "      <td>NaN</td>\n",
       "      <td>NaN</td>\n",
       "    </tr>\n",
       "  </tbody>\n",
       "</table>\n",
       "</div>"
      ],
      "text/plain": [
       "                                  session_id    hit_date  hit_time  \\\n",
       "0  5639623078712724064.1640254056.1640254056  2021-12-23  597864.0   \n",
       "1  7750352294969115059.1640271109.1640271109  2021-12-23  597331.0   \n",
       "2   885342191847998240.1640235807.1640235807  2021-12-23  796252.0   \n",
       "3   142526202120934167.1640211014.1640211014  2021-12-23  934292.0   \n",
       "4  3450086108837475701.1640265078.1640265078  2021-12-23  768741.0   \n",
       "\n",
       "   hit_number hit_type hit_referer  \\\n",
       "0          30    event         NaN   \n",
       "1          41    event         NaN   \n",
       "2          49    event         NaN   \n",
       "3          46    event         NaN   \n",
       "4          79    event         NaN   \n",
       "\n",
       "                                       hit_page_path event_category  \\\n",
       "0  sberauto.com/cars?utm_source_initial=google&ut...           quiz   \n",
       "1  sberauto.com/cars/fiat?city=1&city=18&rental_c...           quiz   \n",
       "2  sberauto.com/cars/all/volkswagen/polo/e994838f...           quiz   \n",
       "3  sberauto.com/cars?utm_source_initial=yandex&ut...           quiz   \n",
       "4  sberauto.com/cars/all/mercedes-benz/cla-klasse...           quiz   \n",
       "\n",
       "  event_action event_label  event_value  \n",
       "0    quiz_show         NaN          NaN  \n",
       "1    quiz_show         NaN          NaN  \n",
       "2    quiz_show         NaN          NaN  \n",
       "3    quiz_show         NaN          NaN  \n",
       "4    quiz_show         NaN          NaN  "
      ]
     },
     "execution_count": 4,
     "metadata": {},
     "output_type": "execute_result"
    }
   ],
   "source": [
    "df_hits.head()"
   ]
  },
  {
   "cell_type": "code",
   "execution_count": 5,
   "metadata": {},
   "outputs": [
    {
     "data": {
      "text/plain": [
       "(15726470, 11)"
      ]
     },
     "execution_count": 5,
     "metadata": {},
     "output_type": "execute_result"
    }
   ],
   "source": [
    "df_hits.shape"
   ]
  },
  {
   "cell_type": "code",
   "execution_count": 6,
   "metadata": {},
   "outputs": [],
   "source": [
    "df_sessions = pd.read_csv(\"D:\\Final_Work\\data\\ga_sessions.csv\", low_memory=False)"
   ]
  },
  {
   "cell_type": "code",
   "execution_count": 7,
   "metadata": {},
   "outputs": [
    {
     "data": {
      "text/html": [
       "<div>\n",
       "<style scoped>\n",
       "    .dataframe tbody tr th:only-of-type {\n",
       "        vertical-align: middle;\n",
       "    }\n",
       "\n",
       "    .dataframe tbody tr th {\n",
       "        vertical-align: top;\n",
       "    }\n",
       "\n",
       "    .dataframe thead th {\n",
       "        text-align: right;\n",
       "    }\n",
       "</style>\n",
       "<table border=\"1\" class=\"dataframe\">\n",
       "  <thead>\n",
       "    <tr style=\"text-align: right;\">\n",
       "      <th></th>\n",
       "      <th>session_id</th>\n",
       "      <th>client_id</th>\n",
       "      <th>visit_date</th>\n",
       "      <th>visit_time</th>\n",
       "      <th>visit_number</th>\n",
       "      <th>utm_source</th>\n",
       "      <th>utm_medium</th>\n",
       "      <th>utm_campaign</th>\n",
       "      <th>utm_adcontent</th>\n",
       "      <th>utm_keyword</th>\n",
       "      <th>device_category</th>\n",
       "      <th>device_os</th>\n",
       "      <th>device_brand</th>\n",
       "      <th>device_model</th>\n",
       "      <th>device_screen_resolution</th>\n",
       "      <th>device_browser</th>\n",
       "      <th>geo_country</th>\n",
       "      <th>geo_city</th>\n",
       "    </tr>\n",
       "  </thead>\n",
       "  <tbody>\n",
       "    <tr>\n",
       "      <th>0</th>\n",
       "      <td>9055434745589932991.1637753792.1637753792</td>\n",
       "      <td>2108382700.1637753791</td>\n",
       "      <td>2021-11-24</td>\n",
       "      <td>14:36:32</td>\n",
       "      <td>1</td>\n",
       "      <td>ZpYIoDJMcFzVoPFsHGJL</td>\n",
       "      <td>banner</td>\n",
       "      <td>LEoPHuyFvzoNfnzGgfcd</td>\n",
       "      <td>vCIpmpaGBnIQhyYNkXqp</td>\n",
       "      <td>puhZPIYqKXeFPaUviSjo</td>\n",
       "      <td>mobile</td>\n",
       "      <td>Android</td>\n",
       "      <td>Huawei</td>\n",
       "      <td>NaN</td>\n",
       "      <td>360x720</td>\n",
       "      <td>Chrome</td>\n",
       "      <td>Russia</td>\n",
       "      <td>Zlatoust</td>\n",
       "    </tr>\n",
       "    <tr>\n",
       "      <th>1</th>\n",
       "      <td>905544597018549464.1636867290.1636867290</td>\n",
       "      <td>210838531.1636867288</td>\n",
       "      <td>2021-11-14</td>\n",
       "      <td>08:21:30</td>\n",
       "      <td>1</td>\n",
       "      <td>MvfHsxITijuriZxsqZqt</td>\n",
       "      <td>cpm</td>\n",
       "      <td>FTjNLDyTrXaWYgZymFkV</td>\n",
       "      <td>xhoenQgDQsgfEPYNPwKO</td>\n",
       "      <td>IGUCNvHlhfHpROGclCit</td>\n",
       "      <td>mobile</td>\n",
       "      <td>Android</td>\n",
       "      <td>Samsung</td>\n",
       "      <td>NaN</td>\n",
       "      <td>385x854</td>\n",
       "      <td>Samsung Internet</td>\n",
       "      <td>Russia</td>\n",
       "      <td>Moscow</td>\n",
       "    </tr>\n",
       "    <tr>\n",
       "      <th>2</th>\n",
       "      <td>9055446045651783499.1640648526.1640648526</td>\n",
       "      <td>2108385331.1640648523</td>\n",
       "      <td>2021-12-28</td>\n",
       "      <td>02:42:06</td>\n",
       "      <td>1</td>\n",
       "      <td>ZpYIoDJMcFzVoPFsHGJL</td>\n",
       "      <td>banner</td>\n",
       "      <td>LEoPHuyFvzoNfnzGgfcd</td>\n",
       "      <td>vCIpmpaGBnIQhyYNkXqp</td>\n",
       "      <td>puhZPIYqKXeFPaUviSjo</td>\n",
       "      <td>mobile</td>\n",
       "      <td>Android</td>\n",
       "      <td>Huawei</td>\n",
       "      <td>NaN</td>\n",
       "      <td>360x720</td>\n",
       "      <td>Chrome</td>\n",
       "      <td>Russia</td>\n",
       "      <td>Krasnoyarsk</td>\n",
       "    </tr>\n",
       "    <tr>\n",
       "      <th>3</th>\n",
       "      <td>9055447046360770272.1622255328.1622255328</td>\n",
       "      <td>2108385564.1622255328</td>\n",
       "      <td>2021-05-29</td>\n",
       "      <td>05:00:00</td>\n",
       "      <td>1</td>\n",
       "      <td>kjsLglQLzykiRbcDiGcD</td>\n",
       "      <td>cpc</td>\n",
       "      <td>NaN</td>\n",
       "      <td>NOBKLgtuvqYWkXQHeYWM</td>\n",
       "      <td>NaN</td>\n",
       "      <td>mobile</td>\n",
       "      <td>NaN</td>\n",
       "      <td>Xiaomi</td>\n",
       "      <td>NaN</td>\n",
       "      <td>393x786</td>\n",
       "      <td>Chrome</td>\n",
       "      <td>Russia</td>\n",
       "      <td>Moscow</td>\n",
       "    </tr>\n",
       "    <tr>\n",
       "      <th>4</th>\n",
       "      <td>9055447046360770272.1622255345.1622255345</td>\n",
       "      <td>2108385564.1622255328</td>\n",
       "      <td>2021-05-29</td>\n",
       "      <td>05:00:00</td>\n",
       "      <td>2</td>\n",
       "      <td>kjsLglQLzykiRbcDiGcD</td>\n",
       "      <td>cpc</td>\n",
       "      <td>NaN</td>\n",
       "      <td>NaN</td>\n",
       "      <td>NaN</td>\n",
       "      <td>mobile</td>\n",
       "      <td>NaN</td>\n",
       "      <td>Xiaomi</td>\n",
       "      <td>NaN</td>\n",
       "      <td>393x786</td>\n",
       "      <td>Chrome</td>\n",
       "      <td>Russia</td>\n",
       "      <td>Moscow</td>\n",
       "    </tr>\n",
       "  </tbody>\n",
       "</table>\n",
       "</div>"
      ],
      "text/plain": [
       "                                  session_id              client_id  \\\n",
       "0  9055434745589932991.1637753792.1637753792  2108382700.1637753791   \n",
       "1   905544597018549464.1636867290.1636867290   210838531.1636867288   \n",
       "2  9055446045651783499.1640648526.1640648526  2108385331.1640648523   \n",
       "3  9055447046360770272.1622255328.1622255328  2108385564.1622255328   \n",
       "4  9055447046360770272.1622255345.1622255345  2108385564.1622255328   \n",
       "\n",
       "   visit_date visit_time  visit_number            utm_source utm_medium  \\\n",
       "0  2021-11-24   14:36:32             1  ZpYIoDJMcFzVoPFsHGJL     banner   \n",
       "1  2021-11-14   08:21:30             1  MvfHsxITijuriZxsqZqt        cpm   \n",
       "2  2021-12-28   02:42:06             1  ZpYIoDJMcFzVoPFsHGJL     banner   \n",
       "3  2021-05-29   05:00:00             1  kjsLglQLzykiRbcDiGcD        cpc   \n",
       "4  2021-05-29   05:00:00             2  kjsLglQLzykiRbcDiGcD        cpc   \n",
       "\n",
       "           utm_campaign         utm_adcontent           utm_keyword  \\\n",
       "0  LEoPHuyFvzoNfnzGgfcd  vCIpmpaGBnIQhyYNkXqp  puhZPIYqKXeFPaUviSjo   \n",
       "1  FTjNLDyTrXaWYgZymFkV  xhoenQgDQsgfEPYNPwKO  IGUCNvHlhfHpROGclCit   \n",
       "2  LEoPHuyFvzoNfnzGgfcd  vCIpmpaGBnIQhyYNkXqp  puhZPIYqKXeFPaUviSjo   \n",
       "3                   NaN  NOBKLgtuvqYWkXQHeYWM                   NaN   \n",
       "4                   NaN                   NaN                   NaN   \n",
       "\n",
       "  device_category device_os device_brand device_model  \\\n",
       "0          mobile   Android       Huawei          NaN   \n",
       "1          mobile   Android      Samsung          NaN   \n",
       "2          mobile   Android       Huawei          NaN   \n",
       "3          mobile       NaN       Xiaomi          NaN   \n",
       "4          mobile       NaN       Xiaomi          NaN   \n",
       "\n",
       "  device_screen_resolution    device_browser geo_country     geo_city  \n",
       "0                  360x720            Chrome      Russia     Zlatoust  \n",
       "1                  385x854  Samsung Internet      Russia       Moscow  \n",
       "2                  360x720            Chrome      Russia  Krasnoyarsk  \n",
       "3                  393x786            Chrome      Russia       Moscow  \n",
       "4                  393x786            Chrome      Russia       Moscow  "
      ]
     },
     "execution_count": 7,
     "metadata": {},
     "output_type": "execute_result"
    }
   ],
   "source": [
    "df_sessions.head()"
   ]
  },
  {
   "cell_type": "code",
   "execution_count": 8,
   "metadata": {},
   "outputs": [
    {
     "data": {
      "text/plain": [
       "(1860042, 18)"
      ]
     },
     "execution_count": 8,
     "metadata": {},
     "output_type": "execute_result"
    }
   ],
   "source": [
    "df_sessions.shape"
   ]
  },
  {
   "cell_type": "code",
   "execution_count": 9,
   "metadata": {},
   "outputs": [
    {
     "data": {
      "text/html": [
       "<div>\n",
       "<style scoped>\n",
       "    .dataframe tbody tr th:only-of-type {\n",
       "        vertical-align: middle;\n",
       "    }\n",
       "\n",
       "    .dataframe tbody tr th {\n",
       "        vertical-align: top;\n",
       "    }\n",
       "\n",
       "    .dataframe thead th {\n",
       "        text-align: right;\n",
       "    }\n",
       "</style>\n",
       "<table border=\"1\" class=\"dataframe\">\n",
       "  <thead>\n",
       "    <tr style=\"text-align: right;\">\n",
       "      <th></th>\n",
       "      <th>session_id</th>\n",
       "      <th>hit_date</th>\n",
       "      <th>hit_time</th>\n",
       "      <th>hit_number</th>\n",
       "      <th>hit_type</th>\n",
       "      <th>hit_referer</th>\n",
       "      <th>hit_page_path</th>\n",
       "      <th>event_category</th>\n",
       "      <th>event_action</th>\n",
       "      <th>event_label</th>\n",
       "      <th>event_value</th>\n",
       "    </tr>\n",
       "  </thead>\n",
       "  <tbody>\n",
       "    <tr>\n",
       "      <th>count</th>\n",
       "      <td>15726470</td>\n",
       "      <td>15726470</td>\n",
       "      <td>6.566148e+06</td>\n",
       "      <td>1.572647e+07</td>\n",
       "      <td>15726470</td>\n",
       "      <td>9451666</td>\n",
       "      <td>15726470</td>\n",
       "      <td>15726470</td>\n",
       "      <td>15726470</td>\n",
       "      <td>11966286</td>\n",
       "      <td>0.0</td>\n",
       "    </tr>\n",
       "    <tr>\n",
       "      <th>unique</th>\n",
       "      <td>1734610</td>\n",
       "      <td>226</td>\n",
       "      <td>NaN</td>\n",
       "      <td>NaN</td>\n",
       "      <td>1</td>\n",
       "      <td>37873</td>\n",
       "      <td>342715</td>\n",
       "      <td>52</td>\n",
       "      <td>230</td>\n",
       "      <td>39825</td>\n",
       "      <td>NaN</td>\n",
       "    </tr>\n",
       "    <tr>\n",
       "      <th>top</th>\n",
       "      <td>5442565791571325612.1632449195.1632449195</td>\n",
       "      <td>2021-05-24</td>\n",
       "      <td>NaN</td>\n",
       "      <td>NaN</td>\n",
       "      <td>event</td>\n",
       "      <td>HbolMJUevblAbkHClEQa</td>\n",
       "      <td>podpiska.sberauto.com/</td>\n",
       "      <td>card_web</td>\n",
       "      <td>view_card</td>\n",
       "      <td>KclpemfoHstknWHFiLit</td>\n",
       "      <td>NaN</td>\n",
       "    </tr>\n",
       "    <tr>\n",
       "      <th>freq</th>\n",
       "      <td>768</td>\n",
       "      <td>513035</td>\n",
       "      <td>NaN</td>\n",
       "      <td>NaN</td>\n",
       "      <td>15726470</td>\n",
       "      <td>8879187</td>\n",
       "      <td>2793639</td>\n",
       "      <td>7456998</td>\n",
       "      <td>3558985</td>\n",
       "      <td>6505447</td>\n",
       "      <td>NaN</td>\n",
       "    </tr>\n",
       "    <tr>\n",
       "      <th>mean</th>\n",
       "      <td>NaN</td>\n",
       "      <td>NaN</td>\n",
       "      <td>2.091050e+05</td>\n",
       "      <td>2.356715e+01</td>\n",
       "      <td>NaN</td>\n",
       "      <td>NaN</td>\n",
       "      <td>NaN</td>\n",
       "      <td>NaN</td>\n",
       "      <td>NaN</td>\n",
       "      <td>NaN</td>\n",
       "      <td>NaN</td>\n",
       "    </tr>\n",
       "    <tr>\n",
       "      <th>std</th>\n",
       "      <td>NaN</td>\n",
       "      <td>NaN</td>\n",
       "      <td>4.032110e+05</td>\n",
       "      <td>2.887713e+01</td>\n",
       "      <td>NaN</td>\n",
       "      <td>NaN</td>\n",
       "      <td>NaN</td>\n",
       "      <td>NaN</td>\n",
       "      <td>NaN</td>\n",
       "      <td>NaN</td>\n",
       "      <td>NaN</td>\n",
       "    </tr>\n",
       "    <tr>\n",
       "      <th>min</th>\n",
       "      <td>NaN</td>\n",
       "      <td>NaN</td>\n",
       "      <td>0.000000e+00</td>\n",
       "      <td>1.000000e+00</td>\n",
       "      <td>NaN</td>\n",
       "      <td>NaN</td>\n",
       "      <td>NaN</td>\n",
       "      <td>NaN</td>\n",
       "      <td>NaN</td>\n",
       "      <td>NaN</td>\n",
       "      <td>NaN</td>\n",
       "    </tr>\n",
       "    <tr>\n",
       "      <th>25%</th>\n",
       "      <td>NaN</td>\n",
       "      <td>NaN</td>\n",
       "      <td>2.412000e+04</td>\n",
       "      <td>7.000000e+00</td>\n",
       "      <td>NaN</td>\n",
       "      <td>NaN</td>\n",
       "      <td>NaN</td>\n",
       "      <td>NaN</td>\n",
       "      <td>NaN</td>\n",
       "      <td>NaN</td>\n",
       "      <td>NaN</td>\n",
       "    </tr>\n",
       "    <tr>\n",
       "      <th>50%</th>\n",
       "      <td>NaN</td>\n",
       "      <td>NaN</td>\n",
       "      <td>8.994100e+04</td>\n",
       "      <td>1.500000e+01</td>\n",
       "      <td>NaN</td>\n",
       "      <td>NaN</td>\n",
       "      <td>NaN</td>\n",
       "      <td>NaN</td>\n",
       "      <td>NaN</td>\n",
       "      <td>NaN</td>\n",
       "      <td>NaN</td>\n",
       "    </tr>\n",
       "    <tr>\n",
       "      <th>75%</th>\n",
       "      <td>NaN</td>\n",
       "      <td>NaN</td>\n",
       "      <td>2.195352e+05</td>\n",
       "      <td>2.900000e+01</td>\n",
       "      <td>NaN</td>\n",
       "      <td>NaN</td>\n",
       "      <td>NaN</td>\n",
       "      <td>NaN</td>\n",
       "      <td>NaN</td>\n",
       "      <td>NaN</td>\n",
       "      <td>NaN</td>\n",
       "    </tr>\n",
       "    <tr>\n",
       "      <th>max</th>\n",
       "      <td>NaN</td>\n",
       "      <td>NaN</td>\n",
       "      <td>1.315688e+07</td>\n",
       "      <td>5.000000e+02</td>\n",
       "      <td>NaN</td>\n",
       "      <td>NaN</td>\n",
       "      <td>NaN</td>\n",
       "      <td>NaN</td>\n",
       "      <td>NaN</td>\n",
       "      <td>NaN</td>\n",
       "      <td>NaN</td>\n",
       "    </tr>\n",
       "  </tbody>\n",
       "</table>\n",
       "</div>"
      ],
      "text/plain": [
       "                                       session_id    hit_date      hit_time  \\\n",
       "count                                    15726470    15726470  6.566148e+06   \n",
       "unique                                    1734610         226           NaN   \n",
       "top     5442565791571325612.1632449195.1632449195  2021-05-24           NaN   \n",
       "freq                                          768      513035           NaN   \n",
       "mean                                          NaN         NaN  2.091050e+05   \n",
       "std                                           NaN         NaN  4.032110e+05   \n",
       "min                                           NaN         NaN  0.000000e+00   \n",
       "25%                                           NaN         NaN  2.412000e+04   \n",
       "50%                                           NaN         NaN  8.994100e+04   \n",
       "75%                                           NaN         NaN  2.195352e+05   \n",
       "max                                           NaN         NaN  1.315688e+07   \n",
       "\n",
       "          hit_number  hit_type           hit_referer           hit_page_path  \\\n",
       "count   1.572647e+07  15726470               9451666                15726470   \n",
       "unique           NaN         1                 37873                  342715   \n",
       "top              NaN     event  HbolMJUevblAbkHClEQa  podpiska.sberauto.com/   \n",
       "freq             NaN  15726470               8879187                 2793639   \n",
       "mean    2.356715e+01       NaN                   NaN                     NaN   \n",
       "std     2.887713e+01       NaN                   NaN                     NaN   \n",
       "min     1.000000e+00       NaN                   NaN                     NaN   \n",
       "25%     7.000000e+00       NaN                   NaN                     NaN   \n",
       "50%     1.500000e+01       NaN                   NaN                     NaN   \n",
       "75%     2.900000e+01       NaN                   NaN                     NaN   \n",
       "max     5.000000e+02       NaN                   NaN                     NaN   \n",
       "\n",
       "       event_category event_action           event_label  event_value  \n",
       "count        15726470     15726470              11966286          0.0  \n",
       "unique             52          230                 39825          NaN  \n",
       "top          card_web    view_card  KclpemfoHstknWHFiLit          NaN  \n",
       "freq          7456998      3558985               6505447          NaN  \n",
       "mean              NaN          NaN                   NaN          NaN  \n",
       "std               NaN          NaN                   NaN          NaN  \n",
       "min               NaN          NaN                   NaN          NaN  \n",
       "25%               NaN          NaN                   NaN          NaN  \n",
       "50%               NaN          NaN                   NaN          NaN  \n",
       "75%               NaN          NaN                   NaN          NaN  \n",
       "max               NaN          NaN                   NaN          NaN  "
      ]
     },
     "execution_count": 9,
     "metadata": {},
     "output_type": "execute_result"
    }
   ],
   "source": [
    "df_hits.describe(include='all')"
   ]
  },
  {
   "cell_type": "code",
   "execution_count": 10,
   "metadata": {},
   "outputs": [
    {
     "data": {
      "text/html": [
       "<div>\n",
       "<style scoped>\n",
       "    .dataframe tbody tr th:only-of-type {\n",
       "        vertical-align: middle;\n",
       "    }\n",
       "\n",
       "    .dataframe tbody tr th {\n",
       "        vertical-align: top;\n",
       "    }\n",
       "\n",
       "    .dataframe thead th {\n",
       "        text-align: right;\n",
       "    }\n",
       "</style>\n",
       "<table border=\"1\" class=\"dataframe\">\n",
       "  <thead>\n",
       "    <tr style=\"text-align: right;\">\n",
       "      <th></th>\n",
       "      <th>session_id</th>\n",
       "      <th>client_id</th>\n",
       "      <th>visit_date</th>\n",
       "      <th>visit_time</th>\n",
       "      <th>visit_number</th>\n",
       "      <th>utm_source</th>\n",
       "      <th>utm_medium</th>\n",
       "      <th>utm_campaign</th>\n",
       "      <th>utm_adcontent</th>\n",
       "      <th>utm_keyword</th>\n",
       "      <th>device_category</th>\n",
       "      <th>device_os</th>\n",
       "      <th>device_brand</th>\n",
       "      <th>device_model</th>\n",
       "      <th>device_screen_resolution</th>\n",
       "      <th>device_browser</th>\n",
       "      <th>geo_country</th>\n",
       "      <th>geo_city</th>\n",
       "    </tr>\n",
       "  </thead>\n",
       "  <tbody>\n",
       "    <tr>\n",
       "      <th>count</th>\n",
       "      <td>1860042</td>\n",
       "      <td>1860042</td>\n",
       "      <td>1860042</td>\n",
       "      <td>1860042</td>\n",
       "      <td>1.860042e+06</td>\n",
       "      <td>1859945</td>\n",
       "      <td>1860042</td>\n",
       "      <td>1640439</td>\n",
       "      <td>1524427</td>\n",
       "      <td>777981</td>\n",
       "      <td>1860042</td>\n",
       "      <td>789904</td>\n",
       "      <td>1492864</td>\n",
       "      <td>16338</td>\n",
       "      <td>1860042</td>\n",
       "      <td>1860042</td>\n",
       "      <td>1860042</td>\n",
       "      <td>1860042</td>\n",
       "    </tr>\n",
       "    <tr>\n",
       "      <th>unique</th>\n",
       "      <td>1860042</td>\n",
       "      <td>1391719</td>\n",
       "      <td>226</td>\n",
       "      <td>85318</td>\n",
       "      <td>NaN</td>\n",
       "      <td>293</td>\n",
       "      <td>56</td>\n",
       "      <td>412</td>\n",
       "      <td>286</td>\n",
       "      <td>1219</td>\n",
       "      <td>3</td>\n",
       "      <td>13</td>\n",
       "      <td>205</td>\n",
       "      <td>104</td>\n",
       "      <td>5039</td>\n",
       "      <td>57</td>\n",
       "      <td>166</td>\n",
       "      <td>2548</td>\n",
       "    </tr>\n",
       "    <tr>\n",
       "      <th>top</th>\n",
       "      <td>9055434745589932991.1637753792.1637753792</td>\n",
       "      <td>1750498477.1629450062</td>\n",
       "      <td>2021-05-24</td>\n",
       "      <td>12:00:00</td>\n",
       "      <td>NaN</td>\n",
       "      <td>ZpYIoDJMcFzVoPFsHGJL</td>\n",
       "      <td>banner</td>\n",
       "      <td>LTuZkdKfxRGVceoWkVyg</td>\n",
       "      <td>JNHcPlZPxEMWDnRiyoBf</td>\n",
       "      <td>puhZPIYqKXeFPaUviSjo</td>\n",
       "      <td>mobile</td>\n",
       "      <td>Android</td>\n",
       "      <td>Apple</td>\n",
       "      <td>AuMdmADEIoPXiWpTsBEj</td>\n",
       "      <td>414x896</td>\n",
       "      <td>Chrome</td>\n",
       "      <td>Russia</td>\n",
       "      <td>Moscow</td>\n",
       "    </tr>\n",
       "    <tr>\n",
       "      <th>freq</th>\n",
       "      <td>1</td>\n",
       "      <td>462</td>\n",
       "      <td>39453</td>\n",
       "      <td>61067</td>\n",
       "      <td>NaN</td>\n",
       "      <td>578290</td>\n",
       "      <td>552272</td>\n",
       "      <td>463481</td>\n",
       "      <td>1006599</td>\n",
       "      <td>506819</td>\n",
       "      <td>1474871</td>\n",
       "      <td>464054</td>\n",
       "      <td>551088</td>\n",
       "      <td>9778</td>\n",
       "      <td>169090</td>\n",
       "      <td>1013436</td>\n",
       "      <td>1800565</td>\n",
       "      <td>805329</td>\n",
       "    </tr>\n",
       "    <tr>\n",
       "      <th>mean</th>\n",
       "      <td>NaN</td>\n",
       "      <td>NaN</td>\n",
       "      <td>NaN</td>\n",
       "      <td>NaN</td>\n",
       "      <td>2.712804e+00</td>\n",
       "      <td>NaN</td>\n",
       "      <td>NaN</td>\n",
       "      <td>NaN</td>\n",
       "      <td>NaN</td>\n",
       "      <td>NaN</td>\n",
       "      <td>NaN</td>\n",
       "      <td>NaN</td>\n",
       "      <td>NaN</td>\n",
       "      <td>NaN</td>\n",
       "      <td>NaN</td>\n",
       "      <td>NaN</td>\n",
       "      <td>NaN</td>\n",
       "      <td>NaN</td>\n",
       "    </tr>\n",
       "    <tr>\n",
       "      <th>std</th>\n",
       "      <td>NaN</td>\n",
       "      <td>NaN</td>\n",
       "      <td>NaN</td>\n",
       "      <td>NaN</td>\n",
       "      <td>1.182907e+01</td>\n",
       "      <td>NaN</td>\n",
       "      <td>NaN</td>\n",
       "      <td>NaN</td>\n",
       "      <td>NaN</td>\n",
       "      <td>NaN</td>\n",
       "      <td>NaN</td>\n",
       "      <td>NaN</td>\n",
       "      <td>NaN</td>\n",
       "      <td>NaN</td>\n",
       "      <td>NaN</td>\n",
       "      <td>NaN</td>\n",
       "      <td>NaN</td>\n",
       "      <td>NaN</td>\n",
       "    </tr>\n",
       "    <tr>\n",
       "      <th>min</th>\n",
       "      <td>NaN</td>\n",
       "      <td>NaN</td>\n",
       "      <td>NaN</td>\n",
       "      <td>NaN</td>\n",
       "      <td>1.000000e+00</td>\n",
       "      <td>NaN</td>\n",
       "      <td>NaN</td>\n",
       "      <td>NaN</td>\n",
       "      <td>NaN</td>\n",
       "      <td>NaN</td>\n",
       "      <td>NaN</td>\n",
       "      <td>NaN</td>\n",
       "      <td>NaN</td>\n",
       "      <td>NaN</td>\n",
       "      <td>NaN</td>\n",
       "      <td>NaN</td>\n",
       "      <td>NaN</td>\n",
       "      <td>NaN</td>\n",
       "    </tr>\n",
       "    <tr>\n",
       "      <th>25%</th>\n",
       "      <td>NaN</td>\n",
       "      <td>NaN</td>\n",
       "      <td>NaN</td>\n",
       "      <td>NaN</td>\n",
       "      <td>1.000000e+00</td>\n",
       "      <td>NaN</td>\n",
       "      <td>NaN</td>\n",
       "      <td>NaN</td>\n",
       "      <td>NaN</td>\n",
       "      <td>NaN</td>\n",
       "      <td>NaN</td>\n",
       "      <td>NaN</td>\n",
       "      <td>NaN</td>\n",
       "      <td>NaN</td>\n",
       "      <td>NaN</td>\n",
       "      <td>NaN</td>\n",
       "      <td>NaN</td>\n",
       "      <td>NaN</td>\n",
       "    </tr>\n",
       "    <tr>\n",
       "      <th>50%</th>\n",
       "      <td>NaN</td>\n",
       "      <td>NaN</td>\n",
       "      <td>NaN</td>\n",
       "      <td>NaN</td>\n",
       "      <td>1.000000e+00</td>\n",
       "      <td>NaN</td>\n",
       "      <td>NaN</td>\n",
       "      <td>NaN</td>\n",
       "      <td>NaN</td>\n",
       "      <td>NaN</td>\n",
       "      <td>NaN</td>\n",
       "      <td>NaN</td>\n",
       "      <td>NaN</td>\n",
       "      <td>NaN</td>\n",
       "      <td>NaN</td>\n",
       "      <td>NaN</td>\n",
       "      <td>NaN</td>\n",
       "      <td>NaN</td>\n",
       "    </tr>\n",
       "    <tr>\n",
       "      <th>75%</th>\n",
       "      <td>NaN</td>\n",
       "      <td>NaN</td>\n",
       "      <td>NaN</td>\n",
       "      <td>NaN</td>\n",
       "      <td>2.000000e+00</td>\n",
       "      <td>NaN</td>\n",
       "      <td>NaN</td>\n",
       "      <td>NaN</td>\n",
       "      <td>NaN</td>\n",
       "      <td>NaN</td>\n",
       "      <td>NaN</td>\n",
       "      <td>NaN</td>\n",
       "      <td>NaN</td>\n",
       "      <td>NaN</td>\n",
       "      <td>NaN</td>\n",
       "      <td>NaN</td>\n",
       "      <td>NaN</td>\n",
       "      <td>NaN</td>\n",
       "    </tr>\n",
       "    <tr>\n",
       "      <th>max</th>\n",
       "      <td>NaN</td>\n",
       "      <td>NaN</td>\n",
       "      <td>NaN</td>\n",
       "      <td>NaN</td>\n",
       "      <td>5.640000e+02</td>\n",
       "      <td>NaN</td>\n",
       "      <td>NaN</td>\n",
       "      <td>NaN</td>\n",
       "      <td>NaN</td>\n",
       "      <td>NaN</td>\n",
       "      <td>NaN</td>\n",
       "      <td>NaN</td>\n",
       "      <td>NaN</td>\n",
       "      <td>NaN</td>\n",
       "      <td>NaN</td>\n",
       "      <td>NaN</td>\n",
       "      <td>NaN</td>\n",
       "      <td>NaN</td>\n",
       "    </tr>\n",
       "  </tbody>\n",
       "</table>\n",
       "</div>"
      ],
      "text/plain": [
       "                                       session_id              client_id  \\\n",
       "count                                     1860042                1860042   \n",
       "unique                                    1860042                1391719   \n",
       "top     9055434745589932991.1637753792.1637753792  1750498477.1629450062   \n",
       "freq                                            1                    462   \n",
       "mean                                          NaN                    NaN   \n",
       "std                                           NaN                    NaN   \n",
       "min                                           NaN                    NaN   \n",
       "25%                                           NaN                    NaN   \n",
       "50%                                           NaN                    NaN   \n",
       "75%                                           NaN                    NaN   \n",
       "max                                           NaN                    NaN   \n",
       "\n",
       "        visit_date visit_time  visit_number            utm_source utm_medium  \\\n",
       "count      1860042    1860042  1.860042e+06               1859945    1860042   \n",
       "unique         226      85318           NaN                   293         56   \n",
       "top     2021-05-24   12:00:00           NaN  ZpYIoDJMcFzVoPFsHGJL     banner   \n",
       "freq         39453      61067           NaN                578290     552272   \n",
       "mean           NaN        NaN  2.712804e+00                   NaN        NaN   \n",
       "std            NaN        NaN  1.182907e+01                   NaN        NaN   \n",
       "min            NaN        NaN  1.000000e+00                   NaN        NaN   \n",
       "25%            NaN        NaN  1.000000e+00                   NaN        NaN   \n",
       "50%            NaN        NaN  1.000000e+00                   NaN        NaN   \n",
       "75%            NaN        NaN  2.000000e+00                   NaN        NaN   \n",
       "max            NaN        NaN  5.640000e+02                   NaN        NaN   \n",
       "\n",
       "                utm_campaign         utm_adcontent           utm_keyword  \\\n",
       "count                1640439               1524427                777981   \n",
       "unique                   412                   286                  1219   \n",
       "top     LTuZkdKfxRGVceoWkVyg  JNHcPlZPxEMWDnRiyoBf  puhZPIYqKXeFPaUviSjo   \n",
       "freq                  463481               1006599                506819   \n",
       "mean                     NaN                   NaN                   NaN   \n",
       "std                      NaN                   NaN                   NaN   \n",
       "min                      NaN                   NaN                   NaN   \n",
       "25%                      NaN                   NaN                   NaN   \n",
       "50%                      NaN                   NaN                   NaN   \n",
       "75%                      NaN                   NaN                   NaN   \n",
       "max                      NaN                   NaN                   NaN   \n",
       "\n",
       "       device_category device_os device_brand          device_model  \\\n",
       "count          1860042    789904      1492864                 16338   \n",
       "unique               3        13          205                   104   \n",
       "top             mobile   Android        Apple  AuMdmADEIoPXiWpTsBEj   \n",
       "freq           1474871    464054       551088                  9778   \n",
       "mean               NaN       NaN          NaN                   NaN   \n",
       "std                NaN       NaN          NaN                   NaN   \n",
       "min                NaN       NaN          NaN                   NaN   \n",
       "25%                NaN       NaN          NaN                   NaN   \n",
       "50%                NaN       NaN          NaN                   NaN   \n",
       "75%                NaN       NaN          NaN                   NaN   \n",
       "max                NaN       NaN          NaN                   NaN   \n",
       "\n",
       "       device_screen_resolution device_browser geo_country geo_city  \n",
       "count                   1860042        1860042     1860042  1860042  \n",
       "unique                     5039             57         166     2548  \n",
       "top                     414x896         Chrome      Russia   Moscow  \n",
       "freq                     169090        1013436     1800565   805329  \n",
       "mean                        NaN            NaN         NaN      NaN  \n",
       "std                         NaN            NaN         NaN      NaN  \n",
       "min                         NaN            NaN         NaN      NaN  \n",
       "25%                         NaN            NaN         NaN      NaN  \n",
       "50%                         NaN            NaN         NaN      NaN  \n",
       "75%                         NaN            NaN         NaN      NaN  \n",
       "max                         NaN            NaN         NaN      NaN  "
      ]
     },
     "execution_count": 10,
     "metadata": {},
     "output_type": "execute_result"
    }
   ],
   "source": [
    "df_sessions.describe(include='all')"
   ]
  },
  {
   "cell_type": "code",
   "execution_count": 11,
   "metadata": {},
   "outputs": [
    {
     "name": "stdout",
     "output_type": "stream",
     "text": [
      "<class 'pandas.core.frame.DataFrame'>\n",
      "RangeIndex: 15726470 entries, 0 to 15726469\n",
      "Data columns (total 11 columns):\n",
      " #   Column          Dtype  \n",
      "---  ------          -----  \n",
      " 0   session_id      object \n",
      " 1   hit_date        object \n",
      " 2   hit_time        float64\n",
      " 3   hit_number      int64  \n",
      " 4   hit_type        object \n",
      " 5   hit_referer     object \n",
      " 6   hit_page_path   object \n",
      " 7   event_category  object \n",
      " 8   event_action    object \n",
      " 9   event_label     object \n",
      " 10  event_value     float64\n",
      "dtypes: float64(2), int64(1), object(8)\n",
      "memory usage: 1.3+ GB\n"
     ]
    }
   ],
   "source": [
    "df_hits.info()"
   ]
  },
  {
   "cell_type": "code",
   "execution_count": 12,
   "metadata": {},
   "outputs": [
    {
     "data": {
      "text/plain": [
       "session_id               0\n",
       "hit_date                 0\n",
       "hit_time           9160322\n",
       "hit_number               0\n",
       "hit_type                 0\n",
       "hit_referer        6274804\n",
       "hit_page_path            0\n",
       "event_category           0\n",
       "event_action             0\n",
       "event_label        3760184\n",
       "event_value       15726470\n",
       "dtype: int64"
      ]
     },
     "execution_count": 12,
     "metadata": {},
     "output_type": "execute_result"
    }
   ],
   "source": [
    "df_hits.isna().sum()"
   ]
  },
  {
   "cell_type": "code",
   "execution_count": 13,
   "metadata": {},
   "outputs": [
    {
     "name": "stdout",
     "output_type": "stream",
     "text": [
      "<class 'pandas.core.frame.DataFrame'>\n",
      "RangeIndex: 1860042 entries, 0 to 1860041\n",
      "Data columns (total 18 columns):\n",
      " #   Column                    Dtype \n",
      "---  ------                    ----- \n",
      " 0   session_id                object\n",
      " 1   client_id                 object\n",
      " 2   visit_date                object\n",
      " 3   visit_time                object\n",
      " 4   visit_number              int64 \n",
      " 5   utm_source                object\n",
      " 6   utm_medium                object\n",
      " 7   utm_campaign              object\n",
      " 8   utm_adcontent             object\n",
      " 9   utm_keyword               object\n",
      " 10  device_category           object\n",
      " 11  device_os                 object\n",
      " 12  device_brand              object\n",
      " 13  device_model              object\n",
      " 14  device_screen_resolution  object\n",
      " 15  device_browser            object\n",
      " 16  geo_country               object\n",
      " 17  geo_city                  object\n",
      "dtypes: int64(1), object(17)\n",
      "memory usage: 255.4+ MB\n"
     ]
    }
   ],
   "source": [
    "df_sessions.info()"
   ]
  },
  {
   "cell_type": "code",
   "execution_count": 14,
   "metadata": {},
   "outputs": [
    {
     "data": {
      "text/plain": [
       "session_id                        0\n",
       "client_id                         0\n",
       "visit_date                        0\n",
       "visit_time                        0\n",
       "visit_number                      0\n",
       "utm_source                       97\n",
       "utm_medium                        0\n",
       "utm_campaign                 219603\n",
       "utm_adcontent                335615\n",
       "utm_keyword                 1082061\n",
       "device_category                   0\n",
       "device_os                   1070138\n",
       "device_brand                 367178\n",
       "device_model                1843704\n",
       "device_screen_resolution          0\n",
       "device_browser                    0\n",
       "geo_country                       0\n",
       "geo_city                          0\n",
       "dtype: int64"
      ]
     },
     "execution_count": 14,
     "metadata": {},
     "output_type": "execute_result"
    }
   ],
   "source": [
    "df_sessions.isna().sum()"
   ]
  },
  {
   "cell_type": "code",
   "execution_count": 15,
   "metadata": {},
   "outputs": [
    {
     "name": "stdout",
     "output_type": "stream",
     "text": [
      "Количество дубликатов в дата-сете df_hits: 0\n"
     ]
    }
   ],
   "source": [
    "print(f'Количество дубликатов в дата-сете df_hits: {df_hits.duplicated().sum()}')"
   ]
  },
  {
   "cell_type": "code",
   "execution_count": 16,
   "metadata": {},
   "outputs": [
    {
     "name": "stdout",
     "output_type": "stream",
     "text": [
      "Количество дубликатов в дата-сете df_sessions: 0\n"
     ]
    }
   ],
   "source": [
    "print(f'Количество дубликатов в дата-сете df_sessions: {df_sessions.duplicated().sum()}')"
   ]
  },
  {
   "cell_type": "code",
   "execution_count": 17,
   "metadata": {},
   "outputs": [
    {
     "name": "stdout",
     "output_type": "stream",
     "text": [
      "Временной период данных в датасете df_his находится в пределах с 2021-05-19 по 2021-12-31\n",
      "Временной период данных в датасете df_sessions находится в пределах с 2021-05-19 по 2021-12-31\n"
     ]
    }
   ],
   "source": [
    "print(f'Временной период данных в датасете df_his находится в пределах с {df_hits.hit_date.min()} по {df_hits.hit_date.max()}') \n",
    "print(f'Временной период данных в датасете df_sessions находится в пределах с {df_sessions.visit_date.min()} по {df_sessions.visit_date.max()}')"
   ]
  },
  {
   "attachments": {},
   "cell_type": "markdown",
   "metadata": {},
   "source": [
    "## Предварительный вывод"
   ]
  },
  {
   "attachments": {},
   "cell_type": "markdown",
   "metadata": {},
   "source": [
    "Размер датасета df_hits сотавляет 15726470 строк на 11 колонок. Количетво дубликатов равно 0. Количество незаполненных значений по параметру hit_time составляет 9160322 ед., hit_referer составляет 6274804 ед., event_label составляет 3760184 ед. и event_value составляет 15726470 ед. Все данные находятся во временном интервале с 15.05.2021 по 31.12.2021 гг.\n",
    "\n",
    "Размер датасета df_sessions составляет 1860042 строк на 18 колонок. Количество дубликатов равно 0. Количество незаполненных значений по параметру utm_source составляет 97 ед., по параметру utm_campaign составляет 219603 ед., по параметру utm_adcontent составляет 335615 ед., по параметру utm_keyword составляет 1082061 ед., по параметру device_os составляет 1070138 ед., по параметру device_brand составляет 37178 ед. и по параметру device_model составляет 1843704 ед."
   ]
  },
  {
   "attachments": {},
   "cell_type": "markdown",
   "metadata": {},
   "source": [
    "# Анализ датасета df_hits"
   ]
  },
  {
   "attachments": {},
   "cell_type": "markdown",
   "metadata": {},
   "source": [
    "Целевые действия клиентов находятся в переменной event_actions. Рассмотрим все цеевые действия посетителей и количество уникальных значений:"
   ]
  },
  {
   "cell_type": "code",
   "execution_count": 18,
   "metadata": {},
   "outputs": [
    {
     "data": {
      "text/plain": [
       "view_card                    3558985\n",
       "view_new_card                3551009\n",
       "sub_landing                  1798117\n",
       "go_to_car_card                973666\n",
       "sub_view_cars_click           791515\n",
       "search_form_region            512069\n",
       "search_form_search_btn        433748\n",
       "sap_search_form_cost_to       356596\n",
       "showed_number_ads             326274\n",
       "pagination_click              248944\n",
       "search_form_mark_select       222652\n",
       "quiz_show                     214037\n",
       "search_form_model_select      211890\n",
       "sap_search_form_cost_from     188129\n",
       "photos_all                    181493\n",
       "Name: event_action, dtype: int64"
      ]
     },
     "execution_count": 18,
     "metadata": {},
     "output_type": "execute_result"
    }
   ],
   "source": [
    "df_hits.event_action.value_counts().head(15)"
   ]
  },
  {
   "cell_type": "code",
   "execution_count": 19,
   "metadata": {},
   "outputs": [
    {
     "name": "stdout",
     "output_type": "stream",
     "text": [
      "Уникальных значений в целевых действиях 230 значений\n"
     ]
    }
   ],
   "source": [
    "print(f'Уникальных значений в целевых действиях {df_hits.event_action.nunique()} значений')"
   ]
  },
  {
   "cell_type": "code",
   "execution_count": 20,
   "metadata": {},
   "outputs": [
    {
     "name": "stdout",
     "output_type": "stream",
     "text": [
      "\n",
      "\n",
      "Всего целевых действий = 104908 из 15726470 что составляет  0.67 %\n",
      "\n",
      "sub_car_claim_click = 37928 что составляет 0.241 %\n",
      "sub_open_dialog_click = 25870 что составляет 0.164 %\n",
      "sub_submit_success = 18439 что составляет 0.117 %\n",
      "sub_car_claim_submit_click = 12359 что составляет 0.079 %\n",
      "sub_call_number_click = 3653 что составляет 0.023 %\n",
      "sub_callback_submit_click = 3074 что составляет 0.02 %\n",
      "sub_car_request_submit_click = 2966 что составляет 0.019 %\n",
      "sub_custom_question_submit_click = 619 что составляет 0.004 %\n"
     ]
    }
   ],
   "source": [
    "# Выведем, сколько всего целевых действий и их долю в общем количестве действий\n",
    "all_targets = ['sub_car_claim_click',\n",
    "               'sub_car_claim_submit_click',\n",
    "               'sub_open_dialog_click',\n",
    "               'sub_custom_question_submit_click',\n",
    "               'sub_call_number_click',\n",
    "               'sub_callback_submit_click',\n",
    "               'sub_submit_success',\n",
    "               'sub_car_request_submit_click']\n",
    "\n",
    "sorted_all_targets = []\n",
    "total = 0\n",
    "labels, data = [], []\n",
    "\n",
    "for targets_name in all_targets:\n",
    "    \n",
    "    value = len(df_hits[df_hits['event_action'] == targets_name])\n",
    "    percent = round(value/len(df_hits)*100, 3)\n",
    "    sorted_all_targets.append((targets_name, value, percent))\n",
    "    \n",
    "    total += value\n",
    "    \n",
    "sorted_all_targets = sorted(sorted_all_targets, key=lambda sorted_all_targets: sorted_all_targets[1],  reverse=True)\n",
    "print(f'\\n\\nВсего целевых действий = {total} из {len(df_hits)} что составляет {total/len(df_hits)*100: .2f} %\\n')\n",
    "for target in sorted_all_targets:\n",
    "    data.append(target[1])\n",
    "    labels.append(target)\n",
    "    print(target[0], '=', target[1], 'что составляет', target[2], '%') "
   ]
  },
  {
   "cell_type": "code",
   "execution_count": 21,
   "metadata": {},
   "outputs": [
    {
     "data": {
      "text/plain": [
       "5442565791571325612.1632449195.1632449195    768\n",
       "6568868914238486437.1632270313.1632270313    678\n",
       "5959671972744778783.1632490527.1632490600    548\n",
       "7452598043578978502.1632358598.1632358598    514\n",
       "3070792010704358528.1629752408.1629752408    498\n",
       "Name: session_id, dtype: int64"
      ]
     },
     "execution_count": 21,
     "metadata": {},
     "output_type": "execute_result"
    }
   ],
   "source": [
    "event_counts = df_hits['session_id'].value_counts() # рассчитаем количество событий в одну сессию\n",
    "event_counts.head(5)"
   ]
  },
  {
   "cell_type": "code",
   "execution_count": 22,
   "metadata": {},
   "outputs": [
    {
     "data": {
      "text/html": [
       "<div>\n",
       "<style scoped>\n",
       "    .dataframe tbody tr th:only-of-type {\n",
       "        vertical-align: middle;\n",
       "    }\n",
       "\n",
       "    .dataframe tbody tr th {\n",
       "        vertical-align: top;\n",
       "    }\n",
       "\n",
       "    .dataframe thead th {\n",
       "        text-align: right;\n",
       "    }\n",
       "</style>\n",
       "<table border=\"1\" class=\"dataframe\">\n",
       "  <thead>\n",
       "    <tr style=\"text-align: right;\">\n",
       "      <th></th>\n",
       "      <th></th>\n",
       "      <th>hit_time</th>\n",
       "      <th>hit_number</th>\n",
       "      <th>hit_type</th>\n",
       "      <th>hit_referer</th>\n",
       "      <th>hit_page_path</th>\n",
       "      <th>event_category</th>\n",
       "      <th>event_action</th>\n",
       "      <th>event_label</th>\n",
       "      <th>event_value</th>\n",
       "    </tr>\n",
       "    <tr>\n",
       "      <th>session_id</th>\n",
       "      <th>hit_date</th>\n",
       "      <th></th>\n",
       "      <th></th>\n",
       "      <th></th>\n",
       "      <th></th>\n",
       "      <th></th>\n",
       "      <th></th>\n",
       "      <th></th>\n",
       "      <th></th>\n",
       "      <th></th>\n",
       "    </tr>\n",
       "  </thead>\n",
       "  <tbody>\n",
       "    <tr>\n",
       "      <th>5442565791571325612.1632449195.1632449195</th>\n",
       "      <th>2021-09-24</th>\n",
       "      <td>384</td>\n",
       "      <td>768</td>\n",
       "      <td>768</td>\n",
       "      <td>384</td>\n",
       "      <td>768</td>\n",
       "      <td>768</td>\n",
       "      <td>768</td>\n",
       "      <td>430</td>\n",
       "      <td>0</td>\n",
       "    </tr>\n",
       "    <tr>\n",
       "      <th>6568868914238486437.1632270313.1632270313</th>\n",
       "      <th>2021-09-22</th>\n",
       "      <td>339</td>\n",
       "      <td>678</td>\n",
       "      <td>678</td>\n",
       "      <td>339</td>\n",
       "      <td>678</td>\n",
       "      <td>678</td>\n",
       "      <td>678</td>\n",
       "      <td>439</td>\n",
       "      <td>0</td>\n",
       "    </tr>\n",
       "    <tr>\n",
       "      <th>5959671972744778783.1632490527.1632490600</th>\n",
       "      <th>2021-09-24</th>\n",
       "      <td>274</td>\n",
       "      <td>548</td>\n",
       "      <td>548</td>\n",
       "      <td>274</td>\n",
       "      <td>548</td>\n",
       "      <td>548</td>\n",
       "      <td>548</td>\n",
       "      <td>320</td>\n",
       "      <td>0</td>\n",
       "    </tr>\n",
       "    <tr>\n",
       "      <th>7452598043578978502.1632358598.1632358598</th>\n",
       "      <th>2021-09-23</th>\n",
       "      <td>257</td>\n",
       "      <td>514</td>\n",
       "      <td>514</td>\n",
       "      <td>257</td>\n",
       "      <td>514</td>\n",
       "      <td>514</td>\n",
       "      <td>514</td>\n",
       "      <td>257</td>\n",
       "      <td>0</td>\n",
       "    </tr>\n",
       "    <tr>\n",
       "      <th>3070792010704358528.1629752408.1629752408</th>\n",
       "      <th>2021-08-24</th>\n",
       "      <td>0</td>\n",
       "      <td>498</td>\n",
       "      <td>498</td>\n",
       "      <td>498</td>\n",
       "      <td>498</td>\n",
       "      <td>498</td>\n",
       "      <td>498</td>\n",
       "      <td>498</td>\n",
       "      <td>0</td>\n",
       "    </tr>\n",
       "    <tr>\n",
       "      <th>...</th>\n",
       "      <th>...</th>\n",
       "      <td>...</td>\n",
       "      <td>...</td>\n",
       "      <td>...</td>\n",
       "      <td>...</td>\n",
       "      <td>...</td>\n",
       "      <td>...</td>\n",
       "      <td>...</td>\n",
       "      <td>...</td>\n",
       "      <td>...</td>\n",
       "    </tr>\n",
       "    <tr>\n",
       "      <th>7332600372471986108.1628931928.1628931928</th>\n",
       "      <th>2021-08-14</th>\n",
       "      <td>0</td>\n",
       "      <td>1</td>\n",
       "      <td>1</td>\n",
       "      <td>1</td>\n",
       "      <td>1</td>\n",
       "      <td>1</td>\n",
       "      <td>1</td>\n",
       "      <td>1</td>\n",
       "      <td>0</td>\n",
       "    </tr>\n",
       "    <tr>\n",
       "      <th>7332600372471986108.1628929805.1628929805</th>\n",
       "      <th>2021-08-14</th>\n",
       "      <td>0</td>\n",
       "      <td>1</td>\n",
       "      <td>1</td>\n",
       "      <td>1</td>\n",
       "      <td>1</td>\n",
       "      <td>1</td>\n",
       "      <td>1</td>\n",
       "      <td>1</td>\n",
       "      <td>0</td>\n",
       "    </tr>\n",
       "    <tr>\n",
       "      <th>7332600372471986108.1628926536.1628926536</th>\n",
       "      <th>2021-08-14</th>\n",
       "      <td>0</td>\n",
       "      <td>1</td>\n",
       "      <td>1</td>\n",
       "      <td>1</td>\n",
       "      <td>1</td>\n",
       "      <td>1</td>\n",
       "      <td>1</td>\n",
       "      <td>1</td>\n",
       "      <td>0</td>\n",
       "    </tr>\n",
       "    <tr>\n",
       "      <th>1803809424682563762.1622456508.1622456508</th>\n",
       "      <th>2021-05-31</th>\n",
       "      <td>0</td>\n",
       "      <td>1</td>\n",
       "      <td>1</td>\n",
       "      <td>1</td>\n",
       "      <td>1</td>\n",
       "      <td>1</td>\n",
       "      <td>1</td>\n",
       "      <td>1</td>\n",
       "      <td>0</td>\n",
       "    </tr>\n",
       "    <tr>\n",
       "      <th>999989480451054428.1634311006.1634311006</th>\n",
       "      <th>2021-10-15</th>\n",
       "      <td>0</td>\n",
       "      <td>1</td>\n",
       "      <td>1</td>\n",
       "      <td>1</td>\n",
       "      <td>1</td>\n",
       "      <td>1</td>\n",
       "      <td>1</td>\n",
       "      <td>1</td>\n",
       "      <td>0</td>\n",
       "    </tr>\n",
       "  </tbody>\n",
       "</table>\n",
       "<p>1734610 rows × 9 columns</p>\n",
       "</div>"
      ],
      "text/plain": [
       "                                                      hit_time  hit_number  \\\n",
       "session_id                                hit_date                           \n",
       "5442565791571325612.1632449195.1632449195 2021-09-24       384         768   \n",
       "6568868914238486437.1632270313.1632270313 2021-09-22       339         678   \n",
       "5959671972744778783.1632490527.1632490600 2021-09-24       274         548   \n",
       "7452598043578978502.1632358598.1632358598 2021-09-23       257         514   \n",
       "3070792010704358528.1629752408.1629752408 2021-08-24         0         498   \n",
       "...                                                        ...         ...   \n",
       "7332600372471986108.1628931928.1628931928 2021-08-14         0           1   \n",
       "7332600372471986108.1628929805.1628929805 2021-08-14         0           1   \n",
       "7332600372471986108.1628926536.1628926536 2021-08-14         0           1   \n",
       "1803809424682563762.1622456508.1622456508 2021-05-31         0           1   \n",
       "999989480451054428.1634311006.1634311006  2021-10-15         0           1   \n",
       "\n",
       "                                                      hit_type  hit_referer  \\\n",
       "session_id                                hit_date                            \n",
       "5442565791571325612.1632449195.1632449195 2021-09-24       768          384   \n",
       "6568868914238486437.1632270313.1632270313 2021-09-22       678          339   \n",
       "5959671972744778783.1632490527.1632490600 2021-09-24       548          274   \n",
       "7452598043578978502.1632358598.1632358598 2021-09-23       514          257   \n",
       "3070792010704358528.1629752408.1629752408 2021-08-24       498          498   \n",
       "...                                                        ...          ...   \n",
       "7332600372471986108.1628931928.1628931928 2021-08-14         1            1   \n",
       "7332600372471986108.1628929805.1628929805 2021-08-14         1            1   \n",
       "7332600372471986108.1628926536.1628926536 2021-08-14         1            1   \n",
       "1803809424682563762.1622456508.1622456508 2021-05-31         1            1   \n",
       "999989480451054428.1634311006.1634311006  2021-10-15         1            1   \n",
       "\n",
       "                                                      hit_page_path  \\\n",
       "session_id                                hit_date                    \n",
       "5442565791571325612.1632449195.1632449195 2021-09-24            768   \n",
       "6568868914238486437.1632270313.1632270313 2021-09-22            678   \n",
       "5959671972744778783.1632490527.1632490600 2021-09-24            548   \n",
       "7452598043578978502.1632358598.1632358598 2021-09-23            514   \n",
       "3070792010704358528.1629752408.1629752408 2021-08-24            498   \n",
       "...                                                             ...   \n",
       "7332600372471986108.1628931928.1628931928 2021-08-14              1   \n",
       "7332600372471986108.1628929805.1628929805 2021-08-14              1   \n",
       "7332600372471986108.1628926536.1628926536 2021-08-14              1   \n",
       "1803809424682563762.1622456508.1622456508 2021-05-31              1   \n",
       "999989480451054428.1634311006.1634311006  2021-10-15              1   \n",
       "\n",
       "                                                      event_category  \\\n",
       "session_id                                hit_date                     \n",
       "5442565791571325612.1632449195.1632449195 2021-09-24             768   \n",
       "6568868914238486437.1632270313.1632270313 2021-09-22             678   \n",
       "5959671972744778783.1632490527.1632490600 2021-09-24             548   \n",
       "7452598043578978502.1632358598.1632358598 2021-09-23             514   \n",
       "3070792010704358528.1629752408.1629752408 2021-08-24             498   \n",
       "...                                                              ...   \n",
       "7332600372471986108.1628931928.1628931928 2021-08-14               1   \n",
       "7332600372471986108.1628929805.1628929805 2021-08-14               1   \n",
       "7332600372471986108.1628926536.1628926536 2021-08-14               1   \n",
       "1803809424682563762.1622456508.1622456508 2021-05-31               1   \n",
       "999989480451054428.1634311006.1634311006  2021-10-15               1   \n",
       "\n",
       "                                                      event_action  \\\n",
       "session_id                                hit_date                   \n",
       "5442565791571325612.1632449195.1632449195 2021-09-24           768   \n",
       "6568868914238486437.1632270313.1632270313 2021-09-22           678   \n",
       "5959671972744778783.1632490527.1632490600 2021-09-24           548   \n",
       "7452598043578978502.1632358598.1632358598 2021-09-23           514   \n",
       "3070792010704358528.1629752408.1629752408 2021-08-24           498   \n",
       "...                                                            ...   \n",
       "7332600372471986108.1628931928.1628931928 2021-08-14             1   \n",
       "7332600372471986108.1628929805.1628929805 2021-08-14             1   \n",
       "7332600372471986108.1628926536.1628926536 2021-08-14             1   \n",
       "1803809424682563762.1622456508.1622456508 2021-05-31             1   \n",
       "999989480451054428.1634311006.1634311006  2021-10-15             1   \n",
       "\n",
       "                                                      event_label  event_value  \n",
       "session_id                                hit_date                              \n",
       "5442565791571325612.1632449195.1632449195 2021-09-24          430            0  \n",
       "6568868914238486437.1632270313.1632270313 2021-09-22          439            0  \n",
       "5959671972744778783.1632490527.1632490600 2021-09-24          320            0  \n",
       "7452598043578978502.1632358598.1632358598 2021-09-23          257            0  \n",
       "3070792010704358528.1629752408.1629752408 2021-08-24          498            0  \n",
       "...                                                           ...          ...  \n",
       "7332600372471986108.1628931928.1628931928 2021-08-14            1            0  \n",
       "7332600372471986108.1628929805.1628929805 2021-08-14            1            0  \n",
       "7332600372471986108.1628926536.1628926536 2021-08-14            1            0  \n",
       "1803809424682563762.1622456508.1622456508 2021-05-31            1            0  \n",
       "999989480451054428.1634311006.1634311006  2021-10-15            1            0  \n",
       "\n",
       "[1734610 rows x 9 columns]"
      ]
     },
     "execution_count": 22,
     "metadata": {},
     "output_type": "execute_result"
    }
   ],
   "source": [
    "dates_max_events = df_hits.groupby(['session_id', 'hit_date']).count()\n",
    "dates_max_events.sort_values(by='event_action', ascending=False)"
   ]
  },
  {
   "cell_type": "code",
   "execution_count": 23,
   "metadata": {},
   "outputs": [
    {
     "data": {
      "text/html": [
       "<div>\n",
       "<style scoped>\n",
       "    .dataframe tbody tr th:only-of-type {\n",
       "        vertical-align: middle;\n",
       "    }\n",
       "\n",
       "    .dataframe tbody tr th {\n",
       "        vertical-align: top;\n",
       "    }\n",
       "\n",
       "    .dataframe thead th {\n",
       "        text-align: right;\n",
       "    }\n",
       "</style>\n",
       "<table border=\"1\" class=\"dataframe\">\n",
       "  <thead>\n",
       "    <tr style=\"text-align: right;\">\n",
       "      <th></th>\n",
       "      <th>index</th>\n",
       "      <th>session_id</th>\n",
       "    </tr>\n",
       "  </thead>\n",
       "  <tbody>\n",
       "    <tr>\n",
       "      <th>0</th>\n",
       "      <td>1</td>\n",
       "      <td>537243</td>\n",
       "    </tr>\n",
       "    <tr>\n",
       "      <th>1</th>\n",
       "      <td>2</td>\n",
       "      <td>237658</td>\n",
       "    </tr>\n",
       "    <tr>\n",
       "      <th>2</th>\n",
       "      <td>6</td>\n",
       "      <td>88086</td>\n",
       "    </tr>\n",
       "    <tr>\n",
       "      <th>3</th>\n",
       "      <td>3</td>\n",
       "      <td>85233</td>\n",
       "    </tr>\n",
       "    <tr>\n",
       "      <th>4</th>\n",
       "      <td>4</td>\n",
       "      <td>63603</td>\n",
       "    </tr>\n",
       "    <tr>\n",
       "      <th>...</th>\n",
       "      <td>...</td>\n",
       "      <td>...</td>\n",
       "    </tr>\n",
       "    <tr>\n",
       "      <th>346</th>\n",
       "      <td>304</td>\n",
       "      <td>1</td>\n",
       "    </tr>\n",
       "    <tr>\n",
       "      <th>347</th>\n",
       "      <td>302</td>\n",
       "      <td>1</td>\n",
       "    </tr>\n",
       "    <tr>\n",
       "      <th>348</th>\n",
       "      <td>296</td>\n",
       "      <td>1</td>\n",
       "    </tr>\n",
       "    <tr>\n",
       "      <th>349</th>\n",
       "      <td>295</td>\n",
       "      <td>1</td>\n",
       "    </tr>\n",
       "    <tr>\n",
       "      <th>350</th>\n",
       "      <td>768</td>\n",
       "      <td>1</td>\n",
       "    </tr>\n",
       "  </tbody>\n",
       "</table>\n",
       "<p>351 rows × 2 columns</p>\n",
       "</div>"
      ],
      "text/plain": [
       "     index  session_id\n",
       "0        1      537243\n",
       "1        2      237658\n",
       "2        6       88086\n",
       "3        3       85233\n",
       "4        4       63603\n",
       "..     ...         ...\n",
       "346    304           1\n",
       "347    302           1\n",
       "348    296           1\n",
       "349    295           1\n",
       "350    768           1\n",
       "\n",
       "[351 rows x 2 columns]"
      ]
     },
     "execution_count": 23,
     "metadata": {},
     "output_type": "execute_result"
    }
   ],
   "source": [
    "# выведем частоту событий в одну сессию\n",
    "d = pd.DataFrame(event_counts.value_counts())\n",
    "d.reset_index(inplace= True)\n",
    "d"
   ]
  },
  {
   "cell_type": "code",
   "execution_count": 24,
   "metadata": {},
   "outputs": [
    {
     "data": {
      "text/html": [
       "<div>\n",
       "<style scoped>\n",
       "    .dataframe tbody tr th:only-of-type {\n",
       "        vertical-align: middle;\n",
       "    }\n",
       "\n",
       "    .dataframe tbody tr th {\n",
       "        vertical-align: top;\n",
       "    }\n",
       "\n",
       "    .dataframe thead th {\n",
       "        text-align: right;\n",
       "    }\n",
       "</style>\n",
       "<table border=\"1\" class=\"dataframe\">\n",
       "  <thead>\n",
       "    <tr style=\"text-align: right;\">\n",
       "      <th></th>\n",
       "      <th>hit_time</th>\n",
       "      <th>hit_number</th>\n",
       "      <th>event_value</th>\n",
       "    </tr>\n",
       "  </thead>\n",
       "  <tbody>\n",
       "    <tr>\n",
       "      <th>hit_time</th>\n",
       "      <td>1.000000</td>\n",
       "      <td>0.605906</td>\n",
       "      <td>NaN</td>\n",
       "    </tr>\n",
       "    <tr>\n",
       "      <th>hit_number</th>\n",
       "      <td>0.605906</td>\n",
       "      <td>1.000000</td>\n",
       "      <td>NaN</td>\n",
       "    </tr>\n",
       "    <tr>\n",
       "      <th>event_value</th>\n",
       "      <td>NaN</td>\n",
       "      <td>NaN</td>\n",
       "      <td>NaN</td>\n",
       "    </tr>\n",
       "  </tbody>\n",
       "</table>\n",
       "</div>"
      ],
      "text/plain": [
       "             hit_time  hit_number  event_value\n",
       "hit_time     1.000000    0.605906          NaN\n",
       "hit_number   0.605906    1.000000          NaN\n",
       "event_value       NaN         NaN          NaN"
      ]
     },
     "execution_count": 24,
     "metadata": {},
     "output_type": "execute_result"
    }
   ],
   "source": [
    "df_hits.corr()"
   ]
  },
  {
   "cell_type": "code",
   "execution_count": 25,
   "metadata": {},
   "outputs": [
    {
     "data": {
      "image/png": "[encoded data removed]",
      "text/plain": [
       "<Figure size 864x432 with 1 Axes>"
      ]
     },
     "metadata": {},
     "output_type": "display_data"
    }
   ],
   "source": [
    "%matplotlib inline\n",
    "import numpy as np\n",
    "import matplotlib.pyplot as plt\n",
    "\n",
    "x = np.arange(1, 352)\n",
    "y = d['session_id']# \n",
    "\n",
    "fig, ax = plt.subplots()\n",
    "\n",
    "ax.bar(x, y)\n",
    "plt.title('Частота событий за сессию')\n",
    "ax.set_facecolor('seashell')\n",
    "fig.set_facecolor('floralwhite')\n",
    "fig.set_figwidth(12)    #  ширина Figure\n",
    "fig.set_figheight(6)    #  высота Figure\n",
    "\n",
    "plt.show()"
   ]
  },
  {
   "cell_type": "code",
   "execution_count": 26,
   "metadata": {},
   "outputs": [
    {
     "data": {
      "image/png": "[encoded data removed]",
      "text/plain": [
       "<Figure size 2160x216 with 1 Axes>"
      ]
     },
     "metadata": {
      "needs_background": "light"
     },
     "output_type": "display_data"
    }
   ],
   "source": [
    "plt.figure(figsize=(30, 3))\n",
    "plt.title('Диаграмма размаха количества событий за сессию')\n",
    "plt.xlim(0, 800)\n",
    "sns.boxplot(x=event_counts);"
   ]
  },
  {
   "attachments": {},
   "cell_type": "markdown",
   "metadata": {},
   "source": [
    "# Дополнение датасета df_session целевой переменной"
   ]
  },
  {
   "attachments": {},
   "cell_type": "markdown",
   "metadata": {},
   "source": [
    "Дополним датасет новым столбцом `target`, куда запишем целевые события, которые возьмем из  переменной `event_action`. Целевую переменную считаем положительной, если за сессию состоялось хотя бы одно из целевых событий. Для тех сессий в `session`, для которых не нашлось ни одного события в `df_hits`, целевую переменную заполняем значением `0`."
   ]
  },
  {
   "cell_type": "code",
   "execution_count": 27,
   "metadata": {},
   "outputs": [],
   "source": [
    "df_hits['target'] = df_hits['event_action'].isin(all_targets) # заполняет столбец df_hits['target'] 'True', если df_hits['event_action'] содержит целевую\n",
    "target = df_hits.groupby('session_id')['target'].any() # target группирует по id (session_id) и по столбцу 'target', то есть все одинаковые session_id собираются\n",
    "df_sessions = df_sessions.join(target, on='session_id') # добавляем к df_session target"
   ]
  },
  {
   "cell_type": "code",
   "execution_count": 28,
   "metadata": {},
   "outputs": [
    {
     "data": {
      "text/html": [
       "<div>\n",
       "<style scoped>\n",
       "    .dataframe tbody tr th:only-of-type {\n",
       "        vertical-align: middle;\n",
       "    }\n",
       "\n",
       "    .dataframe tbody tr th {\n",
       "        vertical-align: top;\n",
       "    }\n",
       "\n",
       "    .dataframe thead th {\n",
       "        text-align: right;\n",
       "    }\n",
       "</style>\n",
       "<table border=\"1\" class=\"dataframe\">\n",
       "  <thead>\n",
       "    <tr style=\"text-align: right;\">\n",
       "      <th></th>\n",
       "      <th>session_id</th>\n",
       "      <th>client_id</th>\n",
       "      <th>visit_date</th>\n",
       "      <th>visit_time</th>\n",
       "      <th>visit_number</th>\n",
       "      <th>utm_source</th>\n",
       "      <th>utm_medium</th>\n",
       "      <th>utm_campaign</th>\n",
       "      <th>utm_adcontent</th>\n",
       "      <th>utm_keyword</th>\n",
       "      <th>device_category</th>\n",
       "      <th>device_os</th>\n",
       "      <th>device_brand</th>\n",
       "      <th>device_model</th>\n",
       "      <th>device_screen_resolution</th>\n",
       "      <th>device_browser</th>\n",
       "      <th>geo_country</th>\n",
       "      <th>geo_city</th>\n",
       "      <th>target</th>\n",
       "    </tr>\n",
       "  </thead>\n",
       "  <tbody>\n",
       "    <tr>\n",
       "      <th>0</th>\n",
       "      <td>9055434745589932991.1637753792.1637753792</td>\n",
       "      <td>2108382700.1637753791</td>\n",
       "      <td>2021-11-24</td>\n",
       "      <td>14:36:32</td>\n",
       "      <td>1</td>\n",
       "      <td>ZpYIoDJMcFzVoPFsHGJL</td>\n",
       "      <td>banner</td>\n",
       "      <td>LEoPHuyFvzoNfnzGgfcd</td>\n",
       "      <td>vCIpmpaGBnIQhyYNkXqp</td>\n",
       "      <td>puhZPIYqKXeFPaUviSjo</td>\n",
       "      <td>mobile</td>\n",
       "      <td>Android</td>\n",
       "      <td>Huawei</td>\n",
       "      <td>NaN</td>\n",
       "      <td>360x720</td>\n",
       "      <td>Chrome</td>\n",
       "      <td>Russia</td>\n",
       "      <td>Zlatoust</td>\n",
       "      <td>False</td>\n",
       "    </tr>\n",
       "    <tr>\n",
       "      <th>1</th>\n",
       "      <td>905544597018549464.1636867290.1636867290</td>\n",
       "      <td>210838531.1636867288</td>\n",
       "      <td>2021-11-14</td>\n",
       "      <td>08:21:30</td>\n",
       "      <td>1</td>\n",
       "      <td>MvfHsxITijuriZxsqZqt</td>\n",
       "      <td>cpm</td>\n",
       "      <td>FTjNLDyTrXaWYgZymFkV</td>\n",
       "      <td>xhoenQgDQsgfEPYNPwKO</td>\n",
       "      <td>IGUCNvHlhfHpROGclCit</td>\n",
       "      <td>mobile</td>\n",
       "      <td>Android</td>\n",
       "      <td>Samsung</td>\n",
       "      <td>NaN</td>\n",
       "      <td>385x854</td>\n",
       "      <td>Samsung Internet</td>\n",
       "      <td>Russia</td>\n",
       "      <td>Moscow</td>\n",
       "      <td>False</td>\n",
       "    </tr>\n",
       "    <tr>\n",
       "      <th>2</th>\n",
       "      <td>9055446045651783499.1640648526.1640648526</td>\n",
       "      <td>2108385331.1640648523</td>\n",
       "      <td>2021-12-28</td>\n",
       "      <td>02:42:06</td>\n",
       "      <td>1</td>\n",
       "      <td>ZpYIoDJMcFzVoPFsHGJL</td>\n",
       "      <td>banner</td>\n",
       "      <td>LEoPHuyFvzoNfnzGgfcd</td>\n",
       "      <td>vCIpmpaGBnIQhyYNkXqp</td>\n",
       "      <td>puhZPIYqKXeFPaUviSjo</td>\n",
       "      <td>mobile</td>\n",
       "      <td>Android</td>\n",
       "      <td>Huawei</td>\n",
       "      <td>NaN</td>\n",
       "      <td>360x720</td>\n",
       "      <td>Chrome</td>\n",
       "      <td>Russia</td>\n",
       "      <td>Krasnoyarsk</td>\n",
       "      <td>False</td>\n",
       "    </tr>\n",
       "    <tr>\n",
       "      <th>3</th>\n",
       "      <td>9055447046360770272.1622255328.1622255328</td>\n",
       "      <td>2108385564.1622255328</td>\n",
       "      <td>2021-05-29</td>\n",
       "      <td>05:00:00</td>\n",
       "      <td>1</td>\n",
       "      <td>kjsLglQLzykiRbcDiGcD</td>\n",
       "      <td>cpc</td>\n",
       "      <td>NaN</td>\n",
       "      <td>NOBKLgtuvqYWkXQHeYWM</td>\n",
       "      <td>NaN</td>\n",
       "      <td>mobile</td>\n",
       "      <td>NaN</td>\n",
       "      <td>Xiaomi</td>\n",
       "      <td>NaN</td>\n",
       "      <td>393x786</td>\n",
       "      <td>Chrome</td>\n",
       "      <td>Russia</td>\n",
       "      <td>Moscow</td>\n",
       "      <td>False</td>\n",
       "    </tr>\n",
       "    <tr>\n",
       "      <th>4</th>\n",
       "      <td>9055447046360770272.1622255345.1622255345</td>\n",
       "      <td>2108385564.1622255328</td>\n",
       "      <td>2021-05-29</td>\n",
       "      <td>05:00:00</td>\n",
       "      <td>2</td>\n",
       "      <td>kjsLglQLzykiRbcDiGcD</td>\n",
       "      <td>cpc</td>\n",
       "      <td>NaN</td>\n",
       "      <td>NaN</td>\n",
       "      <td>NaN</td>\n",
       "      <td>mobile</td>\n",
       "      <td>NaN</td>\n",
       "      <td>Xiaomi</td>\n",
       "      <td>NaN</td>\n",
       "      <td>393x786</td>\n",
       "      <td>Chrome</td>\n",
       "      <td>Russia</td>\n",
       "      <td>Moscow</td>\n",
       "      <td>False</td>\n",
       "    </tr>\n",
       "  </tbody>\n",
       "</table>\n",
       "</div>"
      ],
      "text/plain": [
       "                                  session_id              client_id  \\\n",
       "0  9055434745589932991.1637753792.1637753792  2108382700.1637753791   \n",
       "1   905544597018549464.1636867290.1636867290   210838531.1636867288   \n",
       "2  9055446045651783499.1640648526.1640648526  2108385331.1640648523   \n",
       "3  9055447046360770272.1622255328.1622255328  2108385564.1622255328   \n",
       "4  9055447046360770272.1622255345.1622255345  2108385564.1622255328   \n",
       "\n",
       "   visit_date visit_time  visit_number            utm_source utm_medium  \\\n",
       "0  2021-11-24   14:36:32             1  ZpYIoDJMcFzVoPFsHGJL     banner   \n",
       "1  2021-11-14   08:21:30             1  MvfHsxITijuriZxsqZqt        cpm   \n",
       "2  2021-12-28   02:42:06             1  ZpYIoDJMcFzVoPFsHGJL     banner   \n",
       "3  2021-05-29   05:00:00             1  kjsLglQLzykiRbcDiGcD        cpc   \n",
       "4  2021-05-29   05:00:00             2  kjsLglQLzykiRbcDiGcD        cpc   \n",
       "\n",
       "           utm_campaign         utm_adcontent           utm_keyword  \\\n",
       "0  LEoPHuyFvzoNfnzGgfcd  vCIpmpaGBnIQhyYNkXqp  puhZPIYqKXeFPaUviSjo   \n",
       "1  FTjNLDyTrXaWYgZymFkV  xhoenQgDQsgfEPYNPwKO  IGUCNvHlhfHpROGclCit   \n",
       "2  LEoPHuyFvzoNfnzGgfcd  vCIpmpaGBnIQhyYNkXqp  puhZPIYqKXeFPaUviSjo   \n",
       "3                   NaN  NOBKLgtuvqYWkXQHeYWM                   NaN   \n",
       "4                   NaN                   NaN                   NaN   \n",
       "\n",
       "  device_category device_os device_brand device_model  \\\n",
       "0          mobile   Android       Huawei          NaN   \n",
       "1          mobile   Android      Samsung          NaN   \n",
       "2          mobile   Android       Huawei          NaN   \n",
       "3          mobile       NaN       Xiaomi          NaN   \n",
       "4          mobile       NaN       Xiaomi          NaN   \n",
       "\n",
       "  device_screen_resolution    device_browser geo_country     geo_city target  \n",
       "0                  360x720            Chrome      Russia     Zlatoust  False  \n",
       "1                  385x854  Samsung Internet      Russia       Moscow  False  \n",
       "2                  360x720            Chrome      Russia  Krasnoyarsk  False  \n",
       "3                  393x786            Chrome      Russia       Moscow  False  \n",
       "4                  393x786            Chrome      Russia       Moscow  False  "
      ]
     },
     "execution_count": 28,
     "metadata": {},
     "output_type": "execute_result"
    }
   ],
   "source": [
    "df_sessions.head()"
   ]
  },
  {
   "cell_type": "code",
   "execution_count": 29,
   "metadata": {},
   "outputs": [
    {
     "name": "stdout",
     "output_type": "stream",
     "text": [
      "Распределение целевой переменной:\n"
     ]
    },
    {
     "data": {
      "text/plain": [
       "False    90.43%\n",
       "NaN       6.87%\n",
       "True      2.70%\n",
       "Name: target, dtype: object"
      ]
     },
     "execution_count": 29,
     "metadata": {},
     "output_type": "execute_result"
    }
   ],
   "source": [
    "def as_percent(x: float) -> str:\n",
    "    \"\"\"Используется для преобразования доли в процент (в виде строки).\"\"\"\n",
    "    \n",
    "    return f'{x:0.2%}'\n",
    "\n",
    "print('Распределение целевой переменной:')\n",
    "df_sessions[\"target\"].value_counts(dropna=False, normalize=True).apply(as_percent)"
   ]
  },
  {
   "attachments": {},
   "cell_type": "markdown",
   "metadata": {},
   "source": [
    "Только 2,7% всех активностей пользователей закончились каким-либо целевым действием."
   ]
  },
  {
   "cell_type": "code",
   "execution_count": 30,
   "metadata": {},
   "outputs": [],
   "source": [
    "df_sessions['target'] = df_sessions['target'].fillna(False).astype(int) # заполним Nan как False (не целевое действие) и все закодируем в '0' и '1' "
   ]
  },
  {
   "cell_type": "code",
   "execution_count": 31,
   "metadata": {},
   "outputs": [
    {
     "data": {
      "text/plain": [
       "0    97.30%\n",
       "1     2.70%\n",
       "Name: target, dtype: object"
      ]
     },
     "execution_count": 31,
     "metadata": {},
     "output_type": "execute_result"
    }
   ],
   "source": [
    "df_sessions[\"target\"].value_counts(dropna=False, normalize=True).apply(as_percent)"
   ]
  },
  {
   "cell_type": "code",
   "execution_count": 32,
   "metadata": {},
   "outputs": [
    {
     "data": {
      "text/plain": [
       "False    15621562\n",
       "True       104908\n",
       "Name: target, dtype: int64"
      ]
     },
     "execution_count": 32,
     "metadata": {},
     "output_type": "execute_result"
    }
   ],
   "source": [
    "df_hits['target'].value_counts()"
   ]
  },
  {
   "attachments": {},
   "cell_type": "markdown",
   "metadata": {},
   "source": [
    "Всего целевых действий 104,9 тыс. ед., нецелевых активнотей 1562,1 тыс. ед."
   ]
  },
  {
   "attachments": {},
   "cell_type": "markdown",
   "metadata": {},
   "source": [
    "# Анализ датасета df_sessions "
   ]
  },
  {
   "attachments": {},
   "cell_type": "markdown",
   "metadata": {},
   "source": [
    "## Анализ переменной sessions_id"
   ]
  },
  {
   "cell_type": "code",
   "execution_count": 33,
   "metadata": {},
   "outputs": [
    {
     "name": "stdout",
     "output_type": "stream",
     "text": [
      "Все значения колонки `session_id` уникальны: 1860042\n"
     ]
    }
   ],
   "source": [
    "all_unique = df_sessions['session_id'].nunique()\n",
    "print(f'Все значения колонки `session_id` уникальны: {all_unique}')"
   ]
  },
  {
   "attachments": {},
   "cell_type": "markdown",
   "metadata": {},
   "source": [
    "## Анализ переменной client_id"
   ]
  },
  {
   "cell_type": "code",
   "execution_count": 34,
   "metadata": {},
   "outputs": [
    {
     "name": "stdout",
     "output_type": "stream",
     "text": [
      "Доля уникальных значений в `client_id`: 74.82% от общего количества.\n"
     ]
    }
   ],
   "source": [
    "print(f'Доля уникальных значений в `client_id`: '\n",
    "      f'{df_sessions[\"client_id\"].nunique()/len(df_sessions)*100:.2f}% от общего количества.')"
   ]
  },
  {
   "attachments": {},
   "cell_type": "markdown",
   "metadata": {},
   "source": [
    "## Анализ переменной visit_date  "
   ]
  },
  {
   "cell_type": "code",
   "execution_count": 35,
   "metadata": {},
   "outputs": [
    {
     "name": "stdout",
     "output_type": "stream",
     "text": [
      "Количество уникальных значений в `visit_date`: 226 ед.\n"
     ]
    }
   ],
   "source": [
    "df_sessions['visit_date'] = pd.to_datetime(df_sessions['visit_date']) # переведем данные столбца в формат даты\n",
    "n_unique = df_sessions['visit_date'].nunique()\n",
    "print(f'Количество уникальных значений в `visit_date`: {n_unique} ед.')"
   ]
  },
  {
   "cell_type": "code",
   "execution_count": 36,
   "metadata": {},
   "outputs": [
    {
     "data": {
      "text/plain": [
       "count                          1860042\n",
       "mean     2021-09-26 11:45:55.389394176\n",
       "min                2021-05-19 00:00:00\n",
       "25%                2021-08-02 00:00:00\n",
       "50%                2021-10-06 00:00:00\n",
       "75%                2021-11-23 00:00:00\n",
       "max                2021-12-31 00:00:00\n",
       "Name: visit_date, dtype: object"
      ]
     },
     "execution_count": 36,
     "metadata": {},
     "output_type": "execute_result"
    }
   ],
   "source": [
    "df_sessions['visit_date'].describe(datetime_is_numeric=True) # детальное описание"
   ]
  },
  {
   "cell_type": "code",
   "execution_count": 37,
   "metadata": {},
   "outputs": [
    {
     "data": {
      "image/png": "[encoded data removed]",
      "text/plain": [
       "<Figure size 1800x360 with 1 Axes>"
      ]
     },
     "metadata": {
      "needs_background": "light"
     },
     "output_type": "display_data"
    }
   ],
   "source": [
    "plt.figure(figsize=(25, 5))\n",
    "sns.histplot(df_sessions, x='visit_date', discrete=True)\n",
    "plt.title('Количество сессий по дням');"
   ]
  },
  {
   "attachments": {},
   "cell_type": "markdown",
   "metadata": {},
   "source": [
    "Судя по графику в анализируемом периоде наблюдается рост посещений сервиса, что говорит о заинтересованности потребителей"
   ]
  },
  {
   "cell_type": "code",
   "execution_count": 38,
   "metadata": {},
   "outputs": [],
   "source": [
    "df_sessions['visit_date_weekday'] = df_sessions['visit_date'].dt.day_of_week # создаемновый признак \"день недели\" из даты визита"
   ]
  },
  {
   "cell_type": "code",
   "execution_count": 39,
   "metadata": {},
   "outputs": [
    {
     "data": {
      "image/png": "[encoded data removed]",
      "text/plain": [
       "<Figure size 1800x360 with 1 Axes>"
      ]
     },
     "metadata": {
      "needs_background": "light"
     },
     "output_type": "display_data"
    }
   ],
   "source": [
    "plt.figure(figsize=(25, 5))\n",
    "sns.histplot(data=df_sessions, x='visit_date_weekday', discrete=True)\n",
    "plt.title('Количество сессий по дням недели');"
   ]
  },
  {
   "cell_type": "code",
   "execution_count": 40,
   "metadata": {},
   "outputs": [],
   "source": [
    "# Функция определения процента целевых действий\n",
    "def target_percentage(\n",
    "    data: pd.DataFrame, \n",
    "    column: str, \n",
    "    index_name: str = '',\n",
    "    only_target: bool = False, \n",
    "    sort: bool = True, \n",
    "    percent: bool = True \n",
    ") -> Union[pd.DataFrame, pd.Series]:\n",
    "    \"\"\"Возвращает в удобном виде процент целевых действий (`target`==1) \n",
    "    по значениям заданной колонки `column`.\"\"\"\n",
    "\n",
    "    # вводим названия колонок\n",
    "    count = 'Количество объектов'\n",
    "    ratio = 'Доля от общего числа'\n",
    "    target = 'Процент целевых действий'\n",
    "\n",
    "    groupby = data.groupby(column)  # разбиваем по значениям\n",
    "    \n",
    "    # расчёт количества объектов и доли целевых действий\n",
    "    result = pd.DataFrame(index=groupby.groups)\n",
    "    result[count] = groupby[column].count()\n",
    "    result[ratio] = result[count] / len(data)\n",
    "    result[target] = groupby['target'].sum() / result[count]\n",
    "    \n",
    "    # форматирование выходной таблицы\n",
    "    result.index.name = index_name or column\n",
    "    if sort: result = result.sort_values(target, ascending=False)\n",
    "    if percent: \n",
    "        result[target] = result[target].apply(as_percent)\n",
    "        result[ratio] = result[ratio].apply(as_percent)\n",
    "    \n",
    "    # вывод результата результатов\n",
    "    if only_target: \n",
    "        return result[target].rename('target_percentage')\n",
    "    return result"
   ]
  },
  {
   "cell_type": "code",
   "execution_count": 41,
   "metadata": {},
   "outputs": [
    {
     "name": "stdout",
     "output_type": "stream",
     "text": [
      "Процент целевых действий по дням недели составляет:\n"
     ]
    },
    {
     "data": {
      "text/html": [
       "<div>\n",
       "<style scoped>\n",
       "    .dataframe tbody tr th:only-of-type {\n",
       "        vertical-align: middle;\n",
       "    }\n",
       "\n",
       "    .dataframe tbody tr th {\n",
       "        vertical-align: top;\n",
       "    }\n",
       "\n",
       "    .dataframe thead th {\n",
       "        text-align: right;\n",
       "    }\n",
       "</style>\n",
       "<table border=\"1\" class=\"dataframe\">\n",
       "  <thead>\n",
       "    <tr style=\"text-align: right;\">\n",
       "      <th></th>\n",
       "      <th>Количество объектов</th>\n",
       "      <th>Доля от общего числа</th>\n",
       "      <th>Процент целевых действий</th>\n",
       "    </tr>\n",
       "    <tr>\n",
       "      <th>День недели</th>\n",
       "      <th></th>\n",
       "      <th></th>\n",
       "      <th></th>\n",
       "    </tr>\n",
       "  </thead>\n",
       "  <tbody>\n",
       "    <tr>\n",
       "      <th>0</th>\n",
       "      <td>300906</td>\n",
       "      <td>16.18%</td>\n",
       "      <td>3.15%</td>\n",
       "    </tr>\n",
       "    <tr>\n",
       "      <th>1</th>\n",
       "      <td>305130</td>\n",
       "      <td>16.40%</td>\n",
       "      <td>2.84%</td>\n",
       "    </tr>\n",
       "    <tr>\n",
       "      <th>2</th>\n",
       "      <td>258616</td>\n",
       "      <td>13.90%</td>\n",
       "      <td>2.81%</td>\n",
       "    </tr>\n",
       "    <tr>\n",
       "      <th>3</th>\n",
       "      <td>274462</td>\n",
       "      <td>14.76%</td>\n",
       "      <td>2.63%</td>\n",
       "    </tr>\n",
       "    <tr>\n",
       "      <th>5</th>\n",
       "      <td>226397</td>\n",
       "      <td>12.17%</td>\n",
       "      <td>2.46%</td>\n",
       "    </tr>\n",
       "    <tr>\n",
       "      <th>6</th>\n",
       "      <td>225712</td>\n",
       "      <td>12.13%</td>\n",
       "      <td>2.45%</td>\n",
       "    </tr>\n",
       "    <tr>\n",
       "      <th>4</th>\n",
       "      <td>268819</td>\n",
       "      <td>14.45%</td>\n",
       "      <td>2.44%</td>\n",
       "    </tr>\n",
       "  </tbody>\n",
       "</table>\n",
       "</div>"
      ],
      "text/plain": [
       "             Количество объектов Доля от общего числа Процент целевых действий\n",
       "День недели                                                                   \n",
       "0                         300906               16.18%                    3.15%\n",
       "1                         305130               16.40%                    2.84%\n",
       "2                         258616               13.90%                    2.81%\n",
       "3                         274462               14.76%                    2.63%\n",
       "5                         226397               12.17%                    2.46%\n",
       "6                         225712               12.13%                    2.45%\n",
       "4                         268819               14.45%                    2.44%"
      ]
     },
     "execution_count": 41,
     "metadata": {},
     "output_type": "execute_result"
    }
   ],
   "source": [
    "print('Процент целевых действий по дням недели составляет:')\n",
    "target_percentage(df_sessions, 'visit_date_weekday', index_name='День недели')"
   ]
  },
  {
   "attachments": {},
   "cell_type": "markdown",
   "metadata": {},
   "source": [
    "Наибольший процент целевых дейсвий совершается в первой половине ннедели (с понедельника -0 по среду-2)"
   ]
  },
  {
   "attachments": {},
   "cell_type": "markdown",
   "metadata": {},
   "source": [
    "### Проанализируем количество посещений по выходным дням. Создадим новый признак, говорящий о выходном дне `visit_date_weekend`."
   ]
  },
  {
   "cell_type": "code",
   "execution_count": 42,
   "metadata": {},
   "outputs": [
    {
     "name": "stdout",
     "output_type": "stream",
     "text": [
      "Процент целевых действий по выходным дням составляет:\n"
     ]
    },
    {
     "data": {
      "text/html": [
       "<div>\n",
       "<style scoped>\n",
       "    .dataframe tbody tr th:only-of-type {\n",
       "        vertical-align: middle;\n",
       "    }\n",
       "\n",
       "    .dataframe tbody tr th {\n",
       "        vertical-align: top;\n",
       "    }\n",
       "\n",
       "    .dataframe thead th {\n",
       "        text-align: right;\n",
       "    }\n",
       "</style>\n",
       "<table border=\"1\" class=\"dataframe\">\n",
       "  <thead>\n",
       "    <tr style=\"text-align: right;\">\n",
       "      <th></th>\n",
       "      <th>Количество объектов</th>\n",
       "      <th>Доля от общего числа</th>\n",
       "      <th>Процент целевых действий</th>\n",
       "    </tr>\n",
       "    <tr>\n",
       "      <th>Выходной</th>\n",
       "      <th></th>\n",
       "      <th></th>\n",
       "      <th></th>\n",
       "    </tr>\n",
       "  </thead>\n",
       "  <tbody>\n",
       "    <tr>\n",
       "      <th>False</th>\n",
       "      <td>1407933</td>\n",
       "      <td>75.69%</td>\n",
       "      <td>2.78%</td>\n",
       "    </tr>\n",
       "    <tr>\n",
       "      <th>True</th>\n",
       "      <td>452109</td>\n",
       "      <td>24.31%</td>\n",
       "      <td>2.46%</td>\n",
       "    </tr>\n",
       "  </tbody>\n",
       "</table>\n",
       "</div>"
      ],
      "text/plain": [
       "          Количество объектов Доля от общего числа Процент целевых действий\n",
       "Выходной                                                                   \n",
       "False                 1407933               75.69%                    2.78%\n",
       "True                   452109               24.31%                    2.46%"
      ]
     },
     "execution_count": 42,
     "metadata": {},
     "output_type": "execute_result"
    }
   ],
   "source": [
    "df_sessions['visit_date_weekend'] = df_sessions['visit_date_weekday'] > 4 # присвоим \"True\" выходным (суббота и воскресенье) 5, 6 > 4\n",
    "print('Процент целевых действий по выходным дням составляет:')\n",
    "target_percentage(df_sessions, 'visit_date_weekend', index_name='Выходной')"
   ]
  },
  {
   "attachments": {},
   "cell_type": "markdown",
   "metadata": {},
   "source": [
    "### Проанализируем посещения по дням в месяце. Дополнительно создадим новый признак - день месяца `visit_date_day`."
   ]
  },
  {
   "cell_type": "code",
   "execution_count": 43,
   "metadata": {},
   "outputs": [],
   "source": [
    "df_sessions['visit_date_day'] = df_sessions['visit_date'].dt.day # заполняет столбец днем месяца из даты"
   ]
  },
  {
   "cell_type": "code",
   "execution_count": 44,
   "metadata": {},
   "outputs": [
    {
     "data": {
      "image/png": "[encoded data removed]",
      "text/plain": [
       "<Figure size 1800x720 with 2 Axes>"
      ]
     },
     "metadata": {
      "needs_background": "light"
     },
     "output_type": "display_data"
    }
   ],
   "source": [
    "_, (ax1, ax2) = plt.subplots(ncols=1, nrows=2, sharex=True, figsize=(25, 10))\n",
    "\n",
    "ax1.set_title('Распределение посещений по дням')\n",
    "sns.histplot(data=df_sessions, x='visit_date_day', discrete=True, ax=ax1)\n",
    "\n",
    "target_by_day = target_percentage(df_sessions, 'visit_date_day', \n",
    "                                  percent=False, only_target=True)\n",
    "ax2.set_title('Процент целевых действий по дням')\n",
    "sns.lineplot(data=target_by_day, ax=ax2);"
   ]
  },
  {
   "attachments": {},
   "cell_type": "markdown",
   "metadata": {},
   "source": [
    "### Рассмотрим влияние праздников на количество посещений и создадим этот признак `visit_date_holiday`."
   ]
  },
  {
   "cell_type": "code",
   "execution_count": 45,
   "metadata": {},
   "outputs": [],
   "source": [
    "#df_sessions['visit_date_holiday'] = df_sessions['visit_date'].isin(russian_holidays)\n",
    "#print('Распределение праздничных дней:')\n",
    "#target_percentage(df_sessions, 'visit_date_holiday', index_name='Праздник')"
   ]
  },
  {
   "attachments": {},
   "cell_type": "markdown",
   "metadata": {},
   "source": [
    "###  Рассморим влияние времени визита на целевое действие - переменная `visit_time`"
   ]
  },
  {
   "cell_type": "code",
   "execution_count": 46,
   "metadata": {},
   "outputs": [],
   "source": [
    "df_sessions['visit_time'] = pd.to_datetime(df_sessions['visit_time'])"
   ]
  },
  {
   "cell_type": "code",
   "execution_count": 47,
   "metadata": {},
   "outputs": [
    {
     "data": {
      "text/plain": [
       "count                          1860042\n",
       "mean     2023-07-17 13:49:53.502091008\n",
       "min                2023-07-17 00:00:00\n",
       "25%                2023-07-17 10:00:00\n",
       "50%                2023-07-17 14:09:06\n",
       "75%                2023-07-17 19:00:00\n",
       "max                2023-07-17 23:59:59\n",
       "Name: visit_time, dtype: object"
      ]
     },
     "execution_count": 47,
     "metadata": {},
     "output_type": "execute_result"
    }
   ],
   "source": [
    "df_sessions['visit_time'].describe(datetime_is_numeric=True)"
   ]
  },
  {
   "attachments": {},
   "cell_type": "markdown",
   "metadata": {},
   "source": [
    "### Рассмотрим влияние времени (часы) на целевое дейсвие. для этого введем новый признак - количество посещений по часам `visit_time_hour`."
   ]
  },
  {
   "cell_type": "code",
   "execution_count": 48,
   "metadata": {},
   "outputs": [
    {
     "data": {
      "image/png": "[encoded data removed]",
      "text/plain": [
       "<Figure size 1800x360 with 1 Axes>"
      ]
     },
     "metadata": {
      "needs_background": "light"
     },
     "output_type": "display_data"
    }
   ],
   "source": [
    "df_sessions['visit_time_hour'] = df_sessions['visit_time'].dt.hour\n",
    "plt.figure(figsize=(25, 5))\n",
    "sns.histplot(data=df_sessions, x='visit_time_hour', discrete=True)\n",
    "plt.title('Количество посещений по часам');"
   ]
  },
  {
   "cell_type": "code",
   "execution_count": 49,
   "metadata": {},
   "outputs": [
    {
     "data": {
      "image/png": "[encoded data removed]",
      "text/plain": [
       "<Figure size 1800x360 with 1 Axes>"
      ]
     },
     "metadata": {
      "needs_background": "light"
     },
     "output_type": "display_data"
    }
   ],
   "source": [
    "plt.figure(figsize=(25, 5))\n",
    "target_by_hour = target_percentage(df_sessions, 'visit_time_hour', \n",
    "                                   percent=False, only_target=True)\n",
    "sns.lineplot(data=target_by_hour)\n",
    "plt.title('Доля целевых действий по часам');"
   ]
  },
  {
   "attachments": {},
   "cell_type": "markdown",
   "metadata": {},
   "source": [
    "Полученые результаты свидельствуют о том, что наибольшее количество посещений было совершено в промежуток времени с 10.00 до 20.00. \n",
    "Наибольшее количество целевых действий приходится на период с 11.00 до 17.00 - пик целевых действий с 13.00 до 14.00.\n",
    "Для уточнения времени совершения целевых действий создадим новый признак - посещения по минутам `visit_time_minute`"
   ]
  },
  {
   "cell_type": "code",
   "execution_count": 50,
   "metadata": {},
   "outputs": [
    {
     "data": {
      "image/png": "[encoded data removed]",
      "text/plain": [
       "<Figure size 1800x360 with 1 Axes>"
      ]
     },
     "metadata": {
      "needs_background": "light"
     },
     "output_type": "display_data"
    }
   ],
   "source": [
    "df_sessions['visit_time_minute'] = df_sessions['visit_time'].dt.minute\n",
    "plt.figure(figsize=(25, 5))\n",
    "sns.histplot(data=df_sessions, x='visit_time_minute', discrete=True)\n",
    "plt.title('Количество посещений по минутам');"
   ]
  },
  {
   "cell_type": "code",
   "execution_count": 51,
   "metadata": {},
   "outputs": [
    {
     "data": {
      "image/png": "[encoded data removed]",
      "text/plain": [
       "<Figure size 1800x360 with 1 Axes>"
      ]
     },
     "metadata": {
      "needs_background": "light"
     },
     "output_type": "display_data"
    }
   ],
   "source": [
    "plt.figure(figsize=(25, 5))\n",
    "target_by_minute = target_percentage(df_sessions, 'visit_time_minute', \n",
    "                                     percent=False, only_target=True)\n",
    "sns.lineplot(data=target_by_minute)\n",
    "plt.title('Доля целевых действий по минутам');"
   ]
  },
  {
   "cell_type": "code",
   "execution_count": 52,
   "metadata": {},
   "outputs": [
    {
     "data": {
      "text/html": [
       "<div>\n",
       "<style scoped>\n",
       "    .dataframe tbody tr th:only-of-type {\n",
       "        vertical-align: middle;\n",
       "    }\n",
       "\n",
       "    .dataframe tbody tr th {\n",
       "        vertical-align: top;\n",
       "    }\n",
       "\n",
       "    .dataframe thead th {\n",
       "        text-align: right;\n",
       "    }\n",
       "</style>\n",
       "<table border=\"1\" class=\"dataframe\">\n",
       "  <thead>\n",
       "    <tr style=\"text-align: right;\">\n",
       "      <th></th>\n",
       "      <th>Количество объектов</th>\n",
       "      <th>Доля от общего числа</th>\n",
       "      <th>Процент целевых действий</th>\n",
       "    </tr>\n",
       "    <tr>\n",
       "      <th>0 минут</th>\n",
       "      <th></th>\n",
       "      <th></th>\n",
       "      <th></th>\n",
       "    </tr>\n",
       "  </thead>\n",
       "  <tbody>\n",
       "    <tr>\n",
       "      <th>True</th>\n",
       "      <td>1083333</td>\n",
       "      <td>58.24%</td>\n",
       "      <td>3.20%</td>\n",
       "    </tr>\n",
       "    <tr>\n",
       "      <th>False</th>\n",
       "      <td>776709</td>\n",
       "      <td>41.76%</td>\n",
       "      <td>2.01%</td>\n",
       "    </tr>\n",
       "  </tbody>\n",
       "</table>\n",
       "</div>"
      ],
      "text/plain": [
       "         Количество объектов Доля от общего числа Процент целевых действий\n",
       "0 минут                                                                   \n",
       "True                 1083333               58.24%                    3.20%\n",
       "False                 776709               41.76%                    2.01%"
      ]
     },
     "execution_count": 52,
     "metadata": {},
     "output_type": "execute_result"
    }
   ],
   "source": [
    "df_sessions['visit_time_minute_is_zero'] = df_sessions['visit_time_minute'] == 0\n",
    "target_percentage(df_sessions, 'visit_time_minute_is_zero', index_name='0 минут')"
   ]
  },
  {
   "attachments": {},
   "cell_type": "markdown",
   "metadata": {},
   "source": [
    "Полученные данные свидетельствуют о том, что наиболшее количество посещений приходится на начало каждого часа (00 минут) - более 58%, как и количество целевых действий - наибольшая доля указанных действий так же приходится на начало каждого часа - 3,2%.\n",
    "Такое распределение данных весьма подозрительно и скорее всего является выбросом.\n",
    "Начиная с первой минуты часа и до последнней осещение сайта и совершение целевых действий распределены более-менее равномерно."
   ]
  },
  {
   "attachments": {},
   "cell_type": "markdown",
   "metadata": {},
   "source": [
    "### Выполним анализ посещений площадки в дневное и ночное время - для этих целей введем новый признак - `visit_time_night`."
   ]
  },
  {
   "cell_type": "code",
   "execution_count": 53,
   "metadata": {},
   "outputs": [
    {
     "name": "stdout",
     "output_type": "stream",
     "text": [
      "Распределение целевых действий в ночное и дневное время:\n"
     ]
    },
    {
     "data": {
      "text/html": [
       "<div>\n",
       "<style scoped>\n",
       "    .dataframe tbody tr th:only-of-type {\n",
       "        vertical-align: middle;\n",
       "    }\n",
       "\n",
       "    .dataframe tbody tr th {\n",
       "        vertical-align: top;\n",
       "    }\n",
       "\n",
       "    .dataframe thead th {\n",
       "        text-align: right;\n",
       "    }\n",
       "</style>\n",
       "<table border=\"1\" class=\"dataframe\">\n",
       "  <thead>\n",
       "    <tr style=\"text-align: right;\">\n",
       "      <th></th>\n",
       "      <th>Количество объектов</th>\n",
       "      <th>Доля от общего числа</th>\n",
       "      <th>Процент целевых действий</th>\n",
       "    </tr>\n",
       "    <tr>\n",
       "      <th>Ночное время</th>\n",
       "      <th></th>\n",
       "      <th></th>\n",
       "      <th></th>\n",
       "    </tr>\n",
       "  </thead>\n",
       "  <tbody>\n",
       "    <tr>\n",
       "      <th>False</th>\n",
       "      <td>1496535</td>\n",
       "      <td>80.46%</td>\n",
       "      <td>2.77%</td>\n",
       "    </tr>\n",
       "    <tr>\n",
       "      <th>True</th>\n",
       "      <td>363507</td>\n",
       "      <td>19.54%</td>\n",
       "      <td>2.42%</td>\n",
       "    </tr>\n",
       "  </tbody>\n",
       "</table>\n",
       "</div>"
      ],
      "text/plain": [
       "              Количество объектов Доля от общего числа  \\\n",
       "Ночное время                                             \n",
       "False                     1496535               80.46%   \n",
       "True                       363507               19.54%   \n",
       "\n",
       "             Процент целевых действий  \n",
       "Ночное время                           \n",
       "False                           2.77%  \n",
       "True                            2.42%  "
      ]
     },
     "execution_count": 53,
     "metadata": {},
     "output_type": "execute_result"
    }
   ],
   "source": [
    "df_sessions['visit_time_night'] = df_sessions['visit_time_hour'] < 9\n",
    "print('Распределение целевых действий в ночное и дневное время:')\n",
    "target_percentage(df_sessions, 'visit_time_night', index_name='Ночное время')"
   ]
  },
  {
   "attachments": {},
   "cell_type": "markdown",
   "metadata": {},
   "source": [
    "Полученные результаты показывют, что более 80% посещений приходится на дневное время, при этом совершение целевых действий не имеет значительных различий от врмени суток."
   ]
  },
  {
   "attachments": {},
   "cell_type": "markdown",
   "metadata": {},
   "source": [
    "### Проведем анализ переменной `visit_number` - номер визита посетителя  "
   ]
  },
  {
   "cell_type": "code",
   "execution_count": 54,
   "metadata": {},
   "outputs": [
    {
     "data": {
      "text/plain": [
       "count    1860042.0\n",
       "mean           2.7\n",
       "std           11.8\n",
       "min            1.0\n",
       "25%            1.0\n",
       "50%            1.0\n",
       "75%            2.0\n",
       "max          564.0\n",
       "Name: visit_number, dtype: object"
      ]
     },
     "execution_count": 54,
     "metadata": {},
     "output_type": "execute_result"
    }
   ],
   "source": [
    "df_sessions['visit_number'].describe().apply(lambda x: f'{x:0.1f}')"
   ]
  },
  {
   "attachments": {},
   "cell_type": "markdown",
   "metadata": {},
   "source": [
    "Данные показывают, что максимальное число посещений составляет 564 раза, минимальное количество посещений 1 раз. В среднем каждый пользователь совершил 3 посещения."
   ]
  },
  {
   "cell_type": "code",
   "execution_count": 55,
   "metadata": {},
   "outputs": [
    {
     "data": {
      "image/png": "[encoded data removed]",
      "text/plain": [
       "<Figure size 1800x360 with 1 Axes>"
      ]
     },
     "metadata": {
      "needs_background": "light"
     },
     "output_type": "display_data"
    }
   ],
   "source": [
    "plt.figure(figsize=(25, 5))\n",
    "sns.boxplot(data=df_sessions, x='visit_number')\n",
    "plt.xlim(0, 10)\n",
    "plt.title('Диаграмма размаха номера посещения');"
   ]
  },
  {
   "attachments": {},
   "cell_type": "markdown",
   "metadata": {},
   "source": [
    "График показывает, то имеет место быть значительное количество пользоватеей, которые посетили сайт 4 и более раз. Представляется возможным привести пользователей с количеством посещений от 4 и более к сопоставимому виду - примем все значения равными 4. При том выделим 4 группы посетителей с количеством посещений от 1 до 4 раз."
   ]
  },
  {
   "cell_type": "code",
   "execution_count": 56,
   "metadata": {},
   "outputs": [
    {
     "name": "stdout",
     "output_type": "stream",
     "text": [
      "Процент успешных сессий в зависимости от номера посещения: \n"
     ]
    },
    {
     "data": {
      "text/html": [
       "<div>\n",
       "<style scoped>\n",
       "    .dataframe tbody tr th:only-of-type {\n",
       "        vertical-align: middle;\n",
       "    }\n",
       "\n",
       "    .dataframe tbody tr th {\n",
       "        vertical-align: top;\n",
       "    }\n",
       "\n",
       "    .dataframe thead th {\n",
       "        text-align: right;\n",
       "    }\n",
       "</style>\n",
       "<table border=\"1\" class=\"dataframe\">\n",
       "  <thead>\n",
       "    <tr style=\"text-align: right;\">\n",
       "      <th></th>\n",
       "      <th>Количество объектов</th>\n",
       "      <th>Доля от общего числа</th>\n",
       "      <th>Процент целевых действий</th>\n",
       "    </tr>\n",
       "    <tr>\n",
       "      <th>Номер посещения</th>\n",
       "      <th></th>\n",
       "      <th></th>\n",
       "      <th></th>\n",
       "    </tr>\n",
       "  </thead>\n",
       "  <tbody>\n",
       "    <tr>\n",
       "      <th>4</th>\n",
       "      <td>166969</td>\n",
       "      <td>8.98%</td>\n",
       "      <td>4.37%</td>\n",
       "    </tr>\n",
       "    <tr>\n",
       "      <th>3</th>\n",
       "      <td>81068</td>\n",
       "      <td>4.36%</td>\n",
       "      <td>3.76%</td>\n",
       "    </tr>\n",
       "    <tr>\n",
       "      <th>2</th>\n",
       "      <td>235656</td>\n",
       "      <td>12.67%</td>\n",
       "      <td>3.23%</td>\n",
       "    </tr>\n",
       "    <tr>\n",
       "      <th>1</th>\n",
       "      <td>1376349</td>\n",
       "      <td>74.00%</td>\n",
       "      <td>2.35%</td>\n",
       "    </tr>\n",
       "  </tbody>\n",
       "</table>\n",
       "</div>"
      ],
      "text/plain": [
       "                 Количество объектов Доля от общего числа  \\\n",
       "Номер посещения                                             \n",
       "4                             166969                8.98%   \n",
       "3                              81068                4.36%   \n",
       "2                             235656               12.67%   \n",
       "1                            1376349               74.00%   \n",
       "\n",
       "                Процент целевых действий  \n",
       "Номер посещения                           \n",
       "4                                  4.37%  \n",
       "3                                  3.76%  \n",
       "2                                  3.23%  \n",
       "1                                  2.35%  "
      ]
     },
     "execution_count": 56,
     "metadata": {},
     "output_type": "execute_result"
    }
   ],
   "source": [
    "df_sessions['visit_number_no_outliers'] = df_sessions['visit_number'].apply(lambda x: x if x < 4 else 4)\n",
    "print('Процент успешных сессий в зависимости от номера посещения: ')\n",
    "target_percentage(df_sessions, 'visit_number_no_outliers', \n",
    "                  index_name='Номер посещения')"
   ]
  },
  {
   "attachments": {},
   "cell_type": "markdown",
   "metadata": {},
   "source": [
    "Данные таблицы показывают, что 74% псетителей заходили на сайт всего 1 раз, при этом процент целевых действий таких пользователей был минимальным. Пользователей, которые заходили на сайт 4 и более раз порядка 9% от общео числа пользователей. При этом процент целевых действий таки пользователей максимальный. В целом по данным таблицы прослеживается зависиость количества целевых действий пользователей от количества посещений сайта."
   ]
  },
  {
   "attachments": {},
   "cell_type": "markdown",
   "metadata": {},
   "source": [
    "### Анализ признака `utm_source`- канал привлечения"
   ]
  },
  {
   "cell_type": "code",
   "execution_count": 57,
   "metadata": {},
   "outputs": [
    {
     "name": "stdout",
     "output_type": "stream",
     "text": [
      "Пропущенных значений в \"utm_source\": 97\n"
     ]
    }
   ],
   "source": [
    "print(f'Пропущенных значений в \"utm_source\": {df_sessions.utm_source.isna().sum()}')"
   ]
  },
  {
   "cell_type": "code",
   "execution_count": 58,
   "metadata": {},
   "outputs": [
    {
     "name": "stdout",
     "output_type": "stream",
     "text": [
      "Количество уникальных значений в `utm_source`: 293\n"
     ]
    }
   ],
   "source": [
    "n_unique = df_sessions.utm_source.nunique()\n",
    "print(f'Количество уникальных значений в `utm_source`: {n_unique}')"
   ]
  },
  {
   "cell_type": "code",
   "execution_count": 59,
   "metadata": {},
   "outputs": [
    {
     "data": {
      "text/plain": [
       "ZpYIoDJMcFzVoPFsHGJL    578290\n",
       "fDLlAcSmythWSCVMvqvL    300575\n",
       "kjsLglQLzykiRbcDiGcD    266354\n",
       "MvfHsxITijuriZxsqZqt    186199\n",
       "BHcvLfOaCWvWTykYqHVe    116320\n",
       "bByPQxmDaMXgpHeypKSM    102287\n",
       "QxAxdyPLuQMEcrdZWdWb     51415\n",
       "aXQzDWsJuGXeBXexNHjc     31152\n",
       "jaSOmLICuBzCFqHfBdRg     29241\n",
       "RmEBuqrriAfAVsLQQmhk     28055\n",
       "vFcAhRxLfOWKhvxjELkx     24413\n",
       "PlbkrSYoHuZBWfYjYnfw     20792\n",
       "hTjLvqNxGggkGnxSCaTm     14598\n",
       "gDBGzjFKYabGgSPZvrDH     13565\n",
       "fgymSoTvjKPEgaIJqsiH      9625\n",
       "geDcueAOghDzHkGMmdOq      8680\n",
       "ISrKoXQCxqqYvAZICvjs      8633\n",
       "nSReTmyFtbSjlPrTKoaX      7285\n",
       "SzZERoLMmrEUEhDaYcyN      6828\n",
       "eLzNJHzPelJpEyBwMrKo      5386\n",
       "Name: utm_source, dtype: int64"
      ]
     },
     "execution_count": 59,
     "metadata": {},
     "output_type": "execute_result"
    }
   ],
   "source": [
    "df_sessions.utm_source.value_counts(dropna=False).head(20)"
   ]
  },
  {
   "cell_type": "code",
   "execution_count": 60,
   "metadata": {},
   "outputs": [
    {
     "name": "stdout",
     "output_type": "stream",
     "text": [
      "Процент целевых действий для частых значений канала привлечения:\n"
     ]
    },
    {
     "data": {
      "text/html": [
       "<div>\n",
       "<style scoped>\n",
       "    .dataframe tbody tr th:only-of-type {\n",
       "        vertical-align: middle;\n",
       "    }\n",
       "\n",
       "    .dataframe tbody tr th {\n",
       "        vertical-align: top;\n",
       "    }\n",
       "\n",
       "    .dataframe thead th {\n",
       "        text-align: right;\n",
       "    }\n",
       "</style>\n",
       "<table border=\"1\" class=\"dataframe\">\n",
       "  <thead>\n",
       "    <tr style=\"text-align: right;\">\n",
       "      <th></th>\n",
       "      <th>Количество объектов</th>\n",
       "      <th>Доля от общего числа</th>\n",
       "      <th>Процент целевых действий</th>\n",
       "    </tr>\n",
       "    <tr>\n",
       "      <th>Канал привлечения</th>\n",
       "      <th></th>\n",
       "      <th></th>\n",
       "      <th></th>\n",
       "    </tr>\n",
       "  </thead>\n",
       "  <tbody>\n",
       "    <tr>\n",
       "      <th>bByPQxmDaMXgpHeypKSM</th>\n",
       "      <td>102287</td>\n",
       "      <td>5.50%</td>\n",
       "      <td>5.43%</td>\n",
       "    </tr>\n",
       "    <tr>\n",
       "      <th>fDLlAcSmythWSCVMvqvL</th>\n",
       "      <td>300575</td>\n",
       "      <td>16.16%</td>\n",
       "      <td>3.50%</td>\n",
       "    </tr>\n",
       "    <tr>\n",
       "      <th>BHcvLfOaCWvWTykYqHVe</th>\n",
       "      <td>116320</td>\n",
       "      <td>6.25%</td>\n",
       "      <td>3.34%</td>\n",
       "    </tr>\n",
       "    <tr>\n",
       "      <th>ZpYIoDJMcFzVoPFsHGJL</th>\n",
       "      <td>578290</td>\n",
       "      <td>31.09%</td>\n",
       "      <td>2.77%</td>\n",
       "    </tr>\n",
       "    <tr>\n",
       "      <th>kjsLglQLzykiRbcDiGcD</th>\n",
       "      <td>266354</td>\n",
       "      <td>14.32%</td>\n",
       "      <td>2.36%</td>\n",
       "    </tr>\n",
       "    <tr>\n",
       "      <th>rare_other</th>\n",
       "      <td>310017</td>\n",
       "      <td>16.67%</td>\n",
       "      <td>1.87%</td>\n",
       "    </tr>\n",
       "    <tr>\n",
       "      <th>MvfHsxITijuriZxsqZqt</th>\n",
       "      <td>186199</td>\n",
       "      <td>10.01%</td>\n",
       "      <td>1.21%</td>\n",
       "    </tr>\n",
       "  </tbody>\n",
       "</table>\n",
       "</div>"
      ],
      "text/plain": [
       "                      Количество объектов Доля от общего числа  \\\n",
       "Канал привлечения                                                \n",
       "bByPQxmDaMXgpHeypKSM               102287                5.50%   \n",
       "fDLlAcSmythWSCVMvqvL               300575               16.16%   \n",
       "BHcvLfOaCWvWTykYqHVe               116320                6.25%   \n",
       "ZpYIoDJMcFzVoPFsHGJL               578290               31.09%   \n",
       "kjsLglQLzykiRbcDiGcD               266354               14.32%   \n",
       "rare_other                         310017               16.67%   \n",
       "MvfHsxITijuriZxsqZqt               186199               10.01%   \n",
       "\n",
       "                     Процент целевых действий  \n",
       "Канал привлечения                              \n",
       "bByPQxmDaMXgpHeypKSM                    5.43%  \n",
       "fDLlAcSmythWSCVMvqvL                    3.50%  \n",
       "BHcvLfOaCWvWTykYqHVe                    3.34%  \n",
       "ZpYIoDJMcFzVoPFsHGJL                    2.77%  \n",
       "kjsLglQLzykiRbcDiGcD                    2.36%  \n",
       "rare_other                              1.87%  \n",
       "MvfHsxITijuriZxsqZqt                    1.21%  "
      ]
     },
     "execution_count": 60,
     "metadata": {},
     "output_type": "execute_result"
    }
   ],
   "source": [
    "# Процент целевых действий для частых значений канала привлечения\n",
    "\n",
    "def replace_rare(data: pd.Series, tolerance: float = 0.05) -> pd.Series:\n",
    "    \"\"\"Заменяет в колонке редкие значения на 'rare_other'. Редкими считаются \n",
    "    значения, доля появления которых не превышает `tolerance`. Также заполняет \n",
    "    пропуски значением '(nan)'.\n",
    "    \"\"\"\n",
    "\n",
    "    data = data.copy()\n",
    "\n",
    "    value_counts = data.value_counts(dropna=False)\n",
    "    rare_values = value_counts[value_counts < (len(data) * tolerance)]\n",
    "    rare_values = rare_values.index.tolist()\n",
    "    \n",
    "    data[data.isin(rare_values)] = 'rare_other'\n",
    "    return data.fillna('(nan)')\n",
    "\n",
    "print('Процент целевых действий для частых значений канала привлечения:')\n",
    "df_sessions['utm_source_frequent'] = replace_rare(df_sessions.utm_source) # заполним пропуски и редкие значения 'rare_other' \n",
    "target_percentage(df_sessions, 'utm_source_frequent', \n",
    "                  index_name='Канал привлечения')"
   ]
  },
  {
   "attachments": {},
   "cell_type": "markdown",
   "metadata": {},
   "source": [
    "Данные таблицы показывают, что процент целевых действий по каналам привлечения варьируется от 1,21% до 5,43%. При этом самый высокий процет целевых действий у менее популярного канала."
   ]
  },
  {
   "attachments": {},
   "cell_type": "markdown",
   "metadata": {},
   "source": [
    "### Проведем анализ признака `utm_medium` - тип привлечения"
   ]
  },
  {
   "cell_type": "code",
   "execution_count": 61,
   "metadata": {},
   "outputs": [
    {
     "name": "stdout",
     "output_type": "stream",
     "text": [
      "Количество пустых значений в `utm_medium`: 0\n"
     ]
    }
   ],
   "source": [
    "# Возвращает, что пучтых значений нет.....\n",
    "print(f'Количество пустых значений в `utm_medium`: {df_sessions.utm_medium.isna().sum()}')"
   ]
  },
  {
   "cell_type": "code",
   "execution_count": 62,
   "metadata": {},
   "outputs": [
    {
     "data": {
      "text/plain": [
       "banner             552272\n",
       "cpc                434794\n",
       "(none)             300575\n",
       "cpm                242083\n",
       "referral           152050\n",
       "organic             63034\n",
       "email               29240\n",
       "push                28035\n",
       "stories             10582\n",
       "cpv                  8022\n",
       "blogger_channel      8015\n",
       "smartbanner          6794\n",
       "blogger_stories      4312\n",
       "cpa                  4279\n",
       "tg                   4011\n",
       "app                  2836\n",
       "post                 2326\n",
       "smm                  1985\n",
       "outlook              1332\n",
       "clicks                934\n",
       "blogger_header        771\n",
       "(not set)             480\n",
       "info_text             343\n",
       "sms                   239\n",
       "landing               134\n",
       "partner                97\n",
       "fb_smm                 66\n",
       "vk_smm                 65\n",
       "link                   57\n",
       "cbaafe                 47\n",
       "Name: utm_medium, dtype: int64"
      ]
     },
     "execution_count": 62,
     "metadata": {},
     "output_type": "execute_result"
    }
   ],
   "source": [
    "# ...но при выводе количества уникальных значений, замечаем, что есть (none) и (not set), что также является пропусками!\n",
    "df_sessions.utm_medium.value_counts(dropna=False).head(30)"
   ]
  },
  {
   "cell_type": "code",
   "execution_count": 63,
   "metadata": {},
   "outputs": [],
   "source": [
    "def count_missings(data: pd.Series) -> int:\n",
    "    \"\"\"Возвращает количество пропущенных значений в pd.Series.\"\"\"\n",
    "    missing_values = ['(not set)', '(none)', '(NaN)', '(nan)']\n",
    "    return data.isin(missing_values).sum() # missing_values - сохраним что будем считать пропусками"
   ]
  },
  {
   "cell_type": "code",
   "execution_count": 64,
   "metadata": {},
   "outputs": [
    {
     "name": "stdout",
     "output_type": "stream",
     "text": [
      "Количество пустых значений в `utm_medium`: 301055\n"
     ]
    }
   ],
   "source": [
    "missings = count_missings(df_sessions.utm_medium)\n",
    "print(f'Количество пустых значений в `utm_medium`: {missings}')"
   ]
  },
  {
   "cell_type": "code",
   "execution_count": 65,
   "metadata": {},
   "outputs": [
    {
     "name": "stdout",
     "output_type": "stream",
     "text": [
      "Количество уникальных значений в `utm_medium`: 56\n"
     ]
    }
   ],
   "source": [
    "n_unique = df_sessions.utm_medium.nunique()\n",
    "print(f'Количество уникальных значений в `utm_medium`: {n_unique}')"
   ]
  },
  {
   "cell_type": "code",
   "execution_count": 66,
   "metadata": {},
   "outputs": [
    {
     "name": "stdout",
     "output_type": "stream",
     "text": [
      "Процент целевых действий для частых значений типа привлечения:\n"
     ]
    },
    {
     "data": {
      "text/html": [
       "<div>\n",
       "<style scoped>\n",
       "    .dataframe tbody tr th:only-of-type {\n",
       "        vertical-align: middle;\n",
       "    }\n",
       "\n",
       "    .dataframe tbody tr th {\n",
       "        vertical-align: top;\n",
       "    }\n",
       "\n",
       "    .dataframe thead th {\n",
       "        text-align: right;\n",
       "    }\n",
       "</style>\n",
       "<table border=\"1\" class=\"dataframe\">\n",
       "  <thead>\n",
       "    <tr style=\"text-align: right;\">\n",
       "      <th></th>\n",
       "      <th>Количество объектов</th>\n",
       "      <th>Доля от общего числа</th>\n",
       "      <th>Процент целевых действий</th>\n",
       "    </tr>\n",
       "    <tr>\n",
       "      <th>Тип привлечения</th>\n",
       "      <th></th>\n",
       "      <th></th>\n",
       "      <th></th>\n",
       "    </tr>\n",
       "  </thead>\n",
       "  <tbody>\n",
       "    <tr>\n",
       "      <th>referral</th>\n",
       "      <td>152050</td>\n",
       "      <td>8.17%</td>\n",
       "      <td>5.38%</td>\n",
       "    </tr>\n",
       "    <tr>\n",
       "      <th>(none)</th>\n",
       "      <td>300575</td>\n",
       "      <td>16.16%</td>\n",
       "      <td>3.50%</td>\n",
       "    </tr>\n",
       "    <tr>\n",
       "      <th>banner</th>\n",
       "      <td>552272</td>\n",
       "      <td>29.69%</td>\n",
       "      <td>2.74%</td>\n",
       "    </tr>\n",
       "    <tr>\n",
       "      <th>rare_other</th>\n",
       "      <td>178268</td>\n",
       "      <td>9.58%</td>\n",
       "      <td>2.49%</td>\n",
       "    </tr>\n",
       "    <tr>\n",
       "      <th>cpc</th>\n",
       "      <td>434794</td>\n",
       "      <td>23.38%</td>\n",
       "      <td>2.19%</td>\n",
       "    </tr>\n",
       "    <tr>\n",
       "      <th>cpm</th>\n",
       "      <td>242083</td>\n",
       "      <td>13.01%</td>\n",
       "      <td>1.04%</td>\n",
       "    </tr>\n",
       "  </tbody>\n",
       "</table>\n",
       "</div>"
      ],
      "text/plain": [
       "                 Количество объектов Доля от общего числа  \\\n",
       "Тип привлечения                                             \n",
       "referral                      152050                8.17%   \n",
       "(none)                        300575               16.16%   \n",
       "banner                        552272               29.69%   \n",
       "rare_other                    178268                9.58%   \n",
       "cpc                           434794               23.38%   \n",
       "cpm                           242083               13.01%   \n",
       "\n",
       "                Процент целевых действий  \n",
       "Тип привлечения                           \n",
       "referral                           5.38%  \n",
       "(none)                             3.50%  \n",
       "banner                             2.74%  \n",
       "rare_other                         2.49%  \n",
       "cpc                                2.19%  \n",
       "cpm                                1.04%  "
      ]
     },
     "execution_count": 66,
     "metadata": {},
     "output_type": "execute_result"
    }
   ],
   "source": [
    "print('Процент целевых действий для частых значений типа привлечения:')\n",
    "df_sessions['utm_medium_frequent'] = replace_rare(df_sessions['utm_medium'])\n",
    "target_percentage(df_sessions, 'utm_medium_frequent', index_name='Тип привлечения')"
   ]
  },
  {
   "attachments": {},
   "cell_type": "markdown",
   "metadata": {},
   "source": [
    "Незаолненных значений в колонке `utm_medium` 301055 - значения типа (none) и  (not set). Уникальных значений - 56, что является невысоким показателем.  \n",
    "\n",
    "  \n",
    "Самые популярные типы трафика: banner, cpc, cpm, refferal.  \n",
    "\n",
    "Для самых популярных значений `utm_medium` процент целевых действий находится в диапазоне от 1.04% до 5.38%."
   ]
  },
  {
   "attachments": {},
   "cell_type": "markdown",
   "metadata": {},
   "source": [
    "### Выполним анализ переменной `utm_campaign` - рекламная кампания  "
   ]
  },
  {
   "cell_type": "code",
   "execution_count": 67,
   "metadata": {},
   "outputs": [
    {
     "name": "stdout",
     "output_type": "stream",
     "text": [
      "Количество пропущенных значений в `utm_campaign`: 219603, что составляет 11.81%\n"
     ]
    }
   ],
   "source": [
    "missings = df_sessions['utm_campaign'].isna().sum() / len(df_sessions)\n",
    "miss = df_sessions['utm_campaign'].isna().sum()\n",
    "print(f'Количество пропущенных значений в `utm_campaign`: {miss}, что составляет {missings:0.2%}')"
   ]
  },
  {
   "cell_type": "code",
   "execution_count": 68,
   "metadata": {},
   "outputs": [
    {
     "name": "stdout",
     "output_type": "stream",
     "text": [
      "Количество уникальных значений в `utm_campaign` = 412\n"
     ]
    }
   ],
   "source": [
    "n_unique = df_sessions['utm_campaign'].nunique()\n",
    "print(f'Количество уникальных значений в `utm_campaign` = {n_unique}')"
   ]
  },
  {
   "cell_type": "code",
   "execution_count": 69,
   "metadata": {},
   "outputs": [
    {
     "name": "stdout",
     "output_type": "stream",
     "text": [
      "Процент целевых действий для самых частых значений рекламной кампании:\n"
     ]
    },
    {
     "data": {
      "text/html": [
       "<div>\n",
       "<style scoped>\n",
       "    .dataframe tbody tr th:only-of-type {\n",
       "        vertical-align: middle;\n",
       "    }\n",
       "\n",
       "    .dataframe tbody tr th {\n",
       "        vertical-align: top;\n",
       "    }\n",
       "\n",
       "    .dataframe thead th {\n",
       "        text-align: right;\n",
       "    }\n",
       "</style>\n",
       "<table border=\"1\" class=\"dataframe\">\n",
       "  <thead>\n",
       "    <tr style=\"text-align: right;\">\n",
       "      <th></th>\n",
       "      <th>Количество объектов</th>\n",
       "      <th>Доля от общего числа</th>\n",
       "      <th>Процент целевых действий</th>\n",
       "    </tr>\n",
       "    <tr>\n",
       "      <th>Рекламная кампания</th>\n",
       "      <th></th>\n",
       "      <th></th>\n",
       "      <th></th>\n",
       "    </tr>\n",
       "  </thead>\n",
       "  <tbody>\n",
       "    <tr>\n",
       "      <th>LTuZkdKfxRGVceoWkVyg</th>\n",
       "      <td>463481</td>\n",
       "      <td>24.92%</td>\n",
       "      <td>4.10%</td>\n",
       "    </tr>\n",
       "    <tr>\n",
       "      <th>gecBYcKZCPMcVYdSSzKP</th>\n",
       "      <td>134042</td>\n",
       "      <td>7.21%</td>\n",
       "      <td>3.39%</td>\n",
       "    </tr>\n",
       "    <tr>\n",
       "      <th>(nan)</th>\n",
       "      <td>219603</td>\n",
       "      <td>11.81%</td>\n",
       "      <td>3.27%</td>\n",
       "    </tr>\n",
       "    <tr>\n",
       "      <th>LEoPHuyFvzoNfnzGgfcd</th>\n",
       "      <td>324044</td>\n",
       "      <td>17.42%</td>\n",
       "      <td>2.88%</td>\n",
       "    </tr>\n",
       "    <tr>\n",
       "      <th>rare_other</th>\n",
       "      <td>471512</td>\n",
       "      <td>25.35%</td>\n",
       "      <td>1.65%</td>\n",
       "    </tr>\n",
       "    <tr>\n",
       "      <th>FTjNLDyTrXaWYgZymFkV</th>\n",
       "      <td>247360</td>\n",
       "      <td>13.30%</td>\n",
       "      <td>0.99%</td>\n",
       "    </tr>\n",
       "  </tbody>\n",
       "</table>\n",
       "</div>"
      ],
      "text/plain": [
       "                      Количество объектов Доля от общего числа  \\\n",
       "Рекламная кампания                                               \n",
       "LTuZkdKfxRGVceoWkVyg               463481               24.92%   \n",
       "gecBYcKZCPMcVYdSSzKP               134042                7.21%   \n",
       "(nan)                              219603               11.81%   \n",
       "LEoPHuyFvzoNfnzGgfcd               324044               17.42%   \n",
       "rare_other                         471512               25.35%   \n",
       "FTjNLDyTrXaWYgZymFkV               247360               13.30%   \n",
       "\n",
       "                     Процент целевых действий  \n",
       "Рекламная кампания                             \n",
       "LTuZkdKfxRGVceoWkVyg                    4.10%  \n",
       "gecBYcKZCPMcVYdSSzKP                    3.39%  \n",
       "(nan)                                   3.27%  \n",
       "LEoPHuyFvzoNfnzGgfcd                    2.88%  \n",
       "rare_other                              1.65%  \n",
       "FTjNLDyTrXaWYgZymFkV                    0.99%  "
      ]
     },
     "execution_count": 69,
     "metadata": {},
     "output_type": "execute_result"
    }
   ],
   "source": [
    "print('Процент целевых действий для самых частых значений рекламной кампании:')\n",
    "df_sessions['utm_campaign_frequent'] = replace_rare(df_sessions['utm_campaign'], 0.05)\n",
    "target_percentage(df_sessions, 'utm_campaign_frequent', \n",
    "                  index_name='Рекламная кампания')"
   ]
  },
  {
   "attachments": {},
   "cell_type": "markdown",
   "metadata": {},
   "source": [
    "Анализ переменной показал, что 12% значений в колонке пропущено (219,6 тыс. шт.).  \n",
    "Уникальных значений признака составляет 412 шт., причём большая часть уникальных значений встречается в датасете очень редко. \n",
    "\n",
    "Для самых популярных значений процент целевых действий меняется от 0.99% до 4.10%."
   ]
  },
  {
   "attachments": {},
   "cell_type": "markdown",
   "metadata": {},
   "source": [
    "### Выполним анализ переменной `utm_adcontent` "
   ]
  },
  {
   "cell_type": "code",
   "execution_count": 70,
   "metadata": {},
   "outputs": [
    {
     "name": "stdout",
     "output_type": "stream",
     "text": [
      "Количество пропущенных значений в `utm_adcontent`: 335615, что составляет 18.04%\n"
     ]
    }
   ],
   "source": [
    "missings = df_sessions['utm_adcontent'].isna().sum() / len(df_sessions)\n",
    "miss = df_sessions['utm_adcontent'].isna().sum()\n",
    "print(f'Количество пропущенных значений в `utm_adcontent`: {miss}, что составляет {missings:0.2%}')"
   ]
  },
  {
   "cell_type": "code",
   "execution_count": 71,
   "metadata": {},
   "outputs": [
    {
     "name": "stdout",
     "output_type": "stream",
     "text": [
      "Количество уникальных значений в `utm_adcontent` = 286\n"
     ]
    }
   ],
   "source": [
    "n_unique = df_sessions['utm_adcontent'].nunique()\n",
    "print(f'Количество уникальных значений в `utm_adcontent` = {n_unique}')"
   ]
  },
  {
   "cell_type": "code",
   "execution_count": 72,
   "metadata": {},
   "outputs": [
    {
     "name": "stdout",
     "output_type": "stream",
     "text": [
      "Процент целевых действий для частых значений utm_adcontent:\n"
     ]
    },
    {
     "data": {
      "text/html": [
       "<div>\n",
       "<style scoped>\n",
       "    .dataframe tbody tr th:only-of-type {\n",
       "        vertical-align: middle;\n",
       "    }\n",
       "\n",
       "    .dataframe tbody tr th {\n",
       "        vertical-align: top;\n",
       "    }\n",
       "\n",
       "    .dataframe thead th {\n",
       "        text-align: right;\n",
       "    }\n",
       "</style>\n",
       "<table border=\"1\" class=\"dataframe\">\n",
       "  <thead>\n",
       "    <tr style=\"text-align: right;\">\n",
       "      <th></th>\n",
       "      <th>Количество объектов</th>\n",
       "      <th>Доля от общего числа</th>\n",
       "      <th>Процент целевых действий</th>\n",
       "    </tr>\n",
       "    <tr>\n",
       "      <th>utm_adcontent_frequent</th>\n",
       "      <th></th>\n",
       "      <th></th>\n",
       "      <th></th>\n",
       "    </tr>\n",
       "  </thead>\n",
       "  <tbody>\n",
       "    <tr>\n",
       "      <th>JNHcPlZPxEMWDnRiyoBf</th>\n",
       "      <td>1006599</td>\n",
       "      <td>54.12%</td>\n",
       "      <td>3.37%</td>\n",
       "    </tr>\n",
       "    <tr>\n",
       "      <th>(nan)</th>\n",
       "      <td>335615</td>\n",
       "      <td>18.04%</td>\n",
       "      <td>2.61%</td>\n",
       "    </tr>\n",
       "    <tr>\n",
       "      <th>vCIpmpaGBnIQhyYNkXqp</th>\n",
       "      <td>181048</td>\n",
       "      <td>9.73%</td>\n",
       "      <td>2.16%</td>\n",
       "    </tr>\n",
       "    <tr>\n",
       "      <th>xhoenQgDQsgfEPYNPwKO</th>\n",
       "      <td>113072</td>\n",
       "      <td>6.08%</td>\n",
       "      <td>1.12%</td>\n",
       "    </tr>\n",
       "    <tr>\n",
       "      <th>rare_other</th>\n",
       "      <td>223708</td>\n",
       "      <td>12.03%</td>\n",
       "      <td>1.08%</td>\n",
       "    </tr>\n",
       "  </tbody>\n",
       "</table>\n",
       "</div>"
      ],
      "text/plain": [
       "                        Количество объектов Доля от общего числа  \\\n",
       "utm_adcontent_frequent                                             \n",
       "JNHcPlZPxEMWDnRiyoBf                1006599               54.12%   \n",
       "(nan)                                335615               18.04%   \n",
       "vCIpmpaGBnIQhyYNkXqp                 181048                9.73%   \n",
       "xhoenQgDQsgfEPYNPwKO                 113072                6.08%   \n",
       "rare_other                           223708               12.03%   \n",
       "\n",
       "                       Процент целевых действий  \n",
       "utm_adcontent_frequent                           \n",
       "JNHcPlZPxEMWDnRiyoBf                      3.37%  \n",
       "(nan)                                     2.61%  \n",
       "vCIpmpaGBnIQhyYNkXqp                      2.16%  \n",
       "xhoenQgDQsgfEPYNPwKO                      1.12%  \n",
       "rare_other                                1.08%  "
      ]
     },
     "execution_count": 72,
     "metadata": {},
     "output_type": "execute_result"
    }
   ],
   "source": [
    "print('Процент целевых действий для частых значений utm_adcontent:')\n",
    "df_sessions['utm_adcontent_frequent'] = replace_rare(df_sessions['utm_adcontent'])\n",
    "target_percentage(df_sessions, 'utm_adcontent_frequent')"
   ]
  },
  {
   "attachments": {},
   "cell_type": "markdown",
   "metadata": {},
   "source": [
    "Анализ признака показал, что порядка 18% значений незаполнены (более 335 тыс. шт.).\n",
    "\n",
    "Уникальных значений признака так же не так много - 286 шт\n",
    "\n",
    "Для самых популярных значений признака доля целевых дейтвий находится в диапазоне от 1,08% до 3,37%."
   ]
  },
  {
   "attachments": {},
   "cell_type": "markdown",
   "metadata": {},
   "source": [
    "### Проанализируем признак `utm_keyword` - ключевое слово."
   ]
  },
  {
   "cell_type": "code",
   "execution_count": 73,
   "metadata": {},
   "outputs": [
    {
     "name": "stdout",
     "output_type": "stream",
     "text": [
      "Количество пропущенных значений в `utm_keyword`: 1082061, что составляет 58.17%\n"
     ]
    }
   ],
   "source": [
    "missings = df_sessions['utm_keyword'].isna().sum() / len(df_sessions)\n",
    "miss = df_sessions['utm_keyword'].isna().sum()\n",
    "print(f'Количество пропущенных значений в `utm_keyword`: {miss}, что составляет {missings:0.2%}')"
   ]
  },
  {
   "cell_type": "code",
   "execution_count": 74,
   "metadata": {},
   "outputs": [
    {
     "name": "stdout",
     "output_type": "stream",
     "text": [
      "Количество уникальных значений в `utm_keyword` = 1219\n"
     ]
    }
   ],
   "source": [
    "n_unique = df_sessions['utm_keyword'].nunique()\n",
    "print(f'Количество уникальных значений в `utm_keyword` = {n_unique}')"
   ]
  },
  {
   "cell_type": "code",
   "execution_count": 75,
   "metadata": {},
   "outputs": [
    {
     "name": "stdout",
     "output_type": "stream",
     "text": [
      "Процент целевых действий для частых значений utm_keyword:\n"
     ]
    },
    {
     "data": {
      "text/html": [
       "<div>\n",
       "<style scoped>\n",
       "    .dataframe tbody tr th:only-of-type {\n",
       "        vertical-align: middle;\n",
       "    }\n",
       "\n",
       "    .dataframe tbody tr th {\n",
       "        vertical-align: top;\n",
       "    }\n",
       "\n",
       "    .dataframe thead th {\n",
       "        text-align: right;\n",
       "    }\n",
       "</style>\n",
       "<table border=\"1\" class=\"dataframe\">\n",
       "  <thead>\n",
       "    <tr style=\"text-align: right;\">\n",
       "      <th></th>\n",
       "      <th>Количество объектов</th>\n",
       "      <th>Доля от общего числа</th>\n",
       "      <th>Процент целевых действий</th>\n",
       "    </tr>\n",
       "    <tr>\n",
       "      <th>utm_keyword_frequent</th>\n",
       "      <th></th>\n",
       "      <th></th>\n",
       "      <th></th>\n",
       "    </tr>\n",
       "  </thead>\n",
       "  <tbody>\n",
       "    <tr>\n",
       "      <th>(nan)</th>\n",
       "      <td>1082061</td>\n",
       "      <td>58.17%</td>\n",
       "      <td>3.20%</td>\n",
       "    </tr>\n",
       "    <tr>\n",
       "      <th>puhZPIYqKXeFPaUviSjo</th>\n",
       "      <td>506819</td>\n",
       "      <td>27.25%</td>\n",
       "      <td>2.21%</td>\n",
       "    </tr>\n",
       "    <tr>\n",
       "      <th>rare_other</th>\n",
       "      <td>246921</td>\n",
       "      <td>13.28%</td>\n",
       "      <td>1.81%</td>\n",
       "    </tr>\n",
       "    <tr>\n",
       "      <th>aXQzDWsJuGXeBXexNHjc</th>\n",
       "      <td>24241</td>\n",
       "      <td>1.30%</td>\n",
       "      <td>0.30%</td>\n",
       "    </tr>\n",
       "  </tbody>\n",
       "</table>\n",
       "</div>"
      ],
      "text/plain": [
       "                      Количество объектов Доля от общего числа  \\\n",
       "utm_keyword_frequent                                             \n",
       "(nan)                             1082061               58.17%   \n",
       "puhZPIYqKXeFPaUviSjo               506819               27.25%   \n",
       "rare_other                         246921               13.28%   \n",
       "aXQzDWsJuGXeBXexNHjc                24241                1.30%   \n",
       "\n",
       "                     Процент целевых действий  \n",
       "utm_keyword_frequent                           \n",
       "(nan)                                   3.20%  \n",
       "puhZPIYqKXeFPaUviSjo                    2.21%  \n",
       "rare_other                              1.81%  \n",
       "aXQzDWsJuGXeBXexNHjc                    0.30%  "
      ]
     },
     "execution_count": 75,
     "metadata": {},
     "output_type": "execute_result"
    }
   ],
   "source": [
    "print('Процент целевых действий для частых значений utm_keyword:')\n",
    "df_sessions['utm_keyword_frequent'] = replace_rare(df_sessions['utm_keyword'], 0.01)\n",
    "target_percentage(df_sessions, 'utm_keyword_frequent')"
   ]
  },
  {
   "attachments": {},
   "cell_type": "markdown",
   "metadata": {},
   "source": [
    "Анализ признака показал, что пропущено значений более 1082 тыс. шт. - 58% от общего количества. Данное обстоятельство позволяет предположить о малой ценности даннго признака для будущей модели.\n",
    "Уникальных значений рассматриваемого признака 1219 шт.\n",
    "Для самых популярных значений признака `utm_keyword` доля целевых дейтвий находится в диапазоне от 0,3% до 3,2%."
   ]
  },
  {
   "attachments": {},
   "cell_type": "markdown",
   "metadata": {},
   "source": [
    "### Проанализируем признак `device_category` - тип устройства"
   ]
  },
  {
   "cell_type": "code",
   "execution_count": 76,
   "metadata": {},
   "outputs": [
    {
     "name": "stdout",
     "output_type": "stream",
     "text": [
      "Количество пропущенных значений в `device_category`: 0\n"
     ]
    }
   ],
   "source": [
    "missings = count_missings(df_sessions['device_category'])\n",
    "print(f'Количество пропущенных значений в `device_category`: {missings}')"
   ]
  },
  {
   "cell_type": "code",
   "execution_count": 77,
   "metadata": {},
   "outputs": [
    {
     "name": "stdout",
     "output_type": "stream",
     "text": [
      "Количество уникальных значений в `device_category` = 3\n"
     ]
    }
   ],
   "source": [
    "n_unique = df_sessions['device_category'].nunique()\n",
    "print(f'Количество уникальных значений в `device_category` = {n_unique}')"
   ]
  },
  {
   "cell_type": "code",
   "execution_count": 78,
   "metadata": {},
   "outputs": [
    {
     "data": {
      "text/plain": [
       "mobile     1474871\n",
       "desktop     366863\n",
       "tablet       18308\n",
       "Name: device_category, dtype: int64"
      ]
     },
     "execution_count": 78,
     "metadata": {},
     "output_type": "execute_result"
    }
   ],
   "source": [
    "df_sessions['device_category'].value_counts(dropna=False)"
   ]
  },
  {
   "cell_type": "code",
   "execution_count": 79,
   "metadata": {},
   "outputs": [
    {
     "name": "stdout",
     "output_type": "stream",
     "text": [
      "Процент целевых действий по категориям устройств: \n"
     ]
    },
    {
     "data": {
      "text/html": [
       "<div>\n",
       "<style scoped>\n",
       "    .dataframe tbody tr th:only-of-type {\n",
       "        vertical-align: middle;\n",
       "    }\n",
       "\n",
       "    .dataframe tbody tr th {\n",
       "        vertical-align: top;\n",
       "    }\n",
       "\n",
       "    .dataframe thead th {\n",
       "        text-align: right;\n",
       "    }\n",
       "</style>\n",
       "<table border=\"1\" class=\"dataframe\">\n",
       "  <thead>\n",
       "    <tr style=\"text-align: right;\">\n",
       "      <th></th>\n",
       "      <th>Количество объектов</th>\n",
       "      <th>Доля от общего числа</th>\n",
       "      <th>Процент целевых действий</th>\n",
       "    </tr>\n",
       "    <tr>\n",
       "      <th>Тип устройства</th>\n",
       "      <th></th>\n",
       "      <th></th>\n",
       "      <th></th>\n",
       "    </tr>\n",
       "  </thead>\n",
       "  <tbody>\n",
       "    <tr>\n",
       "      <th>desktop</th>\n",
       "      <td>366863</td>\n",
       "      <td>19.72%</td>\n",
       "      <td>3.14%</td>\n",
       "    </tr>\n",
       "    <tr>\n",
       "      <th>mobile</th>\n",
       "      <td>1474871</td>\n",
       "      <td>79.29%</td>\n",
       "      <td>2.60%</td>\n",
       "    </tr>\n",
       "    <tr>\n",
       "      <th>tablet</th>\n",
       "      <td>18308</td>\n",
       "      <td>0.98%</td>\n",
       "      <td>2.31%</td>\n",
       "    </tr>\n",
       "  </tbody>\n",
       "</table>\n",
       "</div>"
      ],
      "text/plain": [
       "                Количество объектов Доля от общего числа  \\\n",
       "Тип устройства                                             \n",
       "desktop                      366863               19.72%   \n",
       "mobile                      1474871               79.29%   \n",
       "tablet                        18308                0.98%   \n",
       "\n",
       "               Процент целевых действий  \n",
       "Тип устройства                           \n",
       "desktop                           3.14%  \n",
       "mobile                            2.60%  \n",
       "tablet                            2.31%  "
      ]
     },
     "execution_count": 79,
     "metadata": {},
     "output_type": "execute_result"
    }
   ],
   "source": [
    "print('Процент целевых действий по категориям устройств: ')\n",
    "target_percentage(df_sessions, 'device_category', index_name='Тип устройства')"
   ]
  },
  {
   "cell_type": "markdown",
   "metadata": {},
   "source": [
    "Проведенный анализ показал, что пропущенных значений нет, количество уникальных значений - 3 (компьютер, мобильный телефон, планшет).\n",
    "Наибольший процент целевых действий пользователи совершают с использованием персонального компьютера."
   ]
  },
  {
   "cell_type": "markdown",
   "metadata": {},
   "source": [
    "### Выполним анализ переменной `device_os` - ОС устройства  "
   ]
  },
  {
   "cell_type": "code",
   "execution_count": 80,
   "metadata": {},
   "outputs": [
    {
     "name": "stdout",
     "output_type": "stream",
     "text": [
      "Количество пропущенных значений в `device_os`: 1070138\n"
     ]
    }
   ],
   "source": [
    "missings = (df_sessions['device_os'].isnull().sum())\n",
    "print(f'Количество пропущенных значений в `device_os`: {missings}')"
   ]
  },
  {
   "cell_type": "code",
   "execution_count": 81,
   "metadata": {},
   "outputs": [
    {
     "name": "stdout",
     "output_type": "stream",
     "text": [
      "Количество уникальных значений в `device_os` = 13\n"
     ]
    }
   ],
   "source": [
    "n_unique = df_sessions['device_os'].nunique()\n",
    "print(f'Количество уникальных значений в `device_os` = {n_unique}')"
   ]
  },
  {
   "cell_type": "code",
   "execution_count": 82,
   "metadata": {},
   "outputs": [
    {
     "data": {
      "text/plain": [
       "NaN              1070138\n",
       "Android           464054\n",
       "iOS               207104\n",
       "Windows            88307\n",
       "Macintosh          24824\n",
       "Linux               5120\n",
       "(not set)            364\n",
       "Chrome OS             83\n",
       "BlackBerry            27\n",
       "Tizen                  7\n",
       "Samsung                4\n",
       "Windows Phone          4\n",
       "Firefox OS             3\n",
       "Nokia                  3\n",
       "Name: device_os, dtype: int64"
      ]
     },
     "execution_count": 82,
     "metadata": {},
     "output_type": "execute_result"
    }
   ],
   "source": [
    "df_sessions['device_os'].value_counts(dropna=False)"
   ]
  },
  {
   "cell_type": "code",
   "execution_count": 83,
   "metadata": {},
   "outputs": [
    {
     "name": "stdout",
     "output_type": "stream",
     "text": [
      "Процент целевых действий для популярных ОС: \n"
     ]
    },
    {
     "data": {
      "text/html": [
       "<div>\n",
       "<style scoped>\n",
       "    .dataframe tbody tr th:only-of-type {\n",
       "        vertical-align: middle;\n",
       "    }\n",
       "\n",
       "    .dataframe tbody tr th {\n",
       "        vertical-align: top;\n",
       "    }\n",
       "\n",
       "    .dataframe thead th {\n",
       "        text-align: right;\n",
       "    }\n",
       "</style>\n",
       "<table border=\"1\" class=\"dataframe\">\n",
       "  <thead>\n",
       "    <tr style=\"text-align: right;\">\n",
       "      <th></th>\n",
       "      <th>Количество объектов</th>\n",
       "      <th>Доля от общего числа</th>\n",
       "      <th>Процент целевых действий</th>\n",
       "    </tr>\n",
       "    <tr>\n",
       "      <th>ОС</th>\n",
       "      <th></th>\n",
       "      <th></th>\n",
       "      <th></th>\n",
       "    </tr>\n",
       "  </thead>\n",
       "  <tbody>\n",
       "    <tr>\n",
       "      <th>(nan)</th>\n",
       "      <td>1070138</td>\n",
       "      <td>57.53%</td>\n",
       "      <td>3.22%</td>\n",
       "    </tr>\n",
       "    <tr>\n",
       "      <th>Macintosh</th>\n",
       "      <td>24824</td>\n",
       "      <td>1.33%</td>\n",
       "      <td>3.11%</td>\n",
       "    </tr>\n",
       "    <tr>\n",
       "      <th>Android</th>\n",
       "      <td>464054</td>\n",
       "      <td>24.95%</td>\n",
       "      <td>2.04%</td>\n",
       "    </tr>\n",
       "    <tr>\n",
       "      <th>iOS</th>\n",
       "      <td>207104</td>\n",
       "      <td>11.13%</td>\n",
       "      <td>1.89%</td>\n",
       "    </tr>\n",
       "    <tr>\n",
       "      <th>Windows</th>\n",
       "      <td>88307</td>\n",
       "      <td>4.75%</td>\n",
       "      <td>1.85%</td>\n",
       "    </tr>\n",
       "    <tr>\n",
       "      <th>rare_other</th>\n",
       "      <td>5615</td>\n",
       "      <td>0.30%</td>\n",
       "      <td>1.60%</td>\n",
       "    </tr>\n",
       "  </tbody>\n",
       "</table>\n",
       "</div>"
      ],
      "text/plain": [
       "            Количество объектов Доля от общего числа Процент целевых действий\n",
       "ОС                                                                           \n",
       "(nan)                   1070138               57.53%                    3.22%\n",
       "Macintosh                 24824                1.33%                    3.11%\n",
       "Android                  464054               24.95%                    2.04%\n",
       "iOS                      207104               11.13%                    1.89%\n",
       "Windows                   88307                4.75%                    1.85%\n",
       "rare_other                 5615                0.30%                    1.60%"
      ]
     },
     "execution_count": 83,
     "metadata": {},
     "output_type": "execute_result"
    }
   ],
   "source": [
    "print('Процент целевых действий для популярных ОС: ')\n",
    "df_sessions['device_os_frequent'] = replace_rare(df_sessions['device_os'], 0.01)\n",
    "target_percentage(df_sessions, 'device_os_frequent', index_name='ОС')"
   ]
  },
  {
   "cell_type": "markdown",
   "metadata": {},
   "source": [
    "Анализ признака показал, что количество пропущенных значений велико - более 100 тыс., уникальных значений всего 13, при этом большая часть ОС устройств не идентифицирована.  \n",
    "Наибольший процент целевых действий пользователи совершают с устройст с неопределенной ОС. "
   ]
  },
  {
   "cell_type": "markdown",
   "metadata": {},
   "source": [
    "### Анализ признака `device_brand` - марка устройства  "
   ]
  },
  {
   "cell_type": "code",
   "execution_count": 84,
   "metadata": {},
   "outputs": [
    {
     "name": "stdout",
     "output_type": "stream",
     "text": [
      "Доля пропущенных значений в `device_brand`: 19.74%\n"
     ]
    }
   ],
   "source": [
    "missings = (df_sessions['device_brand'].isna().sum()) / len(df_sessions)\n",
    "print(f'Доля пропущенных значений в `device_brand`: {missings:0.2%}')"
   ]
  },
  {
   "cell_type": "code",
   "execution_count": 85,
   "metadata": {},
   "outputs": [
    {
     "name": "stdout",
     "output_type": "stream",
     "text": [
      "Количество уникальных значений в `device_brand` = 205\n"
     ]
    }
   ],
   "source": [
    "n_unique = df_sessions['device_brand'].nunique()\n",
    "print(f'Количество уникальных значений в `device_brand` = {n_unique}')"
   ]
  },
  {
   "cell_type": "code",
   "execution_count": 86,
   "metadata": {},
   "outputs": [
    {
     "data": {
      "text/plain": [
       "Apple        551088\n",
       "NaN          367178\n",
       "Samsung      332194\n",
       "Xiaomi       288367\n",
       "Huawei       185853\n",
       "Realme        19058\n",
       "(not set)     17545\n",
       "OPPO          13504\n",
       "Vivo          11740\n",
       "OnePlus        9965\n",
       "Asus           7929\n",
       "Nokia          7285\n",
       "Sony           6459\n",
       "ZTE            6365\n",
       "Google         5150\n",
       "Meizu          3750\n",
       "Lenovo         3148\n",
       "Blackview      2759\n",
       "Tecno          2654\n",
       "LG             2447\n",
       "Name: device_brand, dtype: int64"
      ]
     },
     "execution_count": 86,
     "metadata": {},
     "output_type": "execute_result"
    }
   ],
   "source": [
    "df_sessions['device_brand'].value_counts(dropna=False).head(20)"
   ]
  },
  {
   "cell_type": "code",
   "execution_count": 87,
   "metadata": {},
   "outputs": [
    {
     "name": "stdout",
     "output_type": "stream",
     "text": [
      "Процент целевых действий для частых значений марки устройства:\n"
     ]
    },
    {
     "data": {
      "text/html": [
       "<div>\n",
       "<style scoped>\n",
       "    .dataframe tbody tr th:only-of-type {\n",
       "        vertical-align: middle;\n",
       "    }\n",
       "\n",
       "    .dataframe tbody tr th {\n",
       "        vertical-align: top;\n",
       "    }\n",
       "\n",
       "    .dataframe thead th {\n",
       "        text-align: right;\n",
       "    }\n",
       "</style>\n",
       "<table border=\"1\" class=\"dataframe\">\n",
       "  <thead>\n",
       "    <tr style=\"text-align: right;\">\n",
       "      <th></th>\n",
       "      <th>Количество объектов</th>\n",
       "      <th>Доля от общего числа</th>\n",
       "      <th>Процент целевых действий</th>\n",
       "    </tr>\n",
       "    <tr>\n",
       "      <th>Марка устройства</th>\n",
       "      <th></th>\n",
       "      <th></th>\n",
       "      <th></th>\n",
       "    </tr>\n",
       "  </thead>\n",
       "  <tbody>\n",
       "    <tr>\n",
       "      <th>(nan)</th>\n",
       "      <td>367178</td>\n",
       "      <td>19.74%</td>\n",
       "      <td>3.14%</td>\n",
       "    </tr>\n",
       "    <tr>\n",
       "      <th>Samsung</th>\n",
       "      <td>332194</td>\n",
       "      <td>17.86%</td>\n",
       "      <td>3.03%</td>\n",
       "    </tr>\n",
       "    <tr>\n",
       "      <th>Apple</th>\n",
       "      <td>551088</td>\n",
       "      <td>29.63%</td>\n",
       "      <td>2.63%</td>\n",
       "    </tr>\n",
       "    <tr>\n",
       "      <th>Huawei</th>\n",
       "      <td>185853</td>\n",
       "      <td>9.99%</td>\n",
       "      <td>2.43%</td>\n",
       "    </tr>\n",
       "    <tr>\n",
       "      <th>rare_other</th>\n",
       "      <td>135362</td>\n",
       "      <td>7.28%</td>\n",
       "      <td>2.34%</td>\n",
       "    </tr>\n",
       "    <tr>\n",
       "      <th>Xiaomi</th>\n",
       "      <td>288367</td>\n",
       "      <td>15.50%</td>\n",
       "      <td>2.29%</td>\n",
       "    </tr>\n",
       "  </tbody>\n",
       "</table>\n",
       "</div>"
      ],
      "text/plain": [
       "                  Количество объектов Доля от общего числа  \\\n",
       "Марка устройства                                             \n",
       "(nan)                          367178               19.74%   \n",
       "Samsung                        332194               17.86%   \n",
       "Apple                          551088               29.63%   \n",
       "Huawei                         185853                9.99%   \n",
       "rare_other                     135362                7.28%   \n",
       "Xiaomi                         288367               15.50%   \n",
       "\n",
       "                 Процент целевых действий  \n",
       "Марка устройства                           \n",
       "(nan)                               3.14%  \n",
       "Samsung                             3.03%  \n",
       "Apple                               2.63%  \n",
       "Huawei                              2.43%  \n",
       "rare_other                          2.34%  \n",
       "Xiaomi                              2.29%  "
      ]
     },
     "execution_count": 87,
     "metadata": {},
     "output_type": "execute_result"
    }
   ],
   "source": [
    "print('Процент целевых действий для частых значений марки устройства:')\n",
    "df_sessions['device_brand_frequent'] = replace_rare(df_sessions['device_brand'])\n",
    "target_percentage(df_sessions, 'device_brand_frequent', \n",
    "                  index_name='Марка устройства')"
   ]
  },
  {
   "cell_type": "markdown",
   "metadata": {},
   "source": [
    "Проведенный анализ показал, что уникальных значений принака 205 шт., доля пропущенных значений 19.7%.  \n",
    "Наибольший процент целевых действий пользователи совершали с неопределенных устройств."
   ]
  },
  {
   "cell_type": "markdown",
   "metadata": {},
   "source": [
    "### Проанализируем переменную `device_model` - модель устройства  "
   ]
  },
  {
   "cell_type": "code",
   "execution_count": 88,
   "metadata": {},
   "outputs": [
    {
     "name": "stdout",
     "output_type": "stream",
     "text": [
      "Количество пропущенных значений в `device_model`: 1843704, что состаляет  99.12%\n"
     ]
    }
   ],
   "source": [
    "missings = (df_sessions['device_model'].isna().sum())\n",
    "print(f'Количество пропущенных значений в `device_model`: {missings}, что состаляет {missings/len(df_sessions): .2%}')"
   ]
  },
  {
   "cell_type": "code",
   "execution_count": 89,
   "metadata": {},
   "outputs": [
    {
     "name": "stdout",
     "output_type": "stream",
     "text": [
      "Количество уникальных значений в `device_model` = 104\n"
     ]
    }
   ],
   "source": [
    "n_unique = df_sessions['device_model'].nunique()\n",
    "print(f'Количество уникальных значений в `device_model` = {n_unique}')"
   ]
  },
  {
   "cell_type": "code",
   "execution_count": 90,
   "metadata": {},
   "outputs": [
    {
     "data": {
      "text/plain": [
       "NaN                     1843704\n",
       "AuMdmADEIoPXiWpTsBEj       9778\n",
       "tWBQlsvNfHxRUjaPAfhd        653\n",
       "cwMJxNXiWUgMUxGiCTPs        651\n",
       "pTgAEPipQxDXCjPrJbHo        461\n",
       "FJApgTrMAGHoxCxQVKws        372\n",
       "tfPZFRbtlzEssBEesRwM        335\n",
       "pcvPxfVFaAmhwFmvIeYd        325\n",
       "aCLaTVQlHcXbUnQYQvIg        236\n",
       "mzJXHtJPIOSHoHtgezIA        235\n",
       "JAIKWwxRffFOXQcfGTVi        198\n",
       "zFCiMWkbbAhTflrlLWnz        176\n",
       "jXFxTkHxuiBKWOvUtsIa        170\n",
       "mSVMBvlHFgftJaQAZEdp        152\n",
       "AshpvdJdReafUzEMmWGr        141\n",
       "IiVVIXFnNMwpBtuHILvS        130\n",
       "DzXtLnggNbQSyyFLKlgY        118\n",
       "QIRMJBHwssjlXzlheRfO        102\n",
       "wsPZygnUifLMgkSEnWLj        102\n",
       "qBRdfuuhOnnqwSqNiPOv        101\n",
       "Name: device_model, dtype: int64"
      ]
     },
     "execution_count": 90,
     "metadata": {},
     "output_type": "execute_result"
    }
   ],
   "source": [
    "df_sessions['device_model'].value_counts(dropna=False).head(20)"
   ]
  },
  {
   "cell_type": "code",
   "execution_count": 91,
   "metadata": {},
   "outputs": [
    {
     "name": "stdout",
     "output_type": "stream",
     "text": [
      "Распределение пропущенного и остальных значений device_model:\n"
     ]
    },
    {
     "data": {
      "text/html": [
       "<div>\n",
       "<style scoped>\n",
       "    .dataframe tbody tr th:only-of-type {\n",
       "        vertical-align: middle;\n",
       "    }\n",
       "\n",
       "    .dataframe tbody tr th {\n",
       "        vertical-align: top;\n",
       "    }\n",
       "\n",
       "    .dataframe thead th {\n",
       "        text-align: right;\n",
       "    }\n",
       "</style>\n",
       "<table border=\"1\" class=\"dataframe\">\n",
       "  <thead>\n",
       "    <tr style=\"text-align: right;\">\n",
       "      <th></th>\n",
       "      <th>Количество объектов</th>\n",
       "      <th>Доля от общего числа</th>\n",
       "      <th>Процент целевых действий</th>\n",
       "    </tr>\n",
       "    <tr>\n",
       "      <th>device_model_frequent</th>\n",
       "      <th></th>\n",
       "      <th></th>\n",
       "      <th></th>\n",
       "    </tr>\n",
       "  </thead>\n",
       "  <tbody>\n",
       "    <tr>\n",
       "      <th>(nan)</th>\n",
       "      <td>1843704</td>\n",
       "      <td>99.12%</td>\n",
       "      <td>2.71%</td>\n",
       "    </tr>\n",
       "    <tr>\n",
       "      <th>rare_other</th>\n",
       "      <td>16338</td>\n",
       "      <td>0.88%</td>\n",
       "      <td>2.09%</td>\n",
       "    </tr>\n",
       "  </tbody>\n",
       "</table>\n",
       "</div>"
      ],
      "text/plain": [
       "                       Количество объектов Доля от общего числа  \\\n",
       "device_model_frequent                                             \n",
       "(nan)                              1843704               99.12%   \n",
       "rare_other                           16338                0.88%   \n",
       "\n",
       "                      Процент целевых действий  \n",
       "device_model_frequent                           \n",
       "(nan)                                    2.71%  \n",
       "rare_other                               2.09%  "
      ]
     },
     "execution_count": 91,
     "metadata": {},
     "output_type": "execute_result"
    }
   ],
   "source": [
    "print('Распределение пропущенного и остальных значений device_model:')\n",
    "df_sessions['device_model_frequent'] = replace_rare(df_sessions['device_model'], 0.01)\n",
    "target_percentage(df_sessions, 'device_model_frequent')"
   ]
  },
  {
   "cell_type": "markdown",
   "metadata": {},
   "source": [
    "Проведенный анализ показал, что количество пропской в колонке составляет более 99%, что делает нецелесообразным использование данного признака в моделировании."
   ]
  },
  {
   "cell_type": "markdown",
   "metadata": {},
   "source": [
    "### Выполним анализ признака `device_screen_resolution` - разрешение экрана  \n"
   ]
  },
  {
   "cell_type": "code",
   "execution_count": 92,
   "metadata": {},
   "outputs": [
    {
     "name": "stdout",
     "output_type": "stream",
     "text": [
      "Пропущенных значений в `device_screen_resolution`: 8\n"
     ]
    }
   ],
   "source": [
    "missings = count_missings(df_sessions['device_screen_resolution'])\n",
    "print(f'Пропущенных значений в `device_screen_resolution`:', missings)"
   ]
  },
  {
   "cell_type": "code",
   "execution_count": 93,
   "metadata": {},
   "outputs": [
    {
     "data": {
      "text/plain": [
       "414x896      169090\n",
       "1920x1080    125768\n",
       "375x812      117944\n",
       "393x851      115454\n",
       "375x667       93341\n",
       "360x780       92182\n",
       "360x800       80547\n",
       "412x915       74744\n",
       "360x640       70588\n",
       "390x844       60827\n",
       "393x873       52056\n",
       "360x720       50603\n",
       "360x760       50467\n",
       "412x892       43944\n",
       "428x926       40690\n",
       "1536x864      37287\n",
       "1366x768      34102\n",
       "414x736       32631\n",
       "1440x900      31036\n",
       "412x846       25121\n",
       "Name: device_screen_resolution, dtype: int64"
      ]
     },
     "execution_count": 93,
     "metadata": {},
     "output_type": "execute_result"
    }
   ],
   "source": [
    "df_sessions['device_screen_resolution'].value_counts().head(20)"
   ]
  },
  {
   "cell_type": "code",
   "execution_count": 94,
   "metadata": {},
   "outputs": [
    {
     "data": {
      "text/plain": [
       "0x0          11\n",
       "(not set)     8\n",
       "Name: device_screen_resolution, dtype: int64"
      ]
     },
     "execution_count": 94,
     "metadata": {},
     "output_type": "execute_result"
    }
   ],
   "source": [
    "missing_values = ['(not set)', '(none)', '(NaN)', '(nan)', '0x0']\n",
    "missed_mask = df_sessions['device_screen_resolution'].isin(missing_values)\n",
    "df_sessions[missed_mask]['device_screen_resolution'].value_counts(dropna=False)"
   ]
  },
  {
   "cell_type": "code",
   "execution_count": 95,
   "metadata": {},
   "outputs": [
    {
     "name": "stdout",
     "output_type": "stream",
     "text": [
      "Уникальных значений в `device_screen_resolution` = 5039\n"
     ]
    }
   ],
   "source": [
    "n_unique = df_sessions['device_screen_resolution'].nunique()\n",
    "print(f'Уникальных значений в `device_screen_resolution` = {n_unique}')"
   ]
  },
  {
   "cell_type": "markdown",
   "metadata": {},
   "source": [
    "Разобъём колонку на ширину и высоту - `device_screen_width` и `device_screen_height`."
   ]
  },
  {
   "cell_type": "code",
   "execution_count": 96,
   "metadata": {},
   "outputs": [],
   "source": [
    "# создаем split, кторый будест состоять из ширины и длины. Перед этим пропущенные значения заменим на '414x896' и разделим в \"х\" и сохраним как целочисленное значение\n",
    "split = df_sessions['device_screen_resolution'].replace(missing_values, '414x896').str.split('x', expand=True).astype(int)\n",
    "# создадим столбцы с шириной и длиной, куда занесем значения\n",
    "df_sessions[['device_screen_width', 'device_screen_height']] = split\n"
   ]
  },
  {
   "cell_type": "code",
   "execution_count": 97,
   "metadata": {},
   "outputs": [
    {
     "data": {
      "text/html": [
       "<div>\n",
       "<style scoped>\n",
       "    .dataframe tbody tr th:only-of-type {\n",
       "        vertical-align: middle;\n",
       "    }\n",
       "\n",
       "    .dataframe tbody tr th {\n",
       "        vertical-align: top;\n",
       "    }\n",
       "\n",
       "    .dataframe thead th {\n",
       "        text-align: right;\n",
       "    }\n",
       "</style>\n",
       "<table border=\"1\" class=\"dataframe\">\n",
       "  <thead>\n",
       "    <tr style=\"text-align: right;\">\n",
       "      <th></th>\n",
       "      <th>device_screen_width</th>\n",
       "      <th>device_screen_height</th>\n",
       "    </tr>\n",
       "  </thead>\n",
       "  <tbody>\n",
       "    <tr>\n",
       "      <th>count</th>\n",
       "      <td>1.860042e+06</td>\n",
       "      <td>1.860042e+06</td>\n",
       "    </tr>\n",
       "    <tr>\n",
       "      <th>mean</th>\n",
       "      <td>6.567073e+02</td>\n",
       "      <td>8.408794e+02</td>\n",
       "    </tr>\n",
       "    <tr>\n",
       "      <th>std</th>\n",
       "      <td>5.531421e+02</td>\n",
       "      <td>1.939526e+02</td>\n",
       "    </tr>\n",
       "    <tr>\n",
       "      <th>min</th>\n",
       "      <td>1.800000e+02</td>\n",
       "      <td>2.560000e+02</td>\n",
       "    </tr>\n",
       "    <tr>\n",
       "      <th>25%</th>\n",
       "      <td>3.600000e+02</td>\n",
       "      <td>7.600000e+02</td>\n",
       "    </tr>\n",
       "    <tr>\n",
       "      <th>50%</th>\n",
       "      <td>3.930000e+02</td>\n",
       "      <td>8.440000e+02</td>\n",
       "    </tr>\n",
       "    <tr>\n",
       "      <th>75%</th>\n",
       "      <td>4.280000e+02</td>\n",
       "      <td>8.960000e+02</td>\n",
       "    </tr>\n",
       "    <tr>\n",
       "      <th>max</th>\n",
       "      <td>5.924000e+03</td>\n",
       "      <td>2.000000e+04</td>\n",
       "    </tr>\n",
       "  </tbody>\n",
       "</table>\n",
       "</div>"
      ],
      "text/plain": [
       "       device_screen_width  device_screen_height\n",
       "count         1.860042e+06          1.860042e+06\n",
       "mean          6.567073e+02          8.408794e+02\n",
       "std           5.531421e+02          1.939526e+02\n",
       "min           1.800000e+02          2.560000e+02\n",
       "25%           3.600000e+02          7.600000e+02\n",
       "50%           3.930000e+02          8.440000e+02\n",
       "75%           4.280000e+02          8.960000e+02\n",
       "max           5.924000e+03          2.000000e+04"
      ]
     },
     "execution_count": 97,
     "metadata": {},
     "output_type": "execute_result"
    }
   ],
   "source": [
    "df_sessions[['device_screen_width', 'device_screen_height']].describe()"
   ]
  },
  {
   "cell_type": "code",
   "execution_count": 98,
   "metadata": {},
   "outputs": [
    {
     "data": {
      "image/png": "[encoded data removed]",
      "text/plain": [
       "<Figure size 2160x720 with 2 Axes>"
      ]
     },
     "metadata": {
      "needs_background": "light"
     },
     "output_type": "display_data"
    }
   ],
   "source": [
    "fig, (ax1, ax2) = plt.subplots(nrows=2, ncols=1, figsize=(30, 10))\n",
    "\n",
    "sns.boxplot(data=df_sessions, x='device_screen_width', \n",
    "            y='target', ax=ax1, orient='h')\n",
    "sns.boxplot(data=df_sessions, x='device_screen_height', \n",
    "            y='target', ax=ax2, orient='h')\n",
    "\n",
    "# ограничим показ выбросов\n",
    "ax1.set_xlim(200, 1000)\n",
    "ax2.set_xlim(400, 2000)\n",
    "\n",
    "fig.suptitle(f'Диаграмма размаха ширины и длины экрана '\n",
    "             f'в зависимости от целевой переменной', fontsize='20')\n",
    "plt.show()"
   ]
  },
  {
   "cell_type": "markdown",
   "metadata": {},
   "source": [
    "Создадим дополнительные признаки - площадь экрана `device_screen_area` и соотношение сторон `device_screen_ratio`."
   ]
  },
  {
   "cell_type": "code",
   "execution_count": 99,
   "metadata": {},
   "outputs": [],
   "source": [
    "df_sessions['device_screen_area'] = df_sessions['device_screen_width'] * df_sessions['device_screen_height']\n",
    "df_sessions['device_screen_ratio'] = df_sessions['device_screen_width'] / df_sessions['device_screen_height']"
   ]
  },
  {
   "cell_type": "code",
   "execution_count": 100,
   "metadata": {},
   "outputs": [
    {
     "data": {
      "image/png": "[encoded data removed]",
      "text/plain": [
       "<Figure size 2160x576 with 2 Axes>"
      ]
     },
     "metadata": {
      "needs_background": "light"
     },
     "output_type": "display_data"
    }
   ],
   "source": [
    "fig, (ax1, ax2) = plt.subplots(nrows=2, ncols=1, figsize=(30, 8))\n",
    "\n",
    "sns.boxplot(data=df_sessions, x='device_screen_area', \n",
    "            y='target', ax=ax1, orient='h')\n",
    "sns.boxplot(data=df_sessions, x='device_screen_ratio', \n",
    "            y='target', ax=ax2, orient='h')\n",
    "\n",
    "# ограничим показ выбросов\n",
    "ax1.set_xlim(100_000, 1_000_000)\n",
    "ax2.set_xlim(0.3, 1.5)\n",
    "\n",
    "fig.suptitle(f'Диаграмма размаха площади экрана и соотношения сторон '\n",
    "             f'в зависимости от целевой переменной', fontsize='20')\n",
    "plt.show()"
   ]
  },
  {
   "cell_type": "markdown",
   "metadata": {},
   "source": [
    "Проведенный анализ показывает, что пропущенных значений в колонке всего 19 (значения '0x0', '(not set)'). Самое часто встречающееся значение - 414x896. Пропуски были зменены на самое частое значение. Уникальных значений признака - 5039.  \n",
    "Напрямую использовать признак не получится, но можно из него получить новые признаки, такие как: соотношение сторон, площадь, ширина и высота экрана.  \n",
    "Целевая переменная не коррелирует ни с одним производным признаком. Судя по диаграммам размаха те, пользователи, у которых разрешение экрана выше, более склонны совершить целевое действие.  "
   ]
  },
  {
   "cell_type": "markdown",
   "metadata": {},
   "source": [
    "### Проанализируем признак `device_browser` - браузер пользователя  "
   ]
  },
  {
   "cell_type": "code",
   "execution_count": 101,
   "metadata": {},
   "outputs": [
    {
     "name": "stdout",
     "output_type": "stream",
     "text": [
      "Количество пропущенных значений в `device_browser`: (not set)    17\n",
      "Name: device_browser, dtype: int64\n"
     ]
    }
   ],
   "source": [
    "missed_mask = df_sessions['device_browser'].isin(missing_values)\n",
    "missings = df_sessions[missed_mask]['device_browser'].value_counts(dropna=False)\n",
    "print(f'Количество пропущенных значений в `device_browser`: {missings}')"
   ]
  },
  {
   "cell_type": "code",
   "execution_count": 102,
   "metadata": {},
   "outputs": [
    {
     "name": "stdout",
     "output_type": "stream",
     "text": [
      "Количество уникальных значений в `device_browser` = 57\n"
     ]
    }
   ],
   "source": [
    "n_unique = df_sessions['device_browser'].nunique()\n",
    "print(f'Количество уникальных значений в `device_browser` = {n_unique}')"
   ]
  },
  {
   "cell_type": "code",
   "execution_count": 103,
   "metadata": {},
   "outputs": [
    {
     "data": {
      "text/plain": [
       "Chrome             1013436\n",
       "Safari              478562\n",
       "YaBrowser           133311\n",
       "Safari (in-app)      69912\n",
       "Android Webview      55369\n",
       "Name: device_browser, dtype: int64"
      ]
     },
     "execution_count": 103,
     "metadata": {},
     "output_type": "execute_result"
    }
   ],
   "source": [
    "df_sessions['device_browser'].value_counts(dropna=False).head()"
   ]
  },
  {
   "cell_type": "code",
   "execution_count": 104,
   "metadata": {},
   "outputs": [
    {
     "name": "stdout",
     "output_type": "stream",
     "text": [
      "Процент целевых действий для самых популярных браузеров:\n"
     ]
    },
    {
     "data": {
      "text/html": [
       "<div>\n",
       "<style scoped>\n",
       "    .dataframe tbody tr th:only-of-type {\n",
       "        vertical-align: middle;\n",
       "    }\n",
       "\n",
       "    .dataframe tbody tr th {\n",
       "        vertical-align: top;\n",
       "    }\n",
       "\n",
       "    .dataframe thead th {\n",
       "        text-align: right;\n",
       "    }\n",
       "</style>\n",
       "<table border=\"1\" class=\"dataframe\">\n",
       "  <thead>\n",
       "    <tr style=\"text-align: right;\">\n",
       "      <th></th>\n",
       "      <th>Количество объектов</th>\n",
       "      <th>Доля от общего числа</th>\n",
       "      <th>Процент целевых действий</th>\n",
       "    </tr>\n",
       "    <tr>\n",
       "      <th>Браузер</th>\n",
       "      <th></th>\n",
       "      <th></th>\n",
       "      <th></th>\n",
       "    </tr>\n",
       "  </thead>\n",
       "  <tbody>\n",
       "    <tr>\n",
       "      <th>rare_other</th>\n",
       "      <td>35326</td>\n",
       "      <td>1.90%</td>\n",
       "      <td>3.18%</td>\n",
       "    </tr>\n",
       "    <tr>\n",
       "      <th>YaBrowser</th>\n",
       "      <td>133311</td>\n",
       "      <td>7.17%</td>\n",
       "      <td>3.07%</td>\n",
       "    </tr>\n",
       "    <tr>\n",
       "      <th>Android Webview</th>\n",
       "      <td>55369</td>\n",
       "      <td>2.98%</td>\n",
       "      <td>2.81%</td>\n",
       "    </tr>\n",
       "    <tr>\n",
       "      <th>Safari</th>\n",
       "      <td>478562</td>\n",
       "      <td>25.73%</td>\n",
       "      <td>2.78%</td>\n",
       "    </tr>\n",
       "    <tr>\n",
       "      <th>Chrome</th>\n",
       "      <td>1013436</td>\n",
       "      <td>54.48%</td>\n",
       "      <td>2.68%</td>\n",
       "    </tr>\n",
       "    <tr>\n",
       "      <th>Samsung Internet</th>\n",
       "      <td>47309</td>\n",
       "      <td>2.54%</td>\n",
       "      <td>2.66%</td>\n",
       "    </tr>\n",
       "    <tr>\n",
       "      <th>Opera</th>\n",
       "      <td>26817</td>\n",
       "      <td>1.44%</td>\n",
       "      <td>2.09%</td>\n",
       "    </tr>\n",
       "    <tr>\n",
       "      <th>Safari (in-app)</th>\n",
       "      <td>69912</td>\n",
       "      <td>3.76%</td>\n",
       "      <td>1.75%</td>\n",
       "    </tr>\n",
       "  </tbody>\n",
       "</table>\n",
       "</div>"
      ],
      "text/plain": [
       "                  Количество объектов Доля от общего числа  \\\n",
       "Браузер                                                      \n",
       "rare_other                      35326                1.90%   \n",
       "YaBrowser                      133311                7.17%   \n",
       "Android Webview                 55369                2.98%   \n",
       "Safari                         478562               25.73%   \n",
       "Chrome                        1013436               54.48%   \n",
       "Samsung Internet                47309                2.54%   \n",
       "Opera                           26817                1.44%   \n",
       "Safari (in-app)                 69912                3.76%   \n",
       "\n",
       "                 Процент целевых действий  \n",
       "Браузер                                    \n",
       "rare_other                          3.18%  \n",
       "YaBrowser                           3.07%  \n",
       "Android Webview                     2.81%  \n",
       "Safari                              2.78%  \n",
       "Chrome                              2.68%  \n",
       "Samsung Internet                    2.66%  \n",
       "Opera                               2.09%  \n",
       "Safari (in-app)                     1.75%  "
      ]
     },
     "execution_count": 104,
     "metadata": {},
     "output_type": "execute_result"
    }
   ],
   "source": [
    "print('Процент целевых действий для самых популярных браузеров:')\n",
    "df_sessions['device_browser_frequent'] = replace_rare(df_sessions['device_browser'], \n",
    "                                                      tolerance=0.01)\n",
    "target_percentage(df_sessions, 'device_browser_frequent', index_name='Браузер')"
   ]
  },
  {
   "cell_type": "markdown",
   "metadata": {},
   "source": [
    "Анализ признака показал, что незаполненых значений незначительное количество - 17 шт, уникальных значений признаков всего 57, но 88% из них встречаются редко.  \n",
    "Наибольший процент целевых действий происходит чере Яндекс-браузер. В топе так же просмоторщик веб-страниц Андроид, Сафари и Хром."
   ]
  },
  {
   "cell_type": "markdown",
   "metadata": {},
   "source": [
    "### Проведем анализ признака `geo_country` - страна просмотра    "
   ]
  },
  {
   "cell_type": "code",
   "execution_count": 105,
   "metadata": {},
   "outputs": [
    {
     "name": "stdout",
     "output_type": "stream",
     "text": [
      "Количество пропущенных значений в `geo_country`: (not set)    1146\n",
      "Name: geo_country, dtype: int64\n"
     ]
    }
   ],
   "source": [
    "missed_mask = df_sessions['geo_country'].isin(missing_values)\n",
    "missings = df_sessions[missed_mask]['geo_country'].value_counts(dropna=False)\n",
    "print(f'Количество пропущенных значений в `geo_country`: {missings}')"
   ]
  },
  {
   "cell_type": "code",
   "execution_count": 106,
   "metadata": {},
   "outputs": [
    {
     "name": "stdout",
     "output_type": "stream",
     "text": [
      "Количество уникальных значений в `geo_country` = 166\n"
     ]
    }
   ],
   "source": [
    "n_unique = df_sessions['geo_country'].nunique()\n",
    "print(f'Количество уникальных значений в `geo_country` = {n_unique}')"
   ]
  },
  {
   "cell_type": "code",
   "execution_count": 107,
   "metadata": {},
   "outputs": [
    {
     "data": {
      "text/plain": [
       "Russia           1800565\n",
       "United States      11784\n",
       "Ukraine             9012\n",
       "Ireland             4034\n",
       "Belarus             3636\n",
       "Sweden              2694\n",
       "Kazakhstan          2279\n",
       "Germany             2232\n",
       "Turkey              1953\n",
       "Netherlands         1549\n",
       "Name: geo_country, dtype: int64"
      ]
     },
     "execution_count": 107,
     "metadata": {},
     "output_type": "execute_result"
    }
   ],
   "source": [
    "df_sessions['geo_country'].value_counts(dropna=False).head(10)"
   ]
  },
  {
   "cell_type": "code",
   "execution_count": 108,
   "metadata": {},
   "outputs": [
    {
     "name": "stdout",
     "output_type": "stream",
     "text": [
      "Процент целевых действий для стран с наибольшим посещением сайта:\n"
     ]
    },
    {
     "data": {
      "text/html": [
       "<div>\n",
       "<style scoped>\n",
       "    .dataframe tbody tr th:only-of-type {\n",
       "        vertical-align: middle;\n",
       "    }\n",
       "\n",
       "    .dataframe tbody tr th {\n",
       "        vertical-align: top;\n",
       "    }\n",
       "\n",
       "    .dataframe thead th {\n",
       "        text-align: right;\n",
       "    }\n",
       "</style>\n",
       "<table border=\"1\" class=\"dataframe\">\n",
       "  <thead>\n",
       "    <tr style=\"text-align: right;\">\n",
       "      <th></th>\n",
       "      <th>Количество объектов</th>\n",
       "      <th>Доля от общего числа</th>\n",
       "      <th>Процент целевых действий</th>\n",
       "    </tr>\n",
       "    <tr>\n",
       "      <th>Страна</th>\n",
       "      <th></th>\n",
       "      <th></th>\n",
       "      <th></th>\n",
       "    </tr>\n",
       "  </thead>\n",
       "  <tbody>\n",
       "    <tr>\n",
       "      <th>Russia</th>\n",
       "      <td>1800565</td>\n",
       "      <td>96.80%</td>\n",
       "      <td>2.73%</td>\n",
       "    </tr>\n",
       "    <tr>\n",
       "      <th>rare_other</th>\n",
       "      <td>34647</td>\n",
       "      <td>1.86%</td>\n",
       "      <td>2.58%</td>\n",
       "    </tr>\n",
       "    <tr>\n",
       "      <th>Ukraine</th>\n",
       "      <td>9012</td>\n",
       "      <td>0.48%</td>\n",
       "      <td>2.21%</td>\n",
       "    </tr>\n",
       "    <tr>\n",
       "      <th>United States</th>\n",
       "      <td>11784</td>\n",
       "      <td>0.63%</td>\n",
       "      <td>0.54%</td>\n",
       "    </tr>\n",
       "    <tr>\n",
       "      <th>Ireland</th>\n",
       "      <td>4034</td>\n",
       "      <td>0.22%</td>\n",
       "      <td>0.02%</td>\n",
       "    </tr>\n",
       "  </tbody>\n",
       "</table>\n",
       "</div>"
      ],
      "text/plain": [
       "               Количество объектов Доля от общего числа  \\\n",
       "Страна                                                    \n",
       "Russia                     1800565               96.80%   \n",
       "rare_other                   34647                1.86%   \n",
       "Ukraine                       9012                0.48%   \n",
       "United States                11784                0.63%   \n",
       "Ireland                       4034                0.22%   \n",
       "\n",
       "              Процент целевых действий  \n",
       "Страна                                  \n",
       "Russia                           2.73%  \n",
       "rare_other                       2.58%  \n",
       "Ukraine                          2.21%  \n",
       "United States                    0.54%  \n",
       "Ireland                          0.02%  "
      ]
     },
     "execution_count": 108,
     "metadata": {},
     "output_type": "execute_result"
    }
   ],
   "source": [
    "print('Процент целевых действий для стран с наибольшим посещением сайта:')\n",
    "df_sessions['geo_country_frequent'] = replace_rare(df_sessions['geo_country'], 0.002)\n",
    "target_percentage(df_sessions, 'geo_country_frequent', index_name='Страна')"
   ]
  },
  {
   "cell_type": "markdown",
   "metadata": {},
   "source": [
    "Посмотрим на распределение целевой переменной в России и за рубежом. Для этого создадим новый признак - `geo_country_is_russia`.\n"
   ]
  },
  {
   "cell_type": "code",
   "execution_count": 109,
   "metadata": {},
   "outputs": [],
   "source": [
    "df_sessions['geo_country_is_russia'] = df_sessions['geo_country'] == 'Russia'"
   ]
  },
  {
   "cell_type": "code",
   "execution_count": 110,
   "metadata": {},
   "outputs": [
    {
     "name": "stdout",
     "output_type": "stream",
     "text": [
      "Процент целевых действий в России:\n"
     ]
    },
    {
     "data": {
      "text/html": [
       "<div>\n",
       "<style scoped>\n",
       "    .dataframe tbody tr th:only-of-type {\n",
       "        vertical-align: middle;\n",
       "    }\n",
       "\n",
       "    .dataframe tbody tr th {\n",
       "        vertical-align: top;\n",
       "    }\n",
       "\n",
       "    .dataframe thead th {\n",
       "        text-align: right;\n",
       "    }\n",
       "</style>\n",
       "<table border=\"1\" class=\"dataframe\">\n",
       "  <thead>\n",
       "    <tr style=\"text-align: right;\">\n",
       "      <th></th>\n",
       "      <th>Количество объектов</th>\n",
       "      <th>Доля от общего числа</th>\n",
       "      <th>Процент целевых действий</th>\n",
       "    </tr>\n",
       "    <tr>\n",
       "      <th>Россия</th>\n",
       "      <th></th>\n",
       "      <th></th>\n",
       "      <th></th>\n",
       "    </tr>\n",
       "  </thead>\n",
       "  <tbody>\n",
       "    <tr>\n",
       "      <th>True</th>\n",
       "      <td>1800565</td>\n",
       "      <td>96.80%</td>\n",
       "      <td>2.73%</td>\n",
       "    </tr>\n",
       "    <tr>\n",
       "      <th>False</th>\n",
       "      <td>59477</td>\n",
       "      <td>3.20%</td>\n",
       "      <td>1.95%</td>\n",
       "    </tr>\n",
       "  </tbody>\n",
       "</table>\n",
       "</div>"
      ],
      "text/plain": [
       "        Количество объектов Доля от общего числа Процент целевых действий\n",
       "Россия                                                                   \n",
       "True                1800565               96.80%                    2.73%\n",
       "False                 59477                3.20%                    1.95%"
      ]
     },
     "execution_count": 110,
     "metadata": {},
     "output_type": "execute_result"
    }
   ],
   "source": [
    "print('Процент целевых действий в России:')\n",
    "target_percentage(df_sessions, 'geo_country_is_russia', index_name='Россия')"
   ]
  },
  {
   "cell_type": "markdown",
   "metadata": {},
   "source": [
    "Результаты анализа показывают, что абсолютное большинство посетителей заходят на сайт из России и соответственно наибольший процент целевых действий совершается из России.  \n",
    " Всего уникальных значений признака 166, при этом пропущенных значений 1146."
   ]
  },
  {
   "cell_type": "markdown",
   "metadata": {},
   "source": [
    "### Рассмотрим признак `geo_city` - город  "
   ]
  },
  {
   "cell_type": "code",
   "execution_count": 111,
   "metadata": {},
   "outputs": [
    {
     "name": "stdout",
     "output_type": "stream",
     "text": [
      "Доля пропущенных значений в `geo_city`: 4.20%\n"
     ]
    }
   ],
   "source": [
    "missings = count_missings(df_sessions['geo_city']) /  len(df_sessions)\n",
    "print(f'Доля пропущенных значений в `geo_city`: {missings:0.2%}')"
   ]
  },
  {
   "cell_type": "code",
   "execution_count": 112,
   "metadata": {},
   "outputs": [
    {
     "name": "stdout",
     "output_type": "stream",
     "text": [
      "Количество уникальных значений в `geo_city` = 2548\n"
     ]
    }
   ],
   "source": [
    "n_unique = df_sessions['geo_city'].nunique()\n",
    "print(f'Количество уникальных значений в `geo_city` = {n_unique}')"
   ]
  },
  {
   "cell_type": "code",
   "execution_count": 113,
   "metadata": {},
   "outputs": [
    {
     "data": {
      "text/plain": [
       "Moscow              805329\n",
       "Saint Petersburg    296788\n",
       "(not set)            78172\n",
       "Yekaterinburg        35788\n",
       "Krasnodar            32243\n",
       "Kazan                29531\n",
       "Samara               24992\n",
       "Nizhny Novgorod      22227\n",
       "Ufa                  21679\n",
       "Novosibirsk          21568\n",
       "Krasnoyarsk          16346\n",
       "Chelyabinsk          15951\n",
       "Tula                 15814\n",
       "Voronezh             13908\n",
       "Rostov-on-Don        13886\n",
       "Name: geo_city, dtype: int64"
      ]
     },
     "execution_count": 113,
     "metadata": {},
     "output_type": "execute_result"
    }
   ],
   "source": [
    "df_sessions['geo_city'].value_counts(dropna=False).head(15)"
   ]
  },
  {
   "cell_type": "code",
   "execution_count": 114,
   "metadata": {},
   "outputs": [
    {
     "name": "stdout",
     "output_type": "stream",
     "text": [
      "Процент целевых действий для городов с наибольшим посещением сайта:\n"
     ]
    },
    {
     "data": {
      "text/html": [
       "<div>\n",
       "<style scoped>\n",
       "    .dataframe tbody tr th:only-of-type {\n",
       "        vertical-align: middle;\n",
       "    }\n",
       "\n",
       "    .dataframe tbody tr th {\n",
       "        vertical-align: top;\n",
       "    }\n",
       "\n",
       "    .dataframe thead th {\n",
       "        text-align: right;\n",
       "    }\n",
       "</style>\n",
       "<table border=\"1\" class=\"dataframe\">\n",
       "  <thead>\n",
       "    <tr style=\"text-align: right;\">\n",
       "      <th></th>\n",
       "      <th>Количество объектов</th>\n",
       "      <th>Доля от общего числа</th>\n",
       "      <th>Процент целевых действий</th>\n",
       "    </tr>\n",
       "    <tr>\n",
       "      <th>Город</th>\n",
       "      <th></th>\n",
       "      <th></th>\n",
       "      <th></th>\n",
       "    </tr>\n",
       "  </thead>\n",
       "  <tbody>\n",
       "    <tr>\n",
       "      <th>Kazan</th>\n",
       "      <td>29531</td>\n",
       "      <td>1.59%</td>\n",
       "      <td>3.86%</td>\n",
       "    </tr>\n",
       "    <tr>\n",
       "      <th>Krasnodar</th>\n",
       "      <td>32243</td>\n",
       "      <td>1.73%</td>\n",
       "      <td>3.35%</td>\n",
       "    </tr>\n",
       "    <tr>\n",
       "      <th>Ufa</th>\n",
       "      <td>21679</td>\n",
       "      <td>1.17%</td>\n",
       "      <td>2.95%</td>\n",
       "    </tr>\n",
       "    <tr>\n",
       "      <th>Moscow</th>\n",
       "      <td>805329</td>\n",
       "      <td>43.30%</td>\n",
       "      <td>2.93%</td>\n",
       "    </tr>\n",
       "    <tr>\n",
       "      <th>Samara</th>\n",
       "      <td>24992</td>\n",
       "      <td>1.34%</td>\n",
       "      <td>2.91%</td>\n",
       "    </tr>\n",
       "    <tr>\n",
       "      <th>rare_other</th>\n",
       "      <td>491725</td>\n",
       "      <td>26.44%</td>\n",
       "      <td>2.53%</td>\n",
       "    </tr>\n",
       "    <tr>\n",
       "      <th>Nizhny Novgorod</th>\n",
       "      <td>22227</td>\n",
       "      <td>1.19%</td>\n",
       "      <td>2.51%</td>\n",
       "    </tr>\n",
       "    <tr>\n",
       "      <th>Yekaterinburg</th>\n",
       "      <td>35788</td>\n",
       "      <td>1.92%</td>\n",
       "      <td>2.48%</td>\n",
       "    </tr>\n",
       "    <tr>\n",
       "      <th>Saint Petersburg</th>\n",
       "      <td>296788</td>\n",
       "      <td>15.96%</td>\n",
       "      <td>2.40%</td>\n",
       "    </tr>\n",
       "    <tr>\n",
       "      <th>Novosibirsk</th>\n",
       "      <td>21568</td>\n",
       "      <td>1.16%</td>\n",
       "      <td>2.36%</td>\n",
       "    </tr>\n",
       "    <tr>\n",
       "      <th>(not set)</th>\n",
       "      <td>78172</td>\n",
       "      <td>4.20%</td>\n",
       "      <td>2.03%</td>\n",
       "    </tr>\n",
       "  </tbody>\n",
       "</table>\n",
       "</div>"
      ],
      "text/plain": [
       "                  Количество объектов Доля от общего числа  \\\n",
       "Город                                                        \n",
       "Kazan                           29531                1.59%   \n",
       "Krasnodar                       32243                1.73%   \n",
       "Ufa                             21679                1.17%   \n",
       "Moscow                         805329               43.30%   \n",
       "Samara                          24992                1.34%   \n",
       "rare_other                     491725               26.44%   \n",
       "Nizhny Novgorod                 22227                1.19%   \n",
       "Yekaterinburg                   35788                1.92%   \n",
       "Saint Petersburg               296788               15.96%   \n",
       "Novosibirsk                     21568                1.16%   \n",
       "(not set)                       78172                4.20%   \n",
       "\n",
       "                 Процент целевых действий  \n",
       "Город                                      \n",
       "Kazan                               3.86%  \n",
       "Krasnodar                           3.35%  \n",
       "Ufa                                 2.95%  \n",
       "Moscow                              2.93%  \n",
       "Samara                              2.91%  \n",
       "rare_other                          2.53%  \n",
       "Nizhny Novgorod                     2.51%  \n",
       "Yekaterinburg                       2.48%  \n",
       "Saint Petersburg                    2.40%  \n",
       "Novosibirsk                         2.36%  \n",
       "(not set)                           2.03%  "
      ]
     },
     "execution_count": 114,
     "metadata": {},
     "output_type": "execute_result"
    }
   ],
   "source": [
    "print('Процент целевых действий для городов с наибольшим посещением сайта:')\n",
    "df_sessions['geo_city_frequent'] = replace_rare(df_sessions['geo_city'], 0.01)\n",
    "target_percentage(df_sessions, 'geo_city_frequent', index_name='Город')"
   ]
  },
  {
   "cell_type": "markdown",
   "metadata": {},
   "source": [
    "Анализ признака `geo_city` показал, что наибольшее количество посетителей сервиса из Москвы и Питера. Процент целефых действий пользователей в этих городах составляет 2,93% и 2,4% соответственно.  \n",
    "Доля незаполненных значений признака составляет 4,2%, а общее количество уникальных значений 2548."
   ]
  },
  {
   "cell_type": "markdown",
   "metadata": {},
   "source": [
    "Введем новый признак, который консолидирует все города в Московской области, как наиболее перспективного региона - `geo_moscow_region`.  \n",
    "Создадим список городов, входящих в состав Московской области - `moscow_region_cities`."
   ]
  },
  {
   "cell_type": "code",
   "execution_count": 115,
   "metadata": {},
   "outputs": [],
   "source": [
    "moscow_region_cities = [\n",
    "    'Aprelevka', 'Balashikha', 'Chekhov', 'Chernogolovka', 'Dedovsk', \n",
    "    'Dmitrov', 'Dolgoprudny', 'Domodedovo', 'Dubna', 'Dzerzhinsky', \n",
    "    'Elektrogorsk', 'Elektrostal', 'Elektrougli', 'Fryazino', 'Golitsyno', \n",
    "    'Istra', 'Ivanteyevka', 'Kalininets', 'Kashira', 'Khimki', 'Khotkovo', \n",
    "    'Klimovsk', 'Klin', 'Kolomna', 'Korolyov', 'Kotelniki', 'Krasnoarmeysk', \n",
    "    'Krasnogorsk', 'Krasnoznamensk', 'Kubinka', 'Kurovskoye', \n",
    "    'Likino-Dulyovo', 'Lobnya', 'Losino-Petrovsky', 'Lukhovitsy', \n",
    "    'Lytkarino', 'Lyubertsy', 'Mozhaysk', 'Mytishchi', 'Naro-Fominsk', \n",
    "    'Noginsk', 'Odintsovo', 'Orekhovo-Zuyevo', 'Pavlovsky Posad', 'Podolsk', \n",
    "    'Protvino', 'Pushchino', 'Pushkino', 'Ramenskoye', 'Reutov', 'Ruza', \n",
    "    'Sergiyev Posad', 'Serpukhov', 'Shatura', 'Shchyolkovo', \n",
    "    'Solnechnogorsk', 'Staraya Kupavna', 'Stupino', 'Vidnoye', \n",
    "    'Volokolamsk', 'Voskresensk', 'Yakhroma', 'Yegoryevsk', 'Zvenigorod']"
   ]
  },
  {
   "cell_type": "code",
   "execution_count": 116,
   "metadata": {},
   "outputs": [
    {
     "name": "stderr",
     "output_type": "stream",
     "text": [
      "C:\\Users\\V.Nikitin\\AppData\\Local\\Temp\\ipykernel_2280\\3460515442.py:2: SettingWithCopyWarning: \n",
      "A value is trying to be set on a copy of a slice from a DataFrame\n",
      "\n",
      "See the caveats in the documentation: https://pandas.pydata.org/pandas-docs/stable/user_guide/indexing.html#returning-a-view-versus-a-copy\n",
      "  df_sessions['geo_moscow_region'][df_sessions['geo_city'] != 'Moscow'] = 'other'\n",
      "C:\\Users\\V.Nikitin\\AppData\\Local\\Temp\\ipykernel_2280\\3460515442.py:4: SettingWithCopyWarning: \n",
      "A value is trying to be set on a copy of a slice from a DataFrame\n",
      "\n",
      "See the caveats in the documentation: https://pandas.pydata.org/pandas-docs/stable/user_guide/indexing.html#returning-a-view-versus-a-copy\n",
      "  df_sessions['geo_moscow_region'][region_mask] = 'Moscow region'\n"
     ]
    }
   ],
   "source": [
    "df_sessions['geo_moscow_region'] = df_sessions['geo_city'].copy()\n",
    "df_sessions['geo_moscow_region'][df_sessions['geo_city'] != 'Moscow'] = 'other'\n",
    "region_mask = df_sessions['geo_city'].isin(moscow_region_cities)\n",
    "df_sessions['geo_moscow_region'][region_mask] = 'Moscow region'"
   ]
  },
  {
   "cell_type": "code",
   "execution_count": 117,
   "metadata": {},
   "outputs": [
    {
     "name": "stdout",
     "output_type": "stream",
     "text": [
      "Процент целевых действий в Московской области:\n"
     ]
    },
    {
     "data": {
      "text/html": [
       "<div>\n",
       "<style scoped>\n",
       "    .dataframe tbody tr th:only-of-type {\n",
       "        vertical-align: middle;\n",
       "    }\n",
       "\n",
       "    .dataframe tbody tr th {\n",
       "        vertical-align: top;\n",
       "    }\n",
       "\n",
       "    .dataframe thead th {\n",
       "        text-align: right;\n",
       "    }\n",
       "</style>\n",
       "<table border=\"1\" class=\"dataframe\">\n",
       "  <thead>\n",
       "    <tr style=\"text-align: right;\">\n",
       "      <th></th>\n",
       "      <th>Количество объектов</th>\n",
       "      <th>Доля от общего числа</th>\n",
       "      <th>Процент целевых действий</th>\n",
       "    </tr>\n",
       "    <tr>\n",
       "      <th>Москва или регион</th>\n",
       "      <th></th>\n",
       "      <th></th>\n",
       "      <th></th>\n",
       "    </tr>\n",
       "  </thead>\n",
       "  <tbody>\n",
       "    <tr>\n",
       "      <th>Moscow</th>\n",
       "      <td>805329</td>\n",
       "      <td>43.30%</td>\n",
       "      <td>2.93%</td>\n",
       "    </tr>\n",
       "    <tr>\n",
       "      <th>Moscow region</th>\n",
       "      <td>101694</td>\n",
       "      <td>5.47%</td>\n",
       "      <td>2.87%</td>\n",
       "    </tr>\n",
       "    <tr>\n",
       "      <th>other</th>\n",
       "      <td>953019</td>\n",
       "      <td>51.24%</td>\n",
       "      <td>2.49%</td>\n",
       "    </tr>\n",
       "  </tbody>\n",
       "</table>\n",
       "</div>"
      ],
      "text/plain": [
       "                   Количество объектов Доля от общего числа  \\\n",
       "Москва или регион                                             \n",
       "Moscow                          805329               43.30%   \n",
       "Moscow region                   101694                5.47%   \n",
       "other                           953019               51.24%   \n",
       "\n",
       "                  Процент целевых действий  \n",
       "Москва или регион                           \n",
       "Moscow                               2.93%  \n",
       "Moscow region                        2.87%  \n",
       "other                                2.49%  "
      ]
     },
     "execution_count": 117,
     "metadata": {},
     "output_type": "execute_result"
    }
   ],
   "source": [
    "print('Процент целевых действий в Московской области:')\n",
    "target_percentage(df_sessions, 'geo_moscow_region', index_name='Москва или регион')"
   ]
  },
  {
   "cell_type": "markdown",
   "metadata": {},
   "source": [
    "Введем новый признак для больших городов - `geo_city_is_big`. Для этого создадим список крупных городов."
   ]
  },
  {
   "cell_type": "code",
   "execution_count": 118,
   "metadata": {},
   "outputs": [],
   "source": [
    "big_cities = ['Moscow', 'Saint Petersburg', 'Novosibirsk', 'Yekaterinburg', \n",
    "              'Kazan', 'Nizhny Novgorod', 'Chelyabinsk', 'Samara', 'Omsk', \n",
    "              'Rostov-on-Don', 'Ufa', 'Krasnoyarsk', 'Voronezh', 'Perm', \n",
    "              'Volgograd', 'Krasnodar', 'Saratov', 'Tyumen']\n"
   ]
  },
  {
   "cell_type": "code",
   "execution_count": 119,
   "metadata": {},
   "outputs": [
    {
     "name": "stdout",
     "output_type": "stream",
     "text": [
      "Процент целевых действий для больших городов:\n"
     ]
    },
    {
     "data": {
      "text/html": [
       "<div>\n",
       "<style scoped>\n",
       "    .dataframe tbody tr th:only-of-type {\n",
       "        vertical-align: middle;\n",
       "    }\n",
       "\n",
       "    .dataframe tbody tr th {\n",
       "        vertical-align: top;\n",
       "    }\n",
       "\n",
       "    .dataframe thead th {\n",
       "        text-align: right;\n",
       "    }\n",
       "</style>\n",
       "<table border=\"1\" class=\"dataframe\">\n",
       "  <thead>\n",
       "    <tr style=\"text-align: right;\">\n",
       "      <th></th>\n",
       "      <th>Количество объектов</th>\n",
       "      <th>Доля от общего числа</th>\n",
       "      <th>Процент целевых действий</th>\n",
       "    </tr>\n",
       "    <tr>\n",
       "      <th>Большой город</th>\n",
       "      <th></th>\n",
       "      <th></th>\n",
       "      <th></th>\n",
       "    </tr>\n",
       "  </thead>\n",
       "  <tbody>\n",
       "    <tr>\n",
       "      <th>True</th>\n",
       "      <td>1380287</td>\n",
       "      <td>74.21%</td>\n",
       "      <td>2.78%</td>\n",
       "    </tr>\n",
       "    <tr>\n",
       "      <th>False</th>\n",
       "      <td>479755</td>\n",
       "      <td>25.79%</td>\n",
       "      <td>2.49%</td>\n",
       "    </tr>\n",
       "  </tbody>\n",
       "</table>\n",
       "</div>"
      ],
      "text/plain": [
       "               Количество объектов Доля от общего числа  \\\n",
       "Большой город                                             \n",
       "True                       1380287               74.21%   \n",
       "False                       479755               25.79%   \n",
       "\n",
       "              Процент целевых действий  \n",
       "Большой город                           \n",
       "True                             2.78%  \n",
       "False                            2.49%  "
      ]
     },
     "execution_count": 119,
     "metadata": {},
     "output_type": "execute_result"
    }
   ],
   "source": [
    "df_sessions['geo_city_is_big'] = df_sessions['geo_city'].isin(big_cities)\n",
    "print('Процент целевых действий для больших городов:')\n",
    "target_percentage(df_sessions, 'geo_city_is_big', index_name='Большой город')"
   ]
  },
  {
   "cell_type": "markdown",
   "metadata": {},
   "source": [
    "Построим признак - расстояние от Москвы `geo_city_distance_from_moscow`. Расстояния получены с помощью библиотеки `geopy` и сохранены для удобства в словарь в переменную `distances_from_moscow`. Расстояния есть только для российских городов, для остальных расстояние -1."
   ]
  },
  {
   "cell_type": "code",
   "execution_count": 120,
   "metadata": {},
   "outputs": [],
   "source": [
    "distances_from_moscow = {\n",
    "    'zlatoust': 1391.263586320666,\n",
    "    'moscow': 0.0,\n",
    "    'krasnoyarsk': 3336.039749777034,\n",
    "    'saint petersburg': 636.1695135872066,\n",
    "    'sochi': 1361.357154793485,\n",
    "    'yaroslavl': 251.13992274208584,\n",
    "    'mytishchi': 19.15256793901058,\n",
    "    'novorossiysk': 1226.5566120134847,\n",
    "    'balashikha': 22.57464380465976,\n",
    "    'pushkino': 32.29150343512499,\n",
    "    'vladivostok': 6434.301687239597,\n",
    "    'alexandrov': 99.03461742181614,\n",
    "    'astrakhan': 1272.5934764474214,\n",
    "    'reutov': 15.066736856880723,\n",
    "    'kazan': 721.4395898259049,\n",
    "    'ulyanovsk': 704.8643503547661,\n",
    "    'tula': 173.37597779851754,\n",
    "    'yekaterinburg': 1421.8971980595,\n",
    "    'rostov-on-don': 959.8830610946284,\n",
    "    'samara': 856.8315253096929,\n",
    "    'domodedovo': 36.1846810301295,\n",
    "    'yoshkar-ola': 645.0905459206801,\n",
    "    'chelyabinsk': 1498.8592485500628,\n",
    "    'krasnogorsk': 19.128893627152596,\n",
    "    'krasnodar': 1114.8111085097096,\n",
    "    'lipetsk': 353.93468708196895,\n",
    "    'nakhabino': 29.34753329618301,\n",
    "    'kyzyl': 3669.160067257817,\n",
    "    'ryazan': 184.0749867936237,\n",
    "    'tyumen': 1716.8034849522674,\n",
    "    'omsk': 2243.230614478407,\n",
    "    'nizhny novgorod': 403.1271008941555,\n",
    "    'irkutsk': 3997.3240242086913,\n",
    "    'mezhdurechensk': 3186.977397404048,\n",
    "    'stupino': 100.50298403934347,\n",
    "    'serpukhov': 93.79639415363022,\n",
    "    'saratov': 727.5243756615845,\n",
    "    'grozny': 1498.6390016944135,\n",
    "    'orenburg': 1230.997301228693,\n",
    "    'surgut': 2143.5097426260527,\n",
    "    'volgograd': 913.40653000604,\n",
    "    'engels': 734.1820123219143,\n",
    "    'fryazino': 35.68825436908673,\n",
    "    'naberezhnye chelny': 926.5455187130812,\n",
    "    'khabarovsk': 5955.703005291212,\n",
    "    'ufa': 1168.153047105715,\n",
    "    'novosibirsk': 2820.763592183317,\n",
    "    'kirov': 793.5857281587636,\n",
    "    'kotelniki': 18.556201509278427,\n",
    "    'kaluga': 162.98501946171325,\n",
    "    'vyborg': 758.2625638645857,\n",
    "    'barnaul': 2943.257935404941,\n",
    "    'tambov': 419.072146029825,\n",
    "    'tver': 162.03184502252185,\n",
    "    'korolyov': 23.240966914958825,\n",
    "    'kostroma': 302.3271334606748,\n",
    "    'zheleznodorozhny': 1051.3212963591216,\n",
    "    'dolgoprudny': 21.451753870279653,\n",
    "    'kursk': 456.3676328552856,\n",
    "    'pyatigorsk': 1359.1346795165907,\n",
    "    'khimki': 19.27787504978214,\n",
    "    'dubna': 113.336078534706,\n",
    "    'izhevsk': 970.8632565557036,\n",
    "    'chita': 4752.38859817778,\n",
    "    'cherkessk': 1319.672066231367,\n",
    "    'blagoveshchensk': 5630.258195023883,\n",
    "    'bryansk': 349.6394555186336,\n",
    "    'voronezh': 467.015180857099,\n",
    "    'kolomna': 103.33805649619023,\n",
    "    'nalchik': 1430.5028996363571,\n",
    "    'obninsk': 96.82910844583522,\n",
    "    'belgorod': 577.7869858749181,\n",
    "    'perm': 1170.262093684163,\n",
    "    'severodvinsk': 989.3463180226084,\n",
    "    'gatchina': 616.369780994091,\n",
    "    'syktyvkar': 1007.3633668496318,\n",
    "    'naro-fominsk': 68.51450800685191,\n",
    "    'protvino': 101.15152863427636,\n",
    "    'kamensk-uralsky': 1506.829417564834,\n",
    "    'zhukovskiy': 600.4219593564324,\n",
    "    'tomsk': 2655.7361007309364,\n",
    "    'stavropol': 1278.9876969538484,\n",
    "    'ivanteyevka': 31.051927448382365,\n",
    "    'yegoryevsk': 98.37617987397816,\n",
    "    'magnitogorsk': 1399.4447582737268,\n",
    "    'vidnoye': 22.273670822552017,\n",
    "    'abakan': 3386.4037130516103,\n",
    "    'kraskovo': 24.96235703886392,\n",
    "    'safonovo': 286.2924673657379,\n",
    "    'shlisselburg': 608.2272247268463,\n",
    "    'cherepovets': 376.65445395984784,\n",
    "    'arkhangelsk': 992.6837722348444,\n",
    "    'lyubertsy': 19.131687885364908,\n",
    "    'vologda': 578.1169534315311,\n",
    "    'petrozavodsk': 697.9721736505935,\n",
    "    'oryol': 325.58358692835327,\n",
    "    'odintsovo': 23.396555594006895,\n",
    "    'voskresensk': 82.36561436203819,\n",
    "    'almetyevsk': 934.756507490178,\n",
    "    'veliky novgorod': 492.2434986334845,\n",
    "    'kovrov': 240.34824684527445,\n",
    "    'ramenskoye': 43.322630130479546,\n",
    "    'berezniki': 1212.7987454012757,\n",
    "    'shchyolkovo': 30.14037479489325,\n",
    "    'novocheboksarsk': 617.6614496689281,\n",
    "    'maykop': 1252.0417154745587,\n",
    "    'nefteyugansk': 2101.016020281276,\n",
    "    'tomilino': 587.5370629562508,\n",
    "    'kaliningrad': 1091.7810203900708,\n",
    "    'vladimir': 179.35415952478112,\n",
    "    'velikiye luki': 446.4897914407206,\n",
    "    'nakhodka': 6512.826751067336,\n",
    "    'nizhnevartovsk': 2316.101568624056,\n",
    "    'nevinnomyssk': 1274.9648982402225,\n",
    "    'klin': 85.25341211585662,\n",
    "    'uchaly': 1395.0694573085807,\n",
    "    'novy urengoy': 2357.070596933191,\n",
    "    'smolensk': 370.11957641629294,\n",
    "    'dedovsk': 33.44282124708212,\n",
    "    'sergiyev posad': 70.71201081392101,\n",
    "    'vsevolozhsk': 629.8608377734972,\n",
    "    'dmitrov': 66.48470950822428,\n",
    "    'cheboksary': 602.6003537044186,\n",
    "    'podolsk': 35.868186236649,\n",
    "    'pervouralsk': 1380.892115200903,\n",
    "    'anapa': 1207.7697317191653,\n",
    "    'lytkarino': 26.171266900562145,\n",
    "    'kopeysk': 1513.6217762611632,\n",
    "    'tosno': 582.7586696635991,\n",
    "    'norilsk': 2890.251515258955,\n",
    "    'tolyatti': 799.8381096242144,\n",
    "    'temryuk': 1165.3624515813908,\n",
    "    'ussuriysk': 6381.347211888504,\n",
    "    'istra': 50.88951924026617,\n",
    "    'murmansk': 1491.035365952789,\n",
    "    'ivanovo': 249.58733461631263,\n",
    "    'verkhnyaya pyshma': 1418.646108882692,\n",
    "    'maloyaroslavets': 110.21255938028736,\n",
    "    'tikhvin': 496.9134080491585,\n",
    "    'neryungri': 5028.977481470272,\n",
    "    'kurgan': 1630.4830408964883,\n",
    "    'novomoskovsk': 198.39912622251103,\n",
    "    'kemerovo': 2996.19975700017,\n",
    "    'volokolamsk': 108.56175176242488,\n",
    "    'elektrostal': 51.84872232603937,\n",
    "    'essentuki': 1354.1058476615915,\n",
    "    'kislovodsk': 1365.9041690419383,\n",
    "    'malakhovka': 26.99082254199157,\n",
    "    'orekhovo-zuyevo': 85.6729405699771,\n",
    "    'angarsk': 4178.283677448494,\n",
    "    'chekhov': 68.44709881944979,\n",
    "    'severomorsk': 1499.3047699096576,\n",
    "    'leninsk-kuznetskiy': 3024.4663354351296,\n",
    "    'satka': 1353.5254445419057,\n",
    "    'dzerzhinsk': 368.59794417334047,\n",
    "    'хомутово': 6668.791623791499,\n",
    "    'penza': 556.0305682853448,\n",
    "    'biysk': 3068.7132170237933,\n",
    "    'novokuznetsk': 3127.6022996940287,\n",
    "    'lobnya': 30.440525152635374,\n",
    "    'sterlitamak': 1201.8214869231806,\n",
    "    'naryan-mar': 1546.3123404691437,\n",
    "    'kamyshin': 819.0343184384951,\n",
    "    'artyom': 6430.381425066174,\n",
    "    'yurga': 2914.0593434459674,\n",
    "    'asbest': 1471.9556267379069,\n",
    "    'sertolovo': 656.4737697387209,\n",
    "    'staraya kupavna': 35.69475828769861,\n",
    "    'volzhskiy': 915.5424228748903,\n",
    "    'yuzhno-sakhalinsk': 6662.822265097304,\n",
    "    'dzerzhinsky': 19.755817456584587,\n",
    "    'krasnoznamensk': 40.16986859789947,\n",
    "    'ulan-ude': 4432.539381037524,\n",
    "    'zarechnyy': 606.0887567751221,\n",
    "    'kostomuksha': 1057.376319264544,\n",
    "    'povarovo': 50.52734489960697,\n",
    "    'meleuz': 1226.2104294516412,\n",
    "    'nazran': 1483.2725769944918,\n",
    "    'klimovsk': 42.08840658931683,\n",
    "    'stary oskol': 495.74079214243545,\n",
    "    'vorkuta': 1891.6302759858595,\n",
    "    'poltavskaya': 1155.8248883948718,\n",
    "    'lukhovitsy': 125.0361461564636,\n",
    "    'beloozyorskiy': 61.073850334859074,\n",
    "    'elektrougli': 38.19286528690888,\n",
    "    'chebarkul': 1438.8690266914327,\n",
    "    'pskov': 611.6967383817062,\n",
    "    'ukhta': 1249.5980588134028,\n",
    "    'ruza': 89.5764906198789,\n",
    "    'nizhny tagil': 1377.8498180844908,\n",
    "    'yakutsk': 4901.163764820078,\n",
    "    'khotkovo': 60.72433440755533,\n",
    "    'elista': 1148.3051053640338,\n",
    "    'bratsk': 3852.601801304402,\n",
    "    'noginsk': 52.95761210648052,\n",
    "    'makhachkala': 1587.5655360528883,\n",
    "    'vladikavkaz': 1503.498930286972,\n",
    "    'belovo': 3048.147193273616,\n",
    "    'frolovo': 780.2333467253039,\n",
    "    'petropavlovsk-kamchatskiy': 6798.018682170094,\n",
    "    'borovichi': 370.0201002038788,\n",
    "    'kratovo': 38.27502643887081,\n",
    "    'prokopyevsk': 3097.586118228412,\n",
    "    'seversk': 2878.478697347678,\n",
    "    'rybinsk': 266.62620678639803,\n",
    "    'pereslavl-zalessky': 133.65119287257676,\n",
    "    'taganrog': 953.8988301108136,\n",
    "    'novouralsk': 1387.9078797741597,\n",
    "    'gelendzhik': 1245.0497234965765,\n",
    "    'aramil': 1438.094504062841,\n",
    "    'neftekamsk': 1037.9314586718494,\n",
    "    'novotroitsk': 1457.0530345108157,\n",
    "    'tuapse': 1300.1385167816816,\n",
    "    'mozhaysk': 103.83921583291148,\n",
    "    'sarov': 373.8154496798572,\n",
    "    'kimry': 126.08756924425133,\n",
    "    'kubinka': 61.218046614594186,\n",
    "    'zheleznogorsk': 3391.850347906158,\n",
    "    'saransk': 514.5759444962858,\n",
    "    'dimitrovgrad': 784.9888159828704,\n",
    "    'slavyansk-na-kubani': 1167.5855361519575,\n",
    "    'tikhoretsk': 1114.786471927972,\n",
    "    'salekhard': 1940.798233727196,\n",
    "    'ostrov': 596.0147871697434,\n",
    "    'kommunar': 609.0316563952802,\n",
    "    'tsivilsk': 617.608810996026,\n",
    "    'shakhty': 911.990910602426,\n",
    "    'pechora': 1487.3071484483453,\n",
    "    'svetogorsk': 784.6154471409538,\n",
    "    'megion': 2289.965764352699,\n",
    "    'bataysk': 969.330021045852,\n",
    "    'kirishi': 530.8309526915012,\n",
    "    'komsomolsk-on-amur': 6086.29642220532,\n",
    "    'novocherkassk': 943.5609192173324,\n",
    "    'chernogolovka': 55.75814822209252,\n",
    "    'gorki-2': 727.7907922818495,\n",
    "    'gus-khrustalny': 192.64146200083803,\n",
    "    'berdsk': 2842.4371674583103,\n",
    "    'lysva': 1251.2694243399262,\n",
    "    'korsakov': 6693.46814234493,\n",
    "    'sovetsk': 996.7695220314324,\n",
    "    'aprelevka': 41.18219415362496,\n",
    "    'semibratovo': 209.0654774418882,\n",
    "    'pavlovsky posad': 64.94947986028654,\n",
    "    'bor': 406.57781172305175,\n",
    "    'magadan': 5696.766522816334,\n",
    "    'kstovo': 413.3420040082879,\n",
    "    'shatura': 122.7240473979108,\n",
    "    'losino-petrovsky': 39.0856643165014,\n",
    "    'yalutorovsk': 1770.7930860972722,\n",
    "    'ust-ilimsk': 3824.762306477272,\n",
    "    'pushchino': 101.94688109279312,\n",
    "    'polysayevo': 3038.5975501321755,\n",
    "    'prokhladny': 1409.5731328427237,\n",
    "    'tobolsk': 1866.1259900513485,\n",
    "    'birobidzhan': 6025.667074308183,\n",
    "    'lipitsy': 488.33181946214216,\n",
    "    'volgodonsk': 968.7193376964842,\n",
    "    'yeysk': 1006.6702432800072,\n",
    "    'golitsyno': 42.32796602639879,\n",
    "    'miass': 1420.4111070245615,\n",
    "    'yelets': 352.953027033769,\n",
    "    'zvenigorod': 47.72843063332915,\n",
    "    'selyatino': 47.81307831562977,\n",
    "    'volkhov': 561.0120810417935,\n",
    "    'krasnoarmeysk': 52.84859748189735,\n",
    "    'apatity': 1335.0174311357218,\n",
    "    'solnechnogorsk': 62.75797256121989,\n",
    "    'buynaksk': 1591.6091181217846,\n",
    "    'bolshoy kamen': 6459.6647658063575,\n",
    "    'noyabrsk': 2258.5967649018207,\n",
    "    'tynda': 5133.7148203026745,\n",
    "    'nizhnekamsk': 891.351444472025,\n",
    "    'usolye-sibirskoye': 4152.668391343766,\n",
    "    'kingisepp': 673.0970220244146,\n",
    "    'zelenodolsk': 682.4973369990087,\n",
    "    'glazov': 950.3194914895024,\n",
    "    'achinsk': 3216.780147934828,\n",
    "    'rodniki': 295.0464136688749,\n",
    "    'shelekhov': 4209.77264099612,\n",
    "    'kaspiysk': 1601.679936799069,\n",
    "    'birsk': 1127.659719672664,\n",
    "    'nadym': 2157.8430358400265,\n",
    "    'gorno-altaysk': 3143.3301534511943,\n",
    "    'kolchugino': 3029.386251308493,\n",
    "    'kushchyovskaya': 1034.055831067238,\n",
    "    'yuzhnyy': 3482.931087966988,\n",
    "    'armavir': 1221.3111343868295,\n",
    "    'mozhga': 909.9695253925483,\n",
    "    'vyksa': 292.00651478106886,\n",
    "    'uzlovaya': 200.30676600029304,\n",
    "    'rostov': 959.8830610946284,\n",
    "    'kirovsk': 605.2671113612804,\n",
    "    \"ul'yanovka\": 192.0411085381513,\n",
    "    'novoaltaysk': 2950.9705068425405,\n",
    "    'kamensk-shakhtinsky': 846.2139538784264,\n",
    "    'ozersk': 1442.8560961441965,\n",
    "    'elektrogorsk': 74.63716516619932,\n",
    "    'arzamas': 394.35402804220274,\n",
    "    'snezhinsk': 1438.9690430594771,\n",
    "    'borisoglebsk': 569.9580301479704,\n",
    "    'mirny': 4170.726504147512,\n",
    "    'vyazniki': 287.308764186897,\n",
    "    'enem': 1207.821030982559,\n",
    "    'nyagan': 1734.888769945378,\n",
    "    'khanty-mansiysk': 1906.792032820939,\n",
    "    'monino': 37.715349372745926,\n",
    "    'mineralnye vody': 1342.0944633137724,\n",
    "    'verkhnyaya salda': 1413.7297090555912,\n",
    "    'russkiy': 1213.062834379814,\n",
    "    'revda': 1379.6717524046908,\n",
    "    'lesnoy gorodok': 28.475504020539947,\n",
    "    'argun': 1506.098028834171,\n",
    "    'kyshtym': 1434.2595681626117,\n",
    "    'salavat': 1210.078586205624,\n",
    "    'tuchkovo': 74.30089302855156,\n",
    "    'kumertau': 1226.5856038134475,\n",
    "    'polevskoy': 1399.151300955637,\n",
    "    'mikhaylovka': 734.9935677109922,\n",
    "    'murom': 279.2759175366648,\n",
    "    'kineshma': 335.5996758437128,\n",
    "    'kandalaksha': 1299.3304879892798,\n",
    "    'krasnouralsk': 1384.2334857967037,\n",
    "    'torzhok': 217.4706587749375,\n",
    "    'yuzhnouralsk': 1509.4408603749698,\n",
    "    'shuya': 263.59454702063505,\n",
    "    'serov': 1426.9672333775843,\n",
    "    'sosnovy bor': 685.2323134899109,\n",
    "    'shadrinsk': 1617.147870036188,\n",
    "    'kotlas': 806.4754172091222,\n",
    "    'novotitarovskaya': 1173.4741472213989,\n",
    "    'balakovo': 787.8822091993675,\n",
    "    '83709': 3202.813333769226,\n",
    "    'azov': 968.9726699294038,\n",
    "    'kirovo-chepetsk': 811.8571178014768,\n",
    "    'rubtsovsk': 2872.4015656846614,\n",
    "    'kirzhach': 90.62652039638547,\n",
    "    'anadyr': 6213.777177759523,\n",
    "    'khasavyurt': 1531.9145979750529,\n",
    "    'beryozovsky': 1433.634294395171,\n",
    "    'derbent': 1707.4033646935634,\n",
    "    'dubovoe': 414.1453826358143,\n",
    "    'vyazma': 217.54174988855237,\n",
    "    'pyt-yakh': 2113.4245970564507,\n",
    "    'semender': 1583.4934150903011,\n",
    "    'nikolskoye': 598.9997361692872,\n",
    "    'kashira': 107.13368440394626,\n",
    "    'kizlyar': 1473.3798545362304,\n",
    "    'zarinsk': 2997.181989822133,\n",
    "    'konakovo': 119.1786549464336,\n",
    "    'kurumoch': 839.7114992062343,\n",
    "    'udomlya': 285.6169847200254,\n",
    "    'minusinsk': 3402.637804653251,\n",
    "    'kropotkin': 1166.2245607801617,\n",
    "    'aleksandrovsk-sakhalinskiy': 6299.8823011927725,\n",
    "    'pavlovo': 342.2607377444623,\n",
    "    'otradny': 924.9037500182482,\n",
    "    'aksay': 956.2965486068668,\n",
    "    'balakhna': 381.1579987404556,\n",
    "    'monchegorsk': 1379.666459717234,\n",
    "    'kurchatov': 473.2883426264815,\n",
    "    'orsk': 1466.0377255809008,\n",
    "    'beloretsk': 1344.6724341902625,\n",
    "    'vyshny volochyok': 276.9809306440123,\n",
    "    'plastunovskaya': 1168.6851720045977,\n",
    "    'nizhnyaya tura': 1375.9166273461458,\n",
    "    'poronaysk': 6485.758764373887,\n",
    "    'oktyabrsky': 1018.8184366705572,\n",
    "    'shakhovskaya': 135.50534368151105,\n",
    "    'kizilyurt': 1545.4401863233754,\n",
    "    'chistopol': 821.3604105474976,\n",
    "    'kansk': 3517.5408678268373,\n",
    "    'inta': 1658.5575397677376,\n",
    "    'novoshakhtinsk': 903.6507811060995,\n",
    "    'kartaly': 1517.4593040784584,\n",
    "    'kurovskoye': 84.3681700784244,\n",
    "    'kuznetsk': 652.0791300259867,\n",
    "    'rossosh': 631.8948563881265,\n",
    "    'samarskoye': 990.9463636012208,\n",
    "    'usinsk': 1560.1926768575506,\n",
    "    'kanevskaya': 1079.414438120802,\n",
    "    'lyuban': 552.7103608674508,\n",
    "    'dalnegorsk': 6509.488452820776,\n",
    "    'urus-martan': 1513.9438781256622,\n",
    "    'votkinsk': 1018.7575282525304,\n",
    "    'katav-ivanovsk': 1309.0842038516064,\n",
    "    'olginka': 1287.7238993616631,\n",
    "    'yakhroma': 60.64340421625101,\n",
    "    'novokuybyshevsk': 851.6052629828683,\n",
    "    'ishimbay': 1214.0401210017262,\n",
    "    'sosnovoborsk': 3386.3759431879366,\n",
    "    'gudermes': 1506.983332793841,\n",
    "    'labytnangi': 1937.057017992013,\n",
    "    'likino-dulyovo': 84.31241624220513,\n",
    "    'lodeynoye pole': 604.1151265677914,\n",
    "    'syzran': 760.0979681269697,\n",
    "    'belaya kalitva': 870.3865327785855,\n",
    "    'spassk-dalny': 6362.30839868133,\n",
    "    'belorechensk': 1232.6961732990508,\n",
    "    'sarapul': 1008.78232479936,\n",
    "    'raduzhny': 2358.496974772968,\n",
    "    'trudovoye': 1090.3401905593514,\n",
    "    'kinel': 887.7664648811271,\n",
    "    'korkino': 1505.8826336695265,\n",
    "    'kiselyovsk': 3086.31280001039,\n",
    "    'berezovka': 1087.264673590551,\n",
    "    'goryachevodsky': 1360.7786042757737,\n",
    "    'michurinsk': 369.2508261957532,\n",
    "    'bobrovskiy': 322.39759418097685,\n",
    "    'chegem': 1420.378254627167,\n",
    "    'yelizovo': 6772.820421777107,\n",
    "    '53425': 3202.813333769226,\n",
    "    'тимофеевка': 1006.6834116656815,\n",
    "    'ust-labinsk': 1180.6818380079214,\n",
    "    'starokorsunskaya': 1196.1976393224706,\n",
    "    'tarko-sale': 2388.9780271861964,\n",
    "    'kachkanar': 1354.197212226372,\n",
    "    'iskitim': 2858.9099151934147,\n",
    "    'sibay': 1407.2647547506033,\n",
    "    'vlasikha': 2933.2726322389262,\n",
    "    '8756': 10.730176534095364,\n",
    "    'agoi': 1294.7427424182354,\n",
    "    'priozersk': 733.1545071632743,\n",
    "    'bologoye': 321.9803937484453,\n",
    "    'тарасовка': 1491.2541362483853,\n",
    "    'beloyarsky': 1836.5384486488076,\n",
    "    'ust-katav': 1302.724181677159,\n",
    "    'kanash': 622.9255607421362,\n",
    "    'dagestanskie ogni': 1698.208239037858,\n",
    "    'belogorsk': 5631.125637486317,\n",
    "    'labinsk': 1255.8319936717032,\n",
    "    'lyskovo': 465.1306258788371,\n",
    "    'afipsky': 1208.3956944522176,\n",
    "    'starnikovo': 65.1332863630618,\n",
    "    'juravskaia': 1139.1135698400817,\n",
    "    'korenovsk': 1151.523891415271,\n",
    "    'znamenskiy': 1194.8142115320263,\n",
    "    'slavgorod': 2644.610086488067,\n",
    "    'kungur': 1200.4961224183248,\n",
    "    'gadzhiyevo': 1519.9109169685858,\n",
    "    'shchyokino': 194.4698174383533,\n",
    "    'nogliki': 6268.259965863986,\n",
    "    '39404': 3202.813333769226,\n",
    "    'lenina': 1199.0498830456509,\n",
    "    'gaiduk': 1219.513851211696,\n",
    "    '9992': 982.845979460969,\n",
    "    'marks': 751.1509601828144,\n",
    "    'kugesi': 606.0520067073529,\n",
    "    'solikamsk': 1216.98913220201,\n",
    "    'bryukhovetskaya': 1111.082927529371,\n",
    "    'slavyanka': 6428.684709591151,\n",
    "    '24130': 3202.813333769226,\n",
    "    'menzelinsk': 970.9489283044122,\n",
    "    'vysokaya gora': 724.5834162625722,\n",
    "    'vanino': 6362.894335239535,\n",
    "    'malysheva': 1467.3592923926346,\n",
    "    'korzhevskiy': 1171.954752073123,\n",
    "    'troitsk': 1538.140668806304,\n",
    "    'nizhnebakanskaya': 1210.9986252672918,\n",
    "    'plast': 1482.6858068116453,\n",
    "    'gorodishche': 591.2765666147258,\n",
    "    'osinovo': 736.6860205116334,\n",
    "    'zavidovo': 353.2224718264869,\n",
    "    'zarechny': 1465.4555186281548,\n",
    "    'novaya adygeya': 1196.6866369650947,\n",
    "    'kholmsk': 6621.858284986929,\n",
    "    'asha': 1245.1907526999598,\n",
    "    '14076': 3202.813333769226,\n",
    "    'petrovskoye': 385.1673685384485,\n",
    "    'chernyakhovsk': 1012.0952920550218,\n",
    "    'salsk': 1067.2210501046166,\n",
    "    'argayash': 1458.8443906207276,\n",
    "    '13403': 1152.7191232199125,\n",
    "    'bavly': 1006.55370599998,\n",
    "    'beslan': 1482.7229051085862}\n"
   ]
  },
  {
   "cell_type": "code",
   "execution_count": 121,
   "metadata": {},
   "outputs": [],
   "source": [
    "def get_distance_from_moscow(city: str) -> float:\n",
    "    \"\"\"Возвращает расстояние от города `city` до Москвы в километрах. \n",
    "    Для неизвестных и зарубежных городов возвращает -1.\n",
    "    \"\"\"\n",
    "\n",
    "    return distances_from_moscow.get(str(city).lower(), -1.0)"
   ]
  },
  {
   "cell_type": "code",
   "execution_count": 122,
   "metadata": {},
   "outputs": [],
   "source": [
    "df_sessions['geo_city_distance_from_moscow'] = df_sessions['geo_city'].apply(get_distance_from_moscow)"
   ]
  },
  {
   "cell_type": "code",
   "execution_count": 123,
   "metadata": {},
   "outputs": [
    {
     "data": {
      "image/png": "[encoded data removed]",
      "text/plain": [
       "<Figure size 1800x360 with 1 Axes>"
      ]
     },
     "metadata": {
      "needs_background": "light"
     },
     "output_type": "display_data"
    }
   ],
   "source": [
    "plt.figure(figsize=(25, 5))\n",
    "positive_distances = df_sessions[df_sessions['geo_city_distance_from_moscow'] > 0]\n",
    "sns.boxplot(data=positive_distances, x='geo_city_distance_from_moscow', \n",
    "            y='target', orient='h')\n",
    "plt.title('Диаграмма размаха расстояния до Москвы');"
   ]
  },
  {
   "cell_type": "markdown",
   "metadata": {},
   "source": [
    "Сгруппируем дистанцию по категория, чтобы оценить влияние расстояния на целевую переменную - `geo_city_distance_from_moscow_category`."
   ]
  },
  {
   "cell_type": "code",
   "execution_count": 124,
   "metadata": {},
   "outputs": [],
   "source": [
    "def get_distance_category(distance: float) -> str:\n",
    "    \"\"\"Возвращает категорию расстояния до Москвы.\"\"\"\n",
    "\n",
    "    if distance == -1: return 'no distance'\n",
    "    elif distance == 0: return 'moscow'\n",
    "    elif distance < 100: return '< 100 km'\n",
    "    elif distance < 500: return '100-500 km'\n",
    "    elif distance < 1000: return '500-1000 km'\n",
    "    elif distance < 3000: return '1000-3000 km'\n",
    "    else: return '>= 3000 km'\n",
    "\n",
    "df_sessions['geo_city_distance_from_moscow_category'] = df_sessions['geo_city_distance_from_moscow'].apply(get_distance_category)"
   ]
  },
  {
   "cell_type": "code",
   "execution_count": 125,
   "metadata": {},
   "outputs": [
    {
     "name": "stdout",
     "output_type": "stream",
     "text": [
      "Распределение объектов по расстоянию до Москвы:\n"
     ]
    },
    {
     "data": {
      "text/html": [
       "<div>\n",
       "<style scoped>\n",
       "    .dataframe tbody tr th:only-of-type {\n",
       "        vertical-align: middle;\n",
       "    }\n",
       "\n",
       "    .dataframe tbody tr th {\n",
       "        vertical-align: top;\n",
       "    }\n",
       "\n",
       "    .dataframe thead th {\n",
       "        text-align: right;\n",
       "    }\n",
       "</style>\n",
       "<table border=\"1\" class=\"dataframe\">\n",
       "  <thead>\n",
       "    <tr style=\"text-align: right;\">\n",
       "      <th></th>\n",
       "      <th>Количество объектов</th>\n",
       "      <th>Доля от общего числа</th>\n",
       "      <th>Процент целевых действий</th>\n",
       "    </tr>\n",
       "    <tr>\n",
       "      <th>Дистанция до Москвы</th>\n",
       "      <th></th>\n",
       "      <th></th>\n",
       "      <th></th>\n",
       "    </tr>\n",
       "  </thead>\n",
       "  <tbody>\n",
       "    <tr>\n",
       "      <th>moscow</th>\n",
       "      <td>805329</td>\n",
       "      <td>43.30%</td>\n",
       "      <td>2.93%</td>\n",
       "    </tr>\n",
       "    <tr>\n",
       "      <th>&lt; 100 km</th>\n",
       "      <td>102673</td>\n",
       "      <td>5.52%</td>\n",
       "      <td>2.90%</td>\n",
       "    </tr>\n",
       "    <tr>\n",
       "      <th>1000-3000 km</th>\n",
       "      <td>229616</td>\n",
       "      <td>12.34%</td>\n",
       "      <td>2.77%</td>\n",
       "    </tr>\n",
       "    <tr>\n",
       "      <th>500-1000 km</th>\n",
       "      <td>421113</td>\n",
       "      <td>22.64%</td>\n",
       "      <td>2.54%</td>\n",
       "    </tr>\n",
       "    <tr>\n",
       "      <th>100-500 km</th>\n",
       "      <td>107529</td>\n",
       "      <td>5.78%</td>\n",
       "      <td>2.50%</td>\n",
       "    </tr>\n",
       "    <tr>\n",
       "      <th>&gt;= 3000 km</th>\n",
       "      <td>61687</td>\n",
       "      <td>3.32%</td>\n",
       "      <td>2.21%</td>\n",
       "    </tr>\n",
       "    <tr>\n",
       "      <th>no distance</th>\n",
       "      <td>132095</td>\n",
       "      <td>7.10%</td>\n",
       "      <td>1.96%</td>\n",
       "    </tr>\n",
       "  </tbody>\n",
       "</table>\n",
       "</div>"
      ],
      "text/plain": [
       "                     Количество объектов Доля от общего числа  \\\n",
       "Дистанция до Москвы                                             \n",
       "moscow                            805329               43.30%   \n",
       "< 100 km                          102673                5.52%   \n",
       "1000-3000 km                      229616               12.34%   \n",
       "500-1000 km                       421113               22.64%   \n",
       "100-500 km                        107529                5.78%   \n",
       ">= 3000 km                         61687                3.32%   \n",
       "no distance                       132095                7.10%   \n",
       "\n",
       "                    Процент целевых действий  \n",
       "Дистанция до Москвы                           \n",
       "moscow                                 2.93%  \n",
       "< 100 km                               2.90%  \n",
       "1000-3000 km                           2.77%  \n",
       "500-1000 km                            2.54%  \n",
       "100-500 km                             2.50%  \n",
       ">= 3000 km                             2.21%  \n",
       "no distance                            1.96%  "
      ]
     },
     "execution_count": 125,
     "metadata": {},
     "output_type": "execute_result"
    }
   ],
   "source": [
    "print('Распределение объектов по расстоянию до Москвы:')\n",
    "target_percentage(df_sessions, 'geo_city_distance_from_moscow_category', \n",
    "                  index_name='Дистанция до Москвы')"
   ]
  },
  {
   "cell_type": "markdown",
   "metadata": {},
   "source": [
    "Анализ принака `geo_city` показал:  \n",
    "1. Пропущенных значений 4%.  \n",
    "2. Уникальных значений - 2548, но наиболее крупные 'Moscow' и 'Saint Petersburg'. Дополнительно можно создать признак, включающий в себя населенные пункты в Московской области, так как на область и Москву приходится 5,8% целевых действий всех пользователей. Выделение крупных городов в зависимости от численности не целесообразно. При этом 43% сессий из Москвы, 5% из Московской области, а остальные из других городов. В Москве и области целевых действий больше, но не слишком значительно.  \n",
    "3. Больший процент целевых действий в Москве и в пределах 100 км от Москвы."
   ]
  },
  {
   "cell_type": "markdown",
   "metadata": {},
   "source": [
    "## Взаимосвязь признаков"
   ]
  },
  {
   "cell_type": "markdown",
   "metadata": {},
   "source": [
    "### Корреляции\n",
    "\n"
   ]
  },
  {
   "cell_type": "code",
   "execution_count": 126,
   "metadata": {},
   "outputs": [
    {
     "data": {
      "image/png": "[encoded data removed]",
      "text/plain": [
       "<Figure size 1728x864 with 2 Axes>"
      ]
     },
     "metadata": {
      "needs_background": "light"
     },
     "output_type": "display_data"
    }
   ],
   "source": [
    "numerical_columns = [\n",
    "    'visit_number', 'target', 'visit_date_weekday', 'visit_date_day', \n",
    "    'visit_time_hour', 'visit_time_minute', 'device_screen_width', \n",
    "    'device_screen_height', 'device_screen_area', 'device_screen_ratio', \n",
    "    'geo_city_distance_from_moscow']\n",
    "\n",
    "plt.figure(figsize=(24,12))\n",
    "sns.heatmap(df_sessions[numerical_columns].corr(), annot=True, fmt='0.2f', cmap= 'gnuplot')\n",
    "plt.title('Корреляция численных признаков');"
   ]
  },
  {
   "cell_type": "markdown",
   "metadata": {},
   "source": [
    "Поле корреляции показывает, что крепкая связь присутствует только у производных от `device_screen` признаков:  \n",
    "- `device_screen_height`-`device_screen_width`, \n",
    "- `device_screen_area`-`device_screen_width`, \n",
    "- `device_screen_ratio`-`device_screen_width`."
   ]
  },
  {
   "cell_type": "markdown",
   "metadata": {},
   "source": [
    "### Псторная загрузка данных\n",
    "\n",
    "Для файла `ga_hits.csv` нужно загрузить только колонки 'session_id' и 'event_action', так как остальные не используются."
   ]
  },
  {
   "cell_type": "code",
   "execution_count": 127,
   "metadata": {},
   "outputs": [],
   "source": [
    "df_sessions_new = pd.read_csv(\"D:\\Final_Work\\data\\ga_sessions.csv\", low_memory=False)\n",
    "df_hits_new = pd.read_csv(\"D:\\Final_Work\\data\\ga_hits.csv\", \n",
    "                   usecols=['session_id', 'event_action'])"
   ]
  },
  {
   "cell_type": "code",
   "execution_count": 128,
   "metadata": {},
   "outputs": [
    {
     "name": "stdout",
     "output_type": "stream",
     "text": [
      "<class 'pandas.core.frame.DataFrame'>\n",
      "RangeIndex: 1860042 entries, 0 to 1860041\n",
      "Data columns (total 18 columns):\n",
      " #   Column                    Dtype \n",
      "---  ------                    ----- \n",
      " 0   session_id                object\n",
      " 1   client_id                 object\n",
      " 2   visit_date                object\n",
      " 3   visit_time                object\n",
      " 4   visit_number              int64 \n",
      " 5   utm_source                object\n",
      " 6   utm_medium                object\n",
      " 7   utm_campaign              object\n",
      " 8   utm_adcontent             object\n",
      " 9   utm_keyword               object\n",
      " 10  device_category           object\n",
      " 11  device_os                 object\n",
      " 12  device_brand              object\n",
      " 13  device_model              object\n",
      " 14  device_screen_resolution  object\n",
      " 15  device_browser            object\n",
      " 16  geo_country               object\n",
      " 17  geo_city                  object\n",
      "dtypes: int64(1), object(17)\n",
      "memory usage: 1.9 GB\n"
     ]
    }
   ],
   "source": [
    "df_sessions_new.info(memory_usage='deep')"
   ]
  },
  {
   "cell_type": "code",
   "execution_count": 129,
   "metadata": {},
   "outputs": [
    {
     "name": "stdout",
     "output_type": "stream",
     "text": [
      "<class 'pandas.core.frame.DataFrame'>\n",
      "RangeIndex: 15726470 entries, 0 to 15726469\n",
      "Data columns (total 2 columns):\n",
      " #   Column        Dtype \n",
      "---  ------        ----- \n",
      " 0   session_id    object\n",
      " 1   event_action  object\n",
      "dtypes: object(2)\n",
      "memory usage: 2.5 GB\n"
     ]
    }
   ],
   "source": [
    "df_hits_new.info(memory_usage='deep')"
   ]
  },
  {
   "cell_type": "markdown",
   "metadata": {},
   "source": [
    "## Подготовка данных датафрейма"
   ]
  },
  {
   "cell_type": "markdown",
   "metadata": {},
   "source": [
    "### Целевая переменная  \n",
    "\n",
    "Целевая переменная считается положительной, если для сессии из `df_sessions_new` есть хотя бы одно целевое событие в `df_hits_new`. "
   ]
  },
  {
   "cell_type": "code",
   "execution_count": 130,
   "metadata": {},
   "outputs": [],
   "source": [
    "target_events = [\n",
    "    'sub_car_request_submit_click', 'sub_car_claim_submit_click', \n",
    "    'sub_callback_submit_click', 'sub_call_number_click', 'sub_car_claim_click', \n",
    "    'sub_submit_success', 'sub_open_dialog_click']\n",
    "df_hits_new['target'] = df_hits_new['event_action'].isin(target_events) # заполняет столбец hits['target'] 'True', если hits['event_action'] содержит целевую\n",
    "is_target_event = df_hits_new.groupby('session_id')['target'].any().astype(int) # target группирует по id (session_id) и по столбцу 'target', то есть все одинаковые session_id собираются"
   ]
  },
  {
   "cell_type": "code",
   "execution_count": 131,
   "metadata": {},
   "outputs": [
    {
     "data": {
      "text/plain": [
       "0           False\n",
       "1           False\n",
       "2           False\n",
       "3           False\n",
       "4           False\n",
       "            ...  \n",
       "15726465    False\n",
       "15726466    False\n",
       "15726467    False\n",
       "15726468    False\n",
       "15726469    False\n",
       "Name: target, Length: 15726470, dtype: bool"
      ]
     },
     "execution_count": 131,
     "metadata": {},
     "output_type": "execute_result"
    }
   ],
   "source": [
    "df_hits_new['target']"
   ]
  },
  {
   "cell_type": "code",
   "execution_count": 132,
   "metadata": {},
   "outputs": [
    {
     "data": {
      "text/plain": [
       "session_id\n",
       "1000009318903347362.1632663668.1632663668    0\n",
       "1000010177899156286.1635013443.1635013443    0\n",
       "1000013386240115915.1635402956.1635402956    0\n",
       "1000017303238376207.1623489300.1623489300    0\n",
       "1000020580299877109.1624943350.1624943350    0\n",
       "                                            ..\n",
       "999960188766601545.1626816843.1626816843     0\n",
       "99996598443387715.1626811203.1626811203      0\n",
       "999966717128502952.1638428330.1638428330     0\n",
       "999988617151873171.1623556243.1623556243     0\n",
       "999989480451054428.1634311006.1634311006     0\n",
       "Name: target, Length: 1734610, dtype: int32"
      ]
     },
     "execution_count": 132,
     "metadata": {},
     "output_type": "execute_result"
    }
   ],
   "source": [
    "is_target_event"
   ]
  },
  {
   "cell_type": "code",
   "execution_count": 133,
   "metadata": {},
   "outputs": [
    {
     "data": {
      "text/plain": [
       "0.0    0.97295\n",
       "1.0    0.02705\n",
       "Name: target, dtype: float64"
      ]
     },
     "execution_count": 133,
     "metadata": {},
     "output_type": "execute_result"
    }
   ],
   "source": [
    "target = pd.Series(is_target_event, index=df_sessions['session_id']).fillna(0.0) # Заполним пропуски 0,0\n",
    "target.value_counts(dropna=False, normalize=True) "
   ]
  },
  {
   "cell_type": "markdown",
   "metadata": {},
   "source": [
    "Полученый результат совподает с ранее поллученым - всего целевых действий 2,7%"
   ]
  },
  {
   "cell_type": "code",
   "execution_count": 134,
   "metadata": {},
   "outputs": [
    {
     "data": {
      "text/plain": [
       "session_id\n",
       "9055434745589932991.1637753792.1637753792    0.0\n",
       "905544597018549464.1636867290.1636867290     0.0\n",
       "9055446045651783499.1640648526.1640648526    0.0\n",
       "9055447046360770272.1622255328.1622255328    0.0\n",
       "9055447046360770272.1622255345.1622255345    0.0\n",
       "                                            ... \n",
       "9055415581448263752.1640159305.1640159305    0.0\n",
       "9055421130527858185.1622007305.1622007305    0.0\n",
       "9055422955903931195.1636979515.1636979515    0.0\n",
       "905543020766873816.1638189404.1638189404     0.0\n",
       "9055430416266113553.1640968742.1640968742    0.0\n",
       "Name: target, Length: 1860042, dtype: float64"
      ]
     },
     "execution_count": 134,
     "metadata": {},
     "output_type": "execute_result"
    }
   ],
   "source": [
    "target"
   ]
  },
  {
   "cell_type": "code",
   "execution_count": 135,
   "metadata": {},
   "outputs": [],
   "source": [
    "del df_hits_new # удалим датафрейм за ненадобностью чтобы не занимал много памяти"
   ]
  },
  {
   "cell_type": "markdown",
   "metadata": {},
   "source": [
    "### Заполнение пропусков  \n",
    "\n",
    "Пропуски в колонке `device_screen_resolution` заполняем самым частым значением.  \n",
    "Все остальные пропуски в колонках заполняем значением '(nan)'."
   ]
  },
  {
   "cell_type": "code",
   "execution_count": 136,
   "metadata": {},
   "outputs": [],
   "source": [
    "def fill_missings(data: pd.DataFrame) -> pd.DataFrame:\n",
    "    \"\"\"Заполняет пропущенные значения:\n",
    "    * самым частым значением для `device_screen_resolution`;\n",
    "    * значением '(nan)' во всех остальных случаях.\n",
    "    \"\"\"\n",
    "\n",
    "    data = data.copy()\n",
    "\n",
    "    if 'device_screen_resolution' in data.columns:\n",
    "        # '414x896' - самое частое значение в 'device_screen_resolution'\n",
    "        # согласно предварительному анализу данных\n",
    "        data['device_screen_resolution'] = \\\n",
    "            data['device_screen_resolution'].replace(missing_values, '414x896')\n",
    "    \n",
    "    return data.fillna('(nan)')"
   ]
  },
  {
   "cell_type": "markdown",
   "metadata": {},
   "source": [
    "### Генерация признаков\n",
    "\n",
    "Создаётся множество дополнительных переменных: день недели и день месяца, является ли день выходным, час и минута посещения, ночью ли посещение, ширина, высота, площадь и соотношение экрана.\n",
    "\n",
    "В том числе с дополнительными данными: является ли день празничным, является ли трафик органическим, из социальных ли сетей он, находится ли пользователь в большом городе или в московской области, расстояние до Москвы как численно, так и в виде категорий."
   ]
  },
  {
   "cell_type": "code",
   "execution_count": 137,
   "metadata": {},
   "outputs": [],
   "source": [
    "def distance_category(distance: float) -> str:\n",
    "    \"\"\"Возвращает категорию расстояния до Москвы.\"\"\"\n",
    "\n",
    "    if distance == -1: return 'no distance'\n",
    "    elif distance == 0: return 'moscow'\n",
    "    elif distance < 100: return '< 100 km'\n",
    "    elif distance < 500: return '100-500 km'\n",
    "    elif distance < 1000: return '500-1000 km'\n",
    "    elif distance < 3000: return '1000-3000 km'\n",
    "    else: return '>= 3000 km'"
   ]
  },
  {
   "cell_type": "code",
   "execution_count": 138,
   "metadata": {},
   "outputs": [],
   "source": [
    "def create_features(data: pd.DataFrame) -> pd.DataFrame:\n",
    "    \"\"\"Создаёт новые признаки из существующих.\"\"\"\n",
    "\n",
    "    data = data.copy()\n",
    "    \n",
    "    # visit_date признаки \n",
    "    if 'visit_date' in data.columns:\n",
    "        data['visit_date'] = data['visit_date'].astype('datetime64[ns]')\n",
    "        data['visit_date_added_holiday'] = \\\n",
    "            data['visit_date'].isin(russian_holidays)\n",
    "        # числовые признаки сделаем строго положительными \n",
    "        # для лучшей обработки на шаге с YeoJohnsonTransformer\n",
    "        data['visit_date_weekday'] = data['visit_date'].dt.weekday + 1\n",
    "        data['visit_date_weekend'] = data['visit_date'].dt.weekday > 4\n",
    "        data['visit_date_day'] = data['visit_date'].dt.day + 1\n",
    "\n",
    "    # visit_time признаки\n",
    "    if 'visit_time' in data.columns:\n",
    "        data['visit_time'] = data['visit_time'].astype('datetime64[ns]')\n",
    "        data['visit_time_hour'] = data['visit_time'].dt.hour + 1\n",
    "        data['visit_time_minute'] = data['visit_time'].dt.minute + 1\n",
    "        data['visit_time_night'] = data['visit_time'].dt.hour < 9\n",
    "\n",
    "    # utm_* признаки\n",
    "    if 'utm_medium' in data.columns:\n",
    "        data['utm_medium_added_is_organic'] = \\\n",
    "            data['utm_medium'].isin(organic_mediums)\n",
    "    if 'utm_source' in data.columns: \n",
    "        data['utm_source_added_is_social'] = \\\n",
    "            data['utm_source'].isin(social_media_sources)\n",
    "    \n",
    "    # device_screen признаки\n",
    "    if 'device_screen_resolution' in data.columns:\n",
    "        name = 'device_screen_resolution'\n",
    "        data[[name + '_width', name + '_height']] = \\\n",
    "            data[name].str.split('x', expand=True).astype(float)\n",
    "        data[name + '_area'] = data[name + '_width'] * data[name + '_height']\n",
    "        data[name + '_ratio'] = data[name + '_width'] / data[name + '_height']\n",
    "        data[name + '_ratio_greater_1'] = data[name + '_ratio'] > 1\n",
    "\n",
    "    # geo_city признаки \n",
    "    if 'geo_city' in data.columns:\n",
    "        data['geo_city_added_is_moscow_region'] = \\\n",
    "            data['geo_city'].isin(moscow_region_cities)\n",
    "        data['geo_city_added_is_big'] = data['geo_city'].isin(big_cities)\n",
    "        data['geo_city_is_big_or_in_moscow_region'] = \\\n",
    "            data['geo_city_added_is_moscow_region'] \\\n",
    "            | data['geo_city_added_is_big']\n",
    "        data['geo_city_added_distance_from_moscow'] = \\\n",
    "            data['geo_city'].apply(get_distance_from_moscow)\n",
    "        data['geo_city_added_distance_from_moscow_category'] = \\\n",
    "            data['geo_city_added_distance_from_moscow'].apply(distance_category)\n",
    "\n",
    "    return data"
   ]
  },
  {
   "cell_type": "code",
   "execution_count": 139,
   "metadata": {},
   "outputs": [],
   "source": [
    "def set_index(data: pd.DataFrame, column: str = 'session_id') -> pd.DataFrame:\n",
    "    \"\"\"Устанавливает в качестве индекса датафрейма колонку `column`.\"\"\"\n",
    "    \n",
    "    data = data.copy()\n",
    "\n",
    "    if column in data.columns:\n",
    "        data = data.set_index(column)\n",
    "    \n",
    "    return data"
   ]
  },
  {
   "cell_type": "code",
   "execution_count": 140,
   "metadata": {},
   "outputs": [],
   "source": [
    "def converse_types(data: pd.DataFrame) -> pd.DataFrame:\n",
    "    \"\"\"Приводит типы переменных к float. В первую очередь \n",
    "    необходимо для преобразования bool значений.\n",
    "    \"\"\"\n",
    "\n",
    "    return data.astype(float)"
   ]
  },
  {
   "cell_type": "markdown",
   "metadata": {},
   "source": [
    "### Собираем пайплайн  \n",
    "\n",
    "Пайплайн по подготовке данных состоит из 4 частей:  \n",
    "1. Создание дополнительных признаков\n",
    "2. Преобразование численных переменных\n",
    "3. Преобразование категориальных переменных\n",
    "4. Удаление лишних признаков"
   ]
  },
  {
   "cell_type": "code",
   "execution_count": 141,
   "metadata": {},
   "outputs": [],
   "source": [
    "preprocessor = Pipeline(steps=[\n",
    "\n",
    "    # Создание дополнительных признаков и\n",
    "    # Приведение датафрейма к удобному виду \n",
    "    ('indexer', FunctionTransformer(set_index)), \n",
    "    ('imputer', FunctionTransformer(fill_missings)), \n",
    "    ('engineer', FunctionTransformer(create_features)), \n",
    "    ('dropper', DropFeatures(['client_id', 'visit_date', 'visit_time', \n",
    "                              'device_screen_resolution'])), \n",
    "\n",
    "    # Преобразования численных переменных\n",
    "    ('normalization', YeoJohnsonTransformer()), \n",
    "    ('outlier_remover', Winsorizer()), \n",
    "    ('scaler', SklearnTransformerWrapper(StandardScaler())), \n",
    "\n",
    "    # Преобразования категориальных признаков\n",
    "    ('rare_encoder', RareLabelEncoder(tol=0.05, replace_with='rare')), \n",
    "    ('onehot_encoder', OneHotEncoder(drop_last_binary=True)), \n",
    "    ('bool_converter', FunctionTransformer(converse_types)), \n",
    "\n",
    "    # Удаление дубликатов и коррелируемых признаков\n",
    "    ('constant_dropper', DropConstantFeatures(tol=0.99)), \n",
    "    ('duplicated_dropper', DropDuplicateFeatures()), \n",
    "    ('correlated_dropper', DropCorrelatedFeatures(threshold=0.8)), \n",
    "\n",
    "    ])"
   ]
  },
  {
   "cell_type": "markdown",
   "metadata": {},
   "source": [
    "## Моделирование"
   ]
  },
  {
   "cell_type": "markdown",
   "metadata": {},
   "source": [
    "### Разделение данных  \n",
    "\n",
    "Разделим данные на тренировочную, валидационную и тестовую выборки.  \n"
   ]
  },
  {
   "cell_type": "code",
   "execution_count": 142,
   "metadata": {},
   "outputs": [],
   "source": [
    "TEST_SIZE = 200_000\n",
    "RANDOM_SEED = 0"
   ]
  },
  {
   "cell_type": "code",
   "execution_count": 143,
   "metadata": {},
   "outputs": [
    {
     "name": "stdout",
     "output_type": "stream",
     "text": [
      "train shapes: (1460042, 18) (1460042,)\n",
      "valid shapes: (200000, 18) (200000,)\n",
      "test  shapes: (200000, 18) (200000,)\n"
     ]
    }
   ],
   "source": [
    "X, X_test, y, y_test = train_test_split(\n",
    "    df_sessions_new, target, test_size=TEST_SIZE, \n",
    "    stratify=target, random_state=RANDOM_SEED)\n",
    "\n",
    "X_train, X_valid, y_train, y_valid = train_test_split(\n",
    "    X, y, test_size=TEST_SIZE, \n",
    "    stratify=y, random_state=RANDOM_SEED)\n",
    "\n",
    "print(f'train shapes: {X_train.shape} {y_train.shape}')\n",
    "print(f'valid shapes: {X_valid.shape} {y_valid.shape}')\n",
    "print(f'test  shapes: {X_test.shape} {y_test.shape}')"
   ]
  },
  {
   "cell_type": "markdown",
   "metadata": {},
   "source": [
    "### Препроцессинг данных  \n",
    "\n",
    "Преобразуем тренировочные и валидационные данные с помощью построенного конвейера."
   ]
  },
  {
   "cell_type": "code",
   "execution_count": 144,
   "metadata": {},
   "outputs": [
    {
     "data": {
      "text/html": [
       "<div>\n",
       "<style scoped>\n",
       "    .dataframe tbody tr th:only-of-type {\n",
       "        vertical-align: middle;\n",
       "    }\n",
       "\n",
       "    .dataframe tbody tr th {\n",
       "        vertical-align: top;\n",
       "    }\n",
       "\n",
       "    .dataframe thead th {\n",
       "        text-align: right;\n",
       "    }\n",
       "</style>\n",
       "<table border=\"1\" class=\"dataframe\">\n",
       "  <thead>\n",
       "    <tr style=\"text-align: right;\">\n",
       "      <th></th>\n",
       "      <th>session_id</th>\n",
       "      <th>client_id</th>\n",
       "      <th>visit_date</th>\n",
       "      <th>visit_time</th>\n",
       "      <th>visit_number</th>\n",
       "      <th>utm_source</th>\n",
       "      <th>utm_medium</th>\n",
       "      <th>utm_campaign</th>\n",
       "      <th>utm_adcontent</th>\n",
       "      <th>utm_keyword</th>\n",
       "      <th>device_category</th>\n",
       "      <th>device_os</th>\n",
       "      <th>device_brand</th>\n",
       "      <th>device_model</th>\n",
       "      <th>device_screen_resolution</th>\n",
       "      <th>device_browser</th>\n",
       "      <th>geo_country</th>\n",
       "      <th>geo_city</th>\n",
       "    </tr>\n",
       "  </thead>\n",
       "  <tbody>\n",
       "    <tr>\n",
       "      <th>1056663</th>\n",
       "      <td>547332070992313735.1638727047.1638727047</td>\n",
       "      <td>127435678.1638727047</td>\n",
       "      <td>2021-12-05</td>\n",
       "      <td>20:57:27</td>\n",
       "      <td>1</td>\n",
       "      <td>ZpYIoDJMcFzVoPFsHGJL</td>\n",
       "      <td>banner</td>\n",
       "      <td>TmThBvoCcwkCZZUWACYq</td>\n",
       "      <td>JNHcPlZPxEMWDnRiyoBf</td>\n",
       "      <td>puhZPIYqKXeFPaUviSjo</td>\n",
       "      <td>mobile</td>\n",
       "      <td>iOS</td>\n",
       "      <td>Apple</td>\n",
       "      <td>NaN</td>\n",
       "      <td>428x926</td>\n",
       "      <td>Safari</td>\n",
       "      <td>Russia</td>\n",
       "      <td>Novotroitsk</td>\n",
       "    </tr>\n",
       "    <tr>\n",
       "      <th>1409550</th>\n",
       "      <td>7049980726847853060.1629809978.1629809978</td>\n",
       "      <td>1641451550.1629344260</td>\n",
       "      <td>2021-08-24</td>\n",
       "      <td>15:00:00</td>\n",
       "      <td>5</td>\n",
       "      <td>MvfHsxITijuriZxsqZqt</td>\n",
       "      <td>cpm</td>\n",
       "      <td>FTjNLDyTrXaWYgZymFkV</td>\n",
       "      <td>PkybGvWbaqORmxjNunqZ</td>\n",
       "      <td>NaN</td>\n",
       "      <td>mobile</td>\n",
       "      <td>NaN</td>\n",
       "      <td>Xiaomi</td>\n",
       "      <td>NaN</td>\n",
       "      <td>393x851</td>\n",
       "      <td>Chrome</td>\n",
       "      <td>Russia</td>\n",
       "      <td>Balashikha</td>\n",
       "    </tr>\n",
       "    <tr>\n",
       "      <th>739873</th>\n",
       "      <td>4064566220882386809.1639930788.1639930788</td>\n",
       "      <td>946355569.1639915385</td>\n",
       "      <td>2021-12-19</td>\n",
       "      <td>19:19:48</td>\n",
       "      <td>2</td>\n",
       "      <td>ZpYIoDJMcFzVoPFsHGJL</td>\n",
       "      <td>banner</td>\n",
       "      <td>LEoPHuyFvzoNfnzGgfcd</td>\n",
       "      <td>vCIpmpaGBnIQhyYNkXqp</td>\n",
       "      <td>puhZPIYqKXeFPaUviSjo</td>\n",
       "      <td>mobile</td>\n",
       "      <td>Android</td>\n",
       "      <td>Samsung</td>\n",
       "      <td>NaN</td>\n",
       "      <td>339x753</td>\n",
       "      <td>Chrome</td>\n",
       "      <td>Russia</td>\n",
       "      <td>Almetyevsk</td>\n",
       "    </tr>\n",
       "    <tr>\n",
       "      <th>62902</th>\n",
       "      <td>1033849280328168809.1631647080.1631647080</td>\n",
       "      <td>240711793.1631647081</td>\n",
       "      <td>2021-09-14</td>\n",
       "      <td>22:00:00</td>\n",
       "      <td>1</td>\n",
       "      <td>ZpYIoDJMcFzVoPFsHGJL</td>\n",
       "      <td>banner</td>\n",
       "      <td>gecBYcKZCPMcVYdSSzKP</td>\n",
       "      <td>JNHcPlZPxEMWDnRiyoBf</td>\n",
       "      <td>NaN</td>\n",
       "      <td>mobile</td>\n",
       "      <td>NaN</td>\n",
       "      <td>Apple</td>\n",
       "      <td>NaN</td>\n",
       "      <td>414x896</td>\n",
       "      <td>Safari</td>\n",
       "      <td>Russia</td>\n",
       "      <td>Saint Petersburg</td>\n",
       "    </tr>\n",
       "    <tr>\n",
       "      <th>1297234</th>\n",
       "      <td>6544287746962620171.1638268683.1638268683</td>\n",
       "      <td>1523710728.1638268683</td>\n",
       "      <td>2021-11-30</td>\n",
       "      <td>13:38:03</td>\n",
       "      <td>1</td>\n",
       "      <td>ZpYIoDJMcFzVoPFsHGJL</td>\n",
       "      <td>banner</td>\n",
       "      <td>LEoPHuyFvzoNfnzGgfcd</td>\n",
       "      <td>vCIpmpaGBnIQhyYNkXqp</td>\n",
       "      <td>puhZPIYqKXeFPaUviSjo</td>\n",
       "      <td>mobile</td>\n",
       "      <td>Android</td>\n",
       "      <td>Xiaomi</td>\n",
       "      <td>NaN</td>\n",
       "      <td>393x851</td>\n",
       "      <td>Chrome</td>\n",
       "      <td>Russia</td>\n",
       "      <td>Moscow</td>\n",
       "    </tr>\n",
       "    <tr>\n",
       "      <th>...</th>\n",
       "      <td>...</td>\n",
       "      <td>...</td>\n",
       "      <td>...</td>\n",
       "      <td>...</td>\n",
       "      <td>...</td>\n",
       "      <td>...</td>\n",
       "      <td>...</td>\n",
       "      <td>...</td>\n",
       "      <td>...</td>\n",
       "      <td>...</td>\n",
       "      <td>...</td>\n",
       "      <td>...</td>\n",
       "      <td>...</td>\n",
       "      <td>...</td>\n",
       "      <td>...</td>\n",
       "      <td>...</td>\n",
       "      <td>...</td>\n",
       "      <td>...</td>\n",
       "    </tr>\n",
       "    <tr>\n",
       "      <th>1793000</th>\n",
       "      <td>8755082352522037809.1633552946.1633552946</td>\n",
       "      <td>2038451459.1633552945</td>\n",
       "      <td>2021-10-06</td>\n",
       "      <td>23:00:00</td>\n",
       "      <td>1</td>\n",
       "      <td>fDLlAcSmythWSCVMvqvL</td>\n",
       "      <td>(none)</td>\n",
       "      <td>LTuZkdKfxRGVceoWkVyg</td>\n",
       "      <td>JNHcPlZPxEMWDnRiyoBf</td>\n",
       "      <td>NaN</td>\n",
       "      <td>mobile</td>\n",
       "      <td>NaN</td>\n",
       "      <td>Samsung</td>\n",
       "      <td>NaN</td>\n",
       "      <td>360x800</td>\n",
       "      <td>Chrome</td>\n",
       "      <td>Russia</td>\n",
       "      <td>Moscow</td>\n",
       "    </tr>\n",
       "    <tr>\n",
       "      <th>207261</th>\n",
       "      <td>1682284231298311525.1640424805.1640424805</td>\n",
       "      <td>391687320.1640424805</td>\n",
       "      <td>2021-12-25</td>\n",
       "      <td>12:33:25</td>\n",
       "      <td>1</td>\n",
       "      <td>fDLlAcSmythWSCVMvqvL</td>\n",
       "      <td>(none)</td>\n",
       "      <td>LTuZkdKfxRGVceoWkVyg</td>\n",
       "      <td>JNHcPlZPxEMWDnRiyoBf</td>\n",
       "      <td>puhZPIYqKXeFPaUviSjo</td>\n",
       "      <td>mobile</td>\n",
       "      <td>iOS</td>\n",
       "      <td>Apple</td>\n",
       "      <td>NaN</td>\n",
       "      <td>375x812</td>\n",
       "      <td>Safari</td>\n",
       "      <td>Russia</td>\n",
       "      <td>Saint Petersburg</td>\n",
       "    </tr>\n",
       "    <tr>\n",
       "      <th>93412</th>\n",
       "      <td>1170303784354950884.1640345317.1640345317</td>\n",
       "      <td>272482583.1640345316</td>\n",
       "      <td>2021-12-24</td>\n",
       "      <td>14:28:37</td>\n",
       "      <td>1</td>\n",
       "      <td>fDLlAcSmythWSCVMvqvL</td>\n",
       "      <td>(none)</td>\n",
       "      <td>LTuZkdKfxRGVceoWkVyg</td>\n",
       "      <td>JNHcPlZPxEMWDnRiyoBf</td>\n",
       "      <td>puhZPIYqKXeFPaUviSjo</td>\n",
       "      <td>desktop</td>\n",
       "      <td>Windows</td>\n",
       "      <td>NaN</td>\n",
       "      <td>NaN</td>\n",
       "      <td>1920x1080</td>\n",
       "      <td>Chrome</td>\n",
       "      <td>Russia</td>\n",
       "      <td>Moscow</td>\n",
       "    </tr>\n",
       "    <tr>\n",
       "      <th>1568591</th>\n",
       "      <td>7753976912353269271.1634047522.1634047522</td>\n",
       "      <td>1805363435.1634047511</td>\n",
       "      <td>2021-10-12</td>\n",
       "      <td>17:00:00</td>\n",
       "      <td>1</td>\n",
       "      <td>ZpYIoDJMcFzVoPFsHGJL</td>\n",
       "      <td>banner</td>\n",
       "      <td>gecBYcKZCPMcVYdSSzKP</td>\n",
       "      <td>JNHcPlZPxEMWDnRiyoBf</td>\n",
       "      <td>NaN</td>\n",
       "      <td>mobile</td>\n",
       "      <td>NaN</td>\n",
       "      <td>Xiaomi</td>\n",
       "      <td>NaN</td>\n",
       "      <td>393x851</td>\n",
       "      <td>Chrome</td>\n",
       "      <td>Russia</td>\n",
       "      <td>Novosibirsk</td>\n",
       "    </tr>\n",
       "    <tr>\n",
       "      <th>1119538</th>\n",
       "      <td>5753600408244704247.1626854393.1626854393</td>\n",
       "      <td>1339614486.1626854391</td>\n",
       "      <td>2021-07-21</td>\n",
       "      <td>10:00:00</td>\n",
       "      <td>1</td>\n",
       "      <td>MvfHsxITijuriZxsqZqt</td>\n",
       "      <td>cpm</td>\n",
       "      <td>FTjNLDyTrXaWYgZymFkV</td>\n",
       "      <td>dUuXlWzvmhDSyclWRhNP</td>\n",
       "      <td>NaN</td>\n",
       "      <td>mobile</td>\n",
       "      <td>NaN</td>\n",
       "      <td>Xiaomi</td>\n",
       "      <td>NaN</td>\n",
       "      <td>393x851</td>\n",
       "      <td>Chrome</td>\n",
       "      <td>Russia</td>\n",
       "      <td>Saint Petersburg</td>\n",
       "    </tr>\n",
       "  </tbody>\n",
       "</table>\n",
       "<p>1460042 rows × 18 columns</p>\n",
       "</div>"
      ],
      "text/plain": [
       "                                        session_id              client_id  \\\n",
       "1056663   547332070992313735.1638727047.1638727047   127435678.1638727047   \n",
       "1409550  7049980726847853060.1629809978.1629809978  1641451550.1629344260   \n",
       "739873   4064566220882386809.1639930788.1639930788   946355569.1639915385   \n",
       "62902    1033849280328168809.1631647080.1631647080   240711793.1631647081   \n",
       "1297234  6544287746962620171.1638268683.1638268683  1523710728.1638268683   \n",
       "...                                            ...                    ...   \n",
       "1793000  8755082352522037809.1633552946.1633552946  2038451459.1633552945   \n",
       "207261   1682284231298311525.1640424805.1640424805   391687320.1640424805   \n",
       "93412    1170303784354950884.1640345317.1640345317   272482583.1640345316   \n",
       "1568591  7753976912353269271.1634047522.1634047522  1805363435.1634047511   \n",
       "1119538  5753600408244704247.1626854393.1626854393  1339614486.1626854391   \n",
       "\n",
       "         visit_date visit_time  visit_number            utm_source utm_medium  \\\n",
       "1056663  2021-12-05   20:57:27             1  ZpYIoDJMcFzVoPFsHGJL     banner   \n",
       "1409550  2021-08-24   15:00:00             5  MvfHsxITijuriZxsqZqt        cpm   \n",
       "739873   2021-12-19   19:19:48             2  ZpYIoDJMcFzVoPFsHGJL     banner   \n",
       "62902    2021-09-14   22:00:00             1  ZpYIoDJMcFzVoPFsHGJL     banner   \n",
       "1297234  2021-11-30   13:38:03             1  ZpYIoDJMcFzVoPFsHGJL     banner   \n",
       "...             ...        ...           ...                   ...        ...   \n",
       "1793000  2021-10-06   23:00:00             1  fDLlAcSmythWSCVMvqvL     (none)   \n",
       "207261   2021-12-25   12:33:25             1  fDLlAcSmythWSCVMvqvL     (none)   \n",
       "93412    2021-12-24   14:28:37             1  fDLlAcSmythWSCVMvqvL     (none)   \n",
       "1568591  2021-10-12   17:00:00             1  ZpYIoDJMcFzVoPFsHGJL     banner   \n",
       "1119538  2021-07-21   10:00:00             1  MvfHsxITijuriZxsqZqt        cpm   \n",
       "\n",
       "                 utm_campaign         utm_adcontent           utm_keyword  \\\n",
       "1056663  TmThBvoCcwkCZZUWACYq  JNHcPlZPxEMWDnRiyoBf  puhZPIYqKXeFPaUviSjo   \n",
       "1409550  FTjNLDyTrXaWYgZymFkV  PkybGvWbaqORmxjNunqZ                   NaN   \n",
       "739873   LEoPHuyFvzoNfnzGgfcd  vCIpmpaGBnIQhyYNkXqp  puhZPIYqKXeFPaUviSjo   \n",
       "62902    gecBYcKZCPMcVYdSSzKP  JNHcPlZPxEMWDnRiyoBf                   NaN   \n",
       "1297234  LEoPHuyFvzoNfnzGgfcd  vCIpmpaGBnIQhyYNkXqp  puhZPIYqKXeFPaUviSjo   \n",
       "...                       ...                   ...                   ...   \n",
       "1793000  LTuZkdKfxRGVceoWkVyg  JNHcPlZPxEMWDnRiyoBf                   NaN   \n",
       "207261   LTuZkdKfxRGVceoWkVyg  JNHcPlZPxEMWDnRiyoBf  puhZPIYqKXeFPaUviSjo   \n",
       "93412    LTuZkdKfxRGVceoWkVyg  JNHcPlZPxEMWDnRiyoBf  puhZPIYqKXeFPaUviSjo   \n",
       "1568591  gecBYcKZCPMcVYdSSzKP  JNHcPlZPxEMWDnRiyoBf                   NaN   \n",
       "1119538  FTjNLDyTrXaWYgZymFkV  dUuXlWzvmhDSyclWRhNP                   NaN   \n",
       "\n",
       "        device_category device_os device_brand device_model  \\\n",
       "1056663          mobile       iOS        Apple          NaN   \n",
       "1409550          mobile       NaN       Xiaomi          NaN   \n",
       "739873           mobile   Android      Samsung          NaN   \n",
       "62902            mobile       NaN        Apple          NaN   \n",
       "1297234          mobile   Android       Xiaomi          NaN   \n",
       "...                 ...       ...          ...          ...   \n",
       "1793000          mobile       NaN      Samsung          NaN   \n",
       "207261           mobile       iOS        Apple          NaN   \n",
       "93412           desktop   Windows          NaN          NaN   \n",
       "1568591          mobile       NaN       Xiaomi          NaN   \n",
       "1119538          mobile       NaN       Xiaomi          NaN   \n",
       "\n",
       "        device_screen_resolution device_browser geo_country          geo_city  \n",
       "1056663                  428x926         Safari      Russia       Novotroitsk  \n",
       "1409550                  393x851         Chrome      Russia        Balashikha  \n",
       "739873                   339x753         Chrome      Russia        Almetyevsk  \n",
       "62902                    414x896         Safari      Russia  Saint Petersburg  \n",
       "1297234                  393x851         Chrome      Russia            Moscow  \n",
       "...                          ...            ...         ...               ...  \n",
       "1793000                  360x800         Chrome      Russia            Moscow  \n",
       "207261                   375x812         Safari      Russia  Saint Petersburg  \n",
       "93412                  1920x1080         Chrome      Russia            Moscow  \n",
       "1568591                  393x851         Chrome      Russia       Novosibirsk  \n",
       "1119538                  393x851         Chrome      Russia  Saint Petersburg  \n",
       "\n",
       "[1460042 rows x 18 columns]"
      ]
     },
     "execution_count": 144,
     "metadata": {},
     "output_type": "execute_result"
    }
   ],
   "source": [
    "X_train"
   ]
  },
  {
   "cell_type": "code",
   "execution_count": 145,
   "metadata": {},
   "outputs": [
    {
     "name": "stderr",
     "output_type": "stream",
     "text": [
      "c:\\Users\\V.Nikitin\\Anaconda3\\lib\\site-packages\\scipy\\stats\\morestats.py:1557: RuntimeWarning: divide by zero encountered in log\n",
      "  loglike = -n_samples / 2 * np.log(trans.var(axis=0))\n",
      "c:\\Users\\V.Nikitin\\Anaconda3\\lib\\site-packages\\scipy\\optimize\\optimize.py:2216: RuntimeWarning: invalid value encountered in double_scalars\n",
      "  p = (x - v) * tmp2 - (x - w) * tmp1\n",
      "c:\\Users\\V.Nikitin\\Anaconda3\\lib\\site-packages\\scipy\\optimize\\optimize.py:2217: RuntimeWarning: invalid value encountered in double_scalars\n",
      "  tmp2 = 2.0 * (tmp2 - tmp1)\n",
      "c:\\Users\\V.Nikitin\\Anaconda3\\lib\\site-packages\\feature_engine\\encoding\\rare_label.py:216: UserWarning: The number of unique categories for variable device_category is less than that indicated in n_categories. Thus, all categories will be considered frequent\n",
      "  warnings.warn(\n",
      "c:\\Users\\V.Nikitin\\Anaconda3\\lib\\site-packages\\feature_engine\\encoding\\rare_label.py:216: UserWarning: The number of unique categories for variable geo_city_added_distance_from_moscow_category is less than that indicated in n_categories. Thus, all categories will be considered frequent\n",
      "  warnings.warn(\n"
     ]
    },
    {
     "name": "stdout",
     "output_type": "stream",
     "text": [
      "X_train.shape = (1460042, 55)\n"
     ]
    }
   ],
   "source": [
    "X_train_preprocessed = preprocessor.fit_transform(X_train)\n",
    "X_valid_preprocessed = preprocessor.transform(X_valid)\n",
    "\n",
    "print(f'X_train.shape = {X_train_preprocessed.shape}')"
   ]
  },
  {
   "cell_type": "markdown",
   "metadata": {},
   "source": [
    "### Выбор метрик  \n",
    "\n",
    "Будем использовать в качестве основной метрики - `roc_auc`. Но также взглянем и на другие метрики: `accuracy`, `precision`, `recall`, `f1`.  "
   ]
  },
  {
   "cell_type": "code",
   "execution_count": 146,
   "metadata": {},
   "outputs": [],
   "source": [
    "def find_best_threshold(\n",
    "    y_true: pd.Series, \n",
    "    y_proba: pd.Series, \n",
    "    metriс_name: str = 'roc_auc', \n",
    "    iterations: int = 250, \n",
    "    learning_rate: float = 0.05\n",
    ") -> float:\n",
    "    \"\"\"Находит лучший порог перевода вероятностей `y_proba` \n",
    "    в принадлежность к классу 1.\n",
    "    \"\"\"\n",
    "    \n",
    "    # Получение функции метрики, которую оптимизируем\n",
    "    metrics = {'roc_auc': roc_auc_score, 'f1': f1_score, \n",
    "               'precision': precision_score, 'recall': recall_score}\n",
    "    metric_function = metrics.get(metriс_name, accuracy_score)\n",
    "\n",
    "    # Получение метрики\n",
    "    def get_metric(threshold: float) -> float:\n",
    "        prediction = (y_proba > threshold).astype(int)\n",
    "        return metric_function(y_true, prediction)\n",
    "\n",
    "    direction = -1\n",
    "    shift = 0.25\n",
    "\n",
    "    best_threshold = 0.5\n",
    "    best_metric = get_metric(best_threshold)\n",
    "\n",
    "    # На каждой итерации\n",
    "    for i in range(iterations):\n",
    "\n",
    "        # Меняем порог\n",
    "        threshold = best_threshold + direction * shift\n",
    "        shift *= (1 - learning_rate)\n",
    "        metric = get_metric(threshold)\n",
    "\n",
    "        # И проверяем, улучшилась ли метрика\n",
    "        if metric > best_metric: \n",
    "            best_threshold = threshold\n",
    "            best_metric = metric\n",
    "        else: \n",
    "            direction *= -1\n",
    "            \n",
    "    return best_threshold"
   ]
  },
  {
   "cell_type": "code",
   "execution_count": 147,
   "metadata": {},
   "outputs": [],
   "source": [
    "def print_metrics(\n",
    "    model: BaseEstimator, \n",
    "    X: pd.DataFrame, \n",
    "    y: pd.Series, \n",
    "    threshold: Union[float, None] = None, \n",
    "    show_roc_curve: bool = False\n",
    ") -> None:\n",
    "    \"\"\"Получает метрики бинарной классификации из модели `model` на данных \n",
    "    `X` и `y`. Если возможно, то через метод `predict_proba` с заданным \n",
    "    порогом перевода вероятностей в классы `threshold`, иначе через `predict`. \n",
    "    Если `threshold` равен None, автоматически найдёт лучший порог.  \n",
    "    ---\n",
    "    Метрики: roc_auc, accuracy, precision, recall, f1, confusion_matrix, \n",
    "    roc_curve.\n",
    "    \"\"\"\n",
    "\n",
    "    # Получим предсказания, если возможно в виде вероятностей\n",
    "    try: \n",
    "        probas = model.predict_proba(X)[:, 1]\n",
    "    except AttributeError:\n",
    "        prediction = model.predict(X)\n",
    "        threshold = None\n",
    "        probas = None\n",
    "    else:\n",
    "        threshold = threshold or find_best_threshold(y, probas, 'roc_auc')\n",
    "        prediction = (probas > threshold).astype(int)\n",
    "\n",
    "    # Распечатаем порог перевода вероятностей в классы\n",
    "    if threshold is None:\n",
    "        print(\"Порог перевода вероятностей в классы: не используется\")\n",
    "    else:\n",
    "        print(f\"Порог перевода вероятностей в классы: {threshold}\")\n",
    "        print(f\"{roc_auc_score(y, probas)} - roc_auc на вероятностях\")\n",
    "\n",
    "    # Распечатаем однострочные метрики\n",
    "    print()\n",
    "    print(f\"{roc_auc_score(y, prediction):0.8f} - roc_auc\")\n",
    "    print(f\"{accuracy_score(y, prediction):0.8f} - accuracy\")\n",
    "    print(f\"{precision_score(y, prediction):0.8f} - precision\")\n",
    "    print(f\"{recall_score(y, prediction):0.8f} - recall\")\n",
    "    print(f\"{f1_score(y, prediction):0.8f} - f1\")\n",
    "\n",
    "    # Распечатаем матрицу ошибок\n",
    "    conf_mat = confusion_matrix(y, prediction)\n",
    "    classes = model.classes_\n",
    "    n_classes = len(classes)\n",
    "    print()\n",
    "    print(\"|\".join(f\"{i:^10}\" for i in [\"prediction\"] + list(classes)))\n",
    "    print(f\"{'true label':^10}\" + (\"|\" + \" \" * 10) * n_classes)\n",
    "    print(\"-\" * ((n_classes * 10) + n_classes + 10))\n",
    "    for i in range(n_classes):\n",
    "        print(\"|\".join(f\"{j:>10}\" for j in [classes[i]] + list(conf_mat[i])))\n",
    "\n",
    "    # Отобразим ROC-кривую\n",
    "    if show_roc_curve:\n",
    "        print()\n",
    "        plt.figure(figsize=(7, 4))\n",
    "        if probas is not None:\n",
    "            plt.plot(*roc_curve(y_test, probas)[:2], \n",
    "                     c='r', label='on probability')\n",
    "        plt.plot(*roc_curve(y_test, prediction)[:2], c='b', label='on class')\n",
    "        plt.plot([0, 1], [0, 1], c='y', label='random', linestyle='dashed')\n",
    "        plt.title('Receiver operating characteristic')\n",
    "        plt.xlabel('False Positive Rate')\n",
    "        plt.ylabel('True Positive Rate')\n",
    "        plt.legend()\n",
    "        plt.show()"
   ]
  },
  {
   "cell_type": "markdown",
   "metadata": {},
   "source": [
    "### Базовая модель  \n",
    "\n",
    "Так как целевая переменная распределена неравномерно, то в качестве нулевой гипотизы можно выбрать стратегию, которая для каждой сессии предсказывает значение 0.  \n"
   ]
  },
  {
   "cell_type": "code",
   "execution_count": 148,
   "metadata": {},
   "outputs": [
    {
     "name": "stdout",
     "output_type": "stream",
     "text": [
      "Порог перевода вероятностей в классы: 0.5\n"
     ]
    },
    {
     "name": "stdout",
     "output_type": "stream",
     "text": [
      "0.5 - roc_auc на вероятностях\n",
      "\n",
      "0.50000000 - roc_auc\n",
      "0.97295000 - accuracy\n",
      "0.00000000 - precision\n",
      "0.00000000 - recall\n"
     ]
    },
    {
     "name": "stderr",
     "output_type": "stream",
     "text": [
      "c:\\Users\\V.Nikitin\\Anaconda3\\lib\\site-packages\\sklearn\\metrics\\_classification.py:1344: UndefinedMetricWarning: Precision is ill-defined and being set to 0.0 due to no predicted samples. Use `zero_division` parameter to control this behavior.\n",
      "  _warn_prf(average, modifier, msg_start, len(result))\n"
     ]
    },
    {
     "name": "stdout",
     "output_type": "stream",
     "text": [
      "0.00000000 - f1\n",
      "\n",
      "prediction|   0.0    |   1.0    \n",
      "true label|          |          \n",
      "--------------------------------\n",
      "       0.0|    194590|         0\n",
      "       1.0|      5410|         0\n"
     ]
    }
   ],
   "source": [
    "# Обучим базовую модель \n",
    "baseline = DummyClassifier(strategy='constant', constant=0)\n",
    "baseline.fit(X_train_preprocessed, y_train)\n",
    "\n",
    "# И получим её метрики\n",
    "print_metrics(baseline, X_valid_preprocessed, y_valid, 0.5)"
   ]
  },
  {
   "cell_type": "markdown",
   "metadata": {},
   "source": [
    "### Выбор модели  \n",
    "\n",
    "Обучим несколько моделей, оценим на валидационной выборке и выберем лучшую, которую уже будем оптимизировать."
   ]
  },
  {
   "cell_type": "markdown",
   "metadata": {},
   "source": [
    "### Выбор модели  \n",
    "\n",
    "Обучим несколько моделей, оценим на валидационной выборке и выберем лучшую, которую уже будем оптимизировать."
   ]
  },
  {
   "cell_type": "code",
   "execution_count": 149,
   "metadata": {},
   "outputs": [],
   "source": [
    "logreg = LogisticRegression(random_state=RANDOM_SEED)"
   ]
  },
  {
   "cell_type": "code",
   "execution_count": 150,
   "metadata": {},
   "outputs": [
    {
     "name": "stdout",
     "output_type": "stream",
     "text": [
      "CPU times: total: 1min 1s\n",
      "Wall time: 16 s\n"
     ]
    },
    {
     "name": "stderr",
     "output_type": "stream",
     "text": [
      "c:\\Users\\V.Nikitin\\Anaconda3\\lib\\site-packages\\sklearn\\linear_model\\_logistic.py:458: ConvergenceWarning: lbfgs failed to converge (status=1):\n",
      "STOP: TOTAL NO. of ITERATIONS REACHED LIMIT.\n",
      "\n",
      "Increase the number of iterations (max_iter) or scale the data as shown in:\n",
      "    https://scikit-learn.org/stable/modules/preprocessing.html\n",
      "Please also refer to the documentation for alternative solver options:\n",
      "    https://scikit-learn.org/stable/modules/linear_model.html#logistic-regression\n",
      "  n_iter_i = _check_optimize_result(\n"
     ]
    },
    {
     "data": {
      "text/html": [
       "<style>#sk-container-id-1 {color: black;background-color: white;}#sk-container-id-1 pre{padding: 0;}#sk-container-id-1 div.sk-toggleable {background-color: white;}#sk-container-id-1 label.sk-toggleable__label {cursor: pointer;display: block;width: 100%;margin-bottom: 0;padding: 0.3em;box-sizing: border-box;text-align: center;}#sk-container-id-1 label.sk-toggleable__label-arrow:before {content: \"▸\";float: left;margin-right: 0.25em;color: #696969;}#sk-container-id-1 label.sk-toggleable__label-arrow:hover:before {color: black;}#sk-container-id-1 div.sk-estimator:hover label.sk-toggleable__label-arrow:before {color: black;}#sk-container-id-1 div.sk-toggleable__content {max-height: 0;max-width: 0;overflow: hidden;text-align: left;background-color: #f0f8ff;}#sk-container-id-1 div.sk-toggleable__content pre {margin: 0.2em;color: black;border-radius: 0.25em;background-color: #f0f8ff;}#sk-container-id-1 input.sk-toggleable__control:checked~div.sk-toggleable__content {max-height: 200px;max-width: 100%;overflow: auto;}#sk-container-id-1 input.sk-toggleable__control:checked~label.sk-toggleable__label-arrow:before {content: \"▾\";}#sk-container-id-1 div.sk-estimator input.sk-toggleable__control:checked~label.sk-toggleable__label {background-color: #d4ebff;}#sk-container-id-1 div.sk-label input.sk-toggleable__control:checked~label.sk-toggleable__label {background-color: #d4ebff;}#sk-container-id-1 input.sk-hidden--visually {border: 0;clip: rect(1px 1px 1px 1px);clip: rect(1px, 1px, 1px, 1px);height: 1px;margin: -1px;overflow: hidden;padding: 0;position: absolute;width: 1px;}#sk-container-id-1 div.sk-estimator {font-family: monospace;background-color: #f0f8ff;border: 1px dotted black;border-radius: 0.25em;box-sizing: border-box;margin-bottom: 0.5em;}#sk-container-id-1 div.sk-estimator:hover {background-color: #d4ebff;}#sk-container-id-1 div.sk-parallel-item::after {content: \"\";width: 100%;border-bottom: 1px solid gray;flex-grow: 1;}#sk-container-id-1 div.sk-label:hover label.sk-toggleable__label {background-color: #d4ebff;}#sk-container-id-1 div.sk-serial::before {content: \"\";position: absolute;border-left: 1px solid gray;box-sizing: border-box;top: 0;bottom: 0;left: 50%;z-index: 0;}#sk-container-id-1 div.sk-serial {display: flex;flex-direction: column;align-items: center;background-color: white;padding-right: 0.2em;padding-left: 0.2em;position: relative;}#sk-container-id-1 div.sk-item {position: relative;z-index: 1;}#sk-container-id-1 div.sk-parallel {display: flex;align-items: stretch;justify-content: center;background-color: white;position: relative;}#sk-container-id-1 div.sk-item::before, #sk-container-id-1 div.sk-parallel-item::before {content: \"\";position: absolute;border-left: 1px solid gray;box-sizing: border-box;top: 0;bottom: 0;left: 50%;z-index: -1;}#sk-container-id-1 div.sk-parallel-item {display: flex;flex-direction: column;z-index: 1;position: relative;background-color: white;}#sk-container-id-1 div.sk-parallel-item:first-child::after {align-self: flex-end;width: 50%;}#sk-container-id-1 div.sk-parallel-item:last-child::after {align-self: flex-start;width: 50%;}#sk-container-id-1 div.sk-parallel-item:only-child::after {width: 0;}#sk-container-id-1 div.sk-dashed-wrapped {border: 1px dashed gray;margin: 0 0.4em 0.5em 0.4em;box-sizing: border-box;padding-bottom: 0.4em;background-color: white;}#sk-container-id-1 div.sk-label label {font-family: monospace;font-weight: bold;display: inline-block;line-height: 1.2em;}#sk-container-id-1 div.sk-label-container {text-align: center;}#sk-container-id-1 div.sk-container {/* jupyter's `normalize.less` sets `[hidden] { display: none; }` but bootstrap.min.css set `[hidden] { display: none !important; }` so we also need the `!important` here to be able to override the default hidden behavior on the sphinx rendered scikit-learn.org. See: https://github.com/scikit-learn/scikit-learn/issues/21755 */display: inline-block !important;position: relative;}#sk-container-id-1 div.sk-text-repr-fallback {display: none;}</style><div id=\"sk-container-id-1\" class=\"sk-top-container\"><div class=\"sk-text-repr-fallback\"><pre>LogisticRegression(random_state=0)</pre><b>In a Jupyter environment, please rerun this cell to show the HTML representation or trust the notebook. <br />On GitHub, the HTML representation is unable to render, please try loading this page with nbviewer.org.</b></div><div class=\"sk-container\" hidden><div class=\"sk-item\"><div class=\"sk-estimator sk-toggleable\"><input class=\"sk-toggleable__control sk-hidden--visually\" id=\"sk-estimator-id-1\" type=\"checkbox\" checked><label for=\"sk-estimator-id-1\" class=\"sk-toggleable__label sk-toggleable__label-arrow\">LogisticRegression</label><div class=\"sk-toggleable__content\"><pre>LogisticRegression(random_state=0)</pre></div></div></div></div></div>"
      ],
      "text/plain": [
       "LogisticRegression(random_state=0)"
      ]
     },
     "execution_count": 150,
     "metadata": {},
     "output_type": "execute_result"
    }
   ],
   "source": [
    "%%time\n",
    "logreg.fit(X_train_preprocessed, y_train)"
   ]
  },
  {
   "cell_type": "code",
   "execution_count": 151,
   "metadata": {},
   "outputs": [
    {
     "name": "stdout",
     "output_type": "stream",
     "text": [
      "Порог перевода вероятностей в классы: 0.5\n",
      "0.668311987126067 - roc_auc на вероятностях\n",
      "\n",
      "0.50000000 - roc_auc\n",
      "0.97295000 - accuracy\n"
     ]
    },
    {
     "name": "stderr",
     "output_type": "stream",
     "text": [
      "c:\\Users\\V.Nikitin\\Anaconda3\\lib\\site-packages\\sklearn\\metrics\\_classification.py:1344: UndefinedMetricWarning: Precision is ill-defined and being set to 0.0 due to no predicted samples. Use `zero_division` parameter to control this behavior.\n",
      "  _warn_prf(average, modifier, msg_start, len(result))\n"
     ]
    },
    {
     "name": "stdout",
     "output_type": "stream",
     "text": [
      "0.00000000 - precision\n",
      "0.00000000 - recall\n",
      "0.00000000 - f1\n",
      "\n",
      "prediction|   0.0    |   1.0    \n",
      "true label|          |          \n",
      "--------------------------------\n",
      "       0.0|    194590|         0\n",
      "       1.0|      5410|         0\n"
     ]
    }
   ],
   "source": [
    "print_metrics(logreg, X_valid_preprocessed, y_valid)"
   ]
  },
  {
   "cell_type": "markdown",
   "metadata": {},
   "source": [
    "#### Метод опорных векторов"
   ]
  },
  {
   "cell_type": "code",
   "execution_count": 152,
   "metadata": {},
   "outputs": [],
   "source": [
    "svc = LinearSVC(class_weight='balanced')"
   ]
  },
  {
   "cell_type": "code",
   "execution_count": 153,
   "metadata": {},
   "outputs": [
    {
     "name": "stdout",
     "output_type": "stream",
     "text": [
      "CPU times: total: 11min 46s\n",
      "Wall time: 11min 47s\n"
     ]
    },
    {
     "name": "stderr",
     "output_type": "stream",
     "text": [
      "c:\\Users\\V.Nikitin\\Anaconda3\\lib\\site-packages\\sklearn\\svm\\_base.py:1244: ConvergenceWarning: Liblinear failed to converge, increase the number of iterations.\n",
      "  warnings.warn(\n"
     ]
    },
    {
     "data": {
      "text/html": [
       "<style>#sk-container-id-2 {color: black;background-color: white;}#sk-container-id-2 pre{padding: 0;}#sk-container-id-2 div.sk-toggleable {background-color: white;}#sk-container-id-2 label.sk-toggleable__label {cursor: pointer;display: block;width: 100%;margin-bottom: 0;padding: 0.3em;box-sizing: border-box;text-align: center;}#sk-container-id-2 label.sk-toggleable__label-arrow:before {content: \"▸\";float: left;margin-right: 0.25em;color: #696969;}#sk-container-id-2 label.sk-toggleable__label-arrow:hover:before {color: black;}#sk-container-id-2 div.sk-estimator:hover label.sk-toggleable__label-arrow:before {color: black;}#sk-container-id-2 div.sk-toggleable__content {max-height: 0;max-width: 0;overflow: hidden;text-align: left;background-color: #f0f8ff;}#sk-container-id-2 div.sk-toggleable__content pre {margin: 0.2em;color: black;border-radius: 0.25em;background-color: #f0f8ff;}#sk-container-id-2 input.sk-toggleable__control:checked~div.sk-toggleable__content {max-height: 200px;max-width: 100%;overflow: auto;}#sk-container-id-2 input.sk-toggleable__control:checked~label.sk-toggleable__label-arrow:before {content: \"▾\";}#sk-container-id-2 div.sk-estimator input.sk-toggleable__control:checked~label.sk-toggleable__label {background-color: #d4ebff;}#sk-container-id-2 div.sk-label input.sk-toggleable__control:checked~label.sk-toggleable__label {background-color: #d4ebff;}#sk-container-id-2 input.sk-hidden--visually {border: 0;clip: rect(1px 1px 1px 1px);clip: rect(1px, 1px, 1px, 1px);height: 1px;margin: -1px;overflow: hidden;padding: 0;position: absolute;width: 1px;}#sk-container-id-2 div.sk-estimator {font-family: monospace;background-color: #f0f8ff;border: 1px dotted black;border-radius: 0.25em;box-sizing: border-box;margin-bottom: 0.5em;}#sk-container-id-2 div.sk-estimator:hover {background-color: #d4ebff;}#sk-container-id-2 div.sk-parallel-item::after {content: \"\";width: 100%;border-bottom: 1px solid gray;flex-grow: 1;}#sk-container-id-2 div.sk-label:hover label.sk-toggleable__label {background-color: #d4ebff;}#sk-container-id-2 div.sk-serial::before {content: \"\";position: absolute;border-left: 1px solid gray;box-sizing: border-box;top: 0;bottom: 0;left: 50%;z-index: 0;}#sk-container-id-2 div.sk-serial {display: flex;flex-direction: column;align-items: center;background-color: white;padding-right: 0.2em;padding-left: 0.2em;position: relative;}#sk-container-id-2 div.sk-item {position: relative;z-index: 1;}#sk-container-id-2 div.sk-parallel {display: flex;align-items: stretch;justify-content: center;background-color: white;position: relative;}#sk-container-id-2 div.sk-item::before, #sk-container-id-2 div.sk-parallel-item::before {content: \"\";position: absolute;border-left: 1px solid gray;box-sizing: border-box;top: 0;bottom: 0;left: 50%;z-index: -1;}#sk-container-id-2 div.sk-parallel-item {display: flex;flex-direction: column;z-index: 1;position: relative;background-color: white;}#sk-container-id-2 div.sk-parallel-item:first-child::after {align-self: flex-end;width: 50%;}#sk-container-id-2 div.sk-parallel-item:last-child::after {align-self: flex-start;width: 50%;}#sk-container-id-2 div.sk-parallel-item:only-child::after {width: 0;}#sk-container-id-2 div.sk-dashed-wrapped {border: 1px dashed gray;margin: 0 0.4em 0.5em 0.4em;box-sizing: border-box;padding-bottom: 0.4em;background-color: white;}#sk-container-id-2 div.sk-label label {font-family: monospace;font-weight: bold;display: inline-block;line-height: 1.2em;}#sk-container-id-2 div.sk-label-container {text-align: center;}#sk-container-id-2 div.sk-container {/* jupyter's `normalize.less` sets `[hidden] { display: none; }` but bootstrap.min.css set `[hidden] { display: none !important; }` so we also need the `!important` here to be able to override the default hidden behavior on the sphinx rendered scikit-learn.org. See: https://github.com/scikit-learn/scikit-learn/issues/21755 */display: inline-block !important;position: relative;}#sk-container-id-2 div.sk-text-repr-fallback {display: none;}</style><div id=\"sk-container-id-2\" class=\"sk-top-container\"><div class=\"sk-text-repr-fallback\"><pre>LinearSVC(class_weight=&#x27;balanced&#x27;)</pre><b>In a Jupyter environment, please rerun this cell to show the HTML representation or trust the notebook. <br />On GitHub, the HTML representation is unable to render, please try loading this page with nbviewer.org.</b></div><div class=\"sk-container\" hidden><div class=\"sk-item\"><div class=\"sk-estimator sk-toggleable\"><input class=\"sk-toggleable__control sk-hidden--visually\" id=\"sk-estimator-id-2\" type=\"checkbox\" checked><label for=\"sk-estimator-id-2\" class=\"sk-toggleable__label sk-toggleable__label-arrow\">LinearSVC</label><div class=\"sk-toggleable__content\"><pre>LinearSVC(class_weight=&#x27;balanced&#x27;)</pre></div></div></div></div></div>"
      ],
      "text/plain": [
       "LinearSVC(class_weight='balanced')"
      ]
     },
     "execution_count": 153,
     "metadata": {},
     "output_type": "execute_result"
    }
   ],
   "source": [
    "%%time\n",
    "svc.fit(X_train_preprocessed, y_train);"
   ]
  },
  {
   "cell_type": "code",
   "execution_count": 154,
   "metadata": {},
   "outputs": [
    {
     "name": "stdout",
     "output_type": "stream",
     "text": [
      "Порог перевода вероятностей в классы: не используется\n",
      "\n",
      "0.62058588 - roc_auc\n",
      "0.62677000 - accuracy\n",
      "0.04377965 - precision\n",
      "0.61404806 - recall\n",
      "0.08173207 - f1\n",
      "\n",
      "prediction|   0.0    |   1.0    \n",
      "true label|          |          \n",
      "--------------------------------\n",
      "       0.0|    122032|     72558\n",
      "       1.0|      2088|      3322\n"
     ]
    }
   ],
   "source": [
    "print_metrics(svc, X_valid_preprocessed, y_valid)"
   ]
  },
  {
   "cell_type": "markdown",
   "metadata": {},
   "source": [
    "#### Нейронная сеть"
   ]
  },
  {
   "cell_type": "code",
   "execution_count": 155,
   "metadata": {},
   "outputs": [],
   "source": [
    "mlp = MLPClassifier((32,), random_state=RANDOM_SEED)"
   ]
  },
  {
   "cell_type": "code",
   "execution_count": 156,
   "metadata": {},
   "outputs": [
    {
     "name": "stdout",
     "output_type": "stream",
     "text": [
      "CPU times: total: 7min 3s\n",
      "Wall time: 1min 46s\n"
     ]
    },
    {
     "data": {
      "text/html": [
       "<style>#sk-container-id-3 {color: black;background-color: white;}#sk-container-id-3 pre{padding: 0;}#sk-container-id-3 div.sk-toggleable {background-color: white;}#sk-container-id-3 label.sk-toggleable__label {cursor: pointer;display: block;width: 100%;margin-bottom: 0;padding: 0.3em;box-sizing: border-box;text-align: center;}#sk-container-id-3 label.sk-toggleable__label-arrow:before {content: \"▸\";float: left;margin-right: 0.25em;color: #696969;}#sk-container-id-3 label.sk-toggleable__label-arrow:hover:before {color: black;}#sk-container-id-3 div.sk-estimator:hover label.sk-toggleable__label-arrow:before {color: black;}#sk-container-id-3 div.sk-toggleable__content {max-height: 0;max-width: 0;overflow: hidden;text-align: left;background-color: #f0f8ff;}#sk-container-id-3 div.sk-toggleable__content pre {margin: 0.2em;color: black;border-radius: 0.25em;background-color: #f0f8ff;}#sk-container-id-3 input.sk-toggleable__control:checked~div.sk-toggleable__content {max-height: 200px;max-width: 100%;overflow: auto;}#sk-container-id-3 input.sk-toggleable__control:checked~label.sk-toggleable__label-arrow:before {content: \"▾\";}#sk-container-id-3 div.sk-estimator input.sk-toggleable__control:checked~label.sk-toggleable__label {background-color: #d4ebff;}#sk-container-id-3 div.sk-label input.sk-toggleable__control:checked~label.sk-toggleable__label {background-color: #d4ebff;}#sk-container-id-3 input.sk-hidden--visually {border: 0;clip: rect(1px 1px 1px 1px);clip: rect(1px, 1px, 1px, 1px);height: 1px;margin: -1px;overflow: hidden;padding: 0;position: absolute;width: 1px;}#sk-container-id-3 div.sk-estimator {font-family: monospace;background-color: #f0f8ff;border: 1px dotted black;border-radius: 0.25em;box-sizing: border-box;margin-bottom: 0.5em;}#sk-container-id-3 div.sk-estimator:hover {background-color: #d4ebff;}#sk-container-id-3 div.sk-parallel-item::after {content: \"\";width: 100%;border-bottom: 1px solid gray;flex-grow: 1;}#sk-container-id-3 div.sk-label:hover label.sk-toggleable__label {background-color: #d4ebff;}#sk-container-id-3 div.sk-serial::before {content: \"\";position: absolute;border-left: 1px solid gray;box-sizing: border-box;top: 0;bottom: 0;left: 50%;z-index: 0;}#sk-container-id-3 div.sk-serial {display: flex;flex-direction: column;align-items: center;background-color: white;padding-right: 0.2em;padding-left: 0.2em;position: relative;}#sk-container-id-3 div.sk-item {position: relative;z-index: 1;}#sk-container-id-3 div.sk-parallel {display: flex;align-items: stretch;justify-content: center;background-color: white;position: relative;}#sk-container-id-3 div.sk-item::before, #sk-container-id-3 div.sk-parallel-item::before {content: \"\";position: absolute;border-left: 1px solid gray;box-sizing: border-box;top: 0;bottom: 0;left: 50%;z-index: -1;}#sk-container-id-3 div.sk-parallel-item {display: flex;flex-direction: column;z-index: 1;position: relative;background-color: white;}#sk-container-id-3 div.sk-parallel-item:first-child::after {align-self: flex-end;width: 50%;}#sk-container-id-3 div.sk-parallel-item:last-child::after {align-self: flex-start;width: 50%;}#sk-container-id-3 div.sk-parallel-item:only-child::after {width: 0;}#sk-container-id-3 div.sk-dashed-wrapped {border: 1px dashed gray;margin: 0 0.4em 0.5em 0.4em;box-sizing: border-box;padding-bottom: 0.4em;background-color: white;}#sk-container-id-3 div.sk-label label {font-family: monospace;font-weight: bold;display: inline-block;line-height: 1.2em;}#sk-container-id-3 div.sk-label-container {text-align: center;}#sk-container-id-3 div.sk-container {/* jupyter's `normalize.less` sets `[hidden] { display: none; }` but bootstrap.min.css set `[hidden] { display: none !important; }` so we also need the `!important` here to be able to override the default hidden behavior on the sphinx rendered scikit-learn.org. See: https://github.com/scikit-learn/scikit-learn/issues/21755 */display: inline-block !important;position: relative;}#sk-container-id-3 div.sk-text-repr-fallback {display: none;}</style><div id=\"sk-container-id-3\" class=\"sk-top-container\"><div class=\"sk-text-repr-fallback\"><pre>MLPClassifier(hidden_layer_sizes=(32,), random_state=0)</pre><b>In a Jupyter environment, please rerun this cell to show the HTML representation or trust the notebook. <br />On GitHub, the HTML representation is unable to render, please try loading this page with nbviewer.org.</b></div><div class=\"sk-container\" hidden><div class=\"sk-item\"><div class=\"sk-estimator sk-toggleable\"><input class=\"sk-toggleable__control sk-hidden--visually\" id=\"sk-estimator-id-3\" type=\"checkbox\" checked><label for=\"sk-estimator-id-3\" class=\"sk-toggleable__label sk-toggleable__label-arrow\">MLPClassifier</label><div class=\"sk-toggleable__content\"><pre>MLPClassifier(hidden_layer_sizes=(32,), random_state=0)</pre></div></div></div></div></div>"
      ],
      "text/plain": [
       "MLPClassifier(hidden_layer_sizes=(32,), random_state=0)"
      ]
     },
     "execution_count": 156,
     "metadata": {},
     "output_type": "execute_result"
    }
   ],
   "source": [
    "%%time\n",
    "mlp.fit(X_train_preprocessed, y_train);"
   ]
  },
  {
   "cell_type": "code",
   "execution_count": 157,
   "metadata": {},
   "outputs": [
    {
     "name": "stdout",
     "output_type": "stream",
     "text": [
      "Порог перевода вероятностей в классы: 0.5\n",
      "0.6982130825521674 - roc_auc на вероятностях\n",
      "\n",
      "0.50000000 - roc_auc\n",
      "0.97295000 - accuracy\n"
     ]
    },
    {
     "name": "stderr",
     "output_type": "stream",
     "text": [
      "c:\\Users\\V.Nikitin\\Anaconda3\\lib\\site-packages\\sklearn\\metrics\\_classification.py:1344: UndefinedMetricWarning: Precision is ill-defined and being set to 0.0 due to no predicted samples. Use `zero_division` parameter to control this behavior.\n",
      "  _warn_prf(average, modifier, msg_start, len(result))\n"
     ]
    },
    {
     "name": "stdout",
     "output_type": "stream",
     "text": [
      "0.00000000 - precision\n",
      "0.00000000 - recall\n",
      "0.00000000 - f1\n",
      "\n",
      "prediction|   0.0    |   1.0    \n",
      "true label|          |          \n",
      "--------------------------------\n",
      "       0.0|    194590|         0\n",
      "       1.0|      5410|         0\n"
     ]
    }
   ],
   "source": [
    "print_metrics(mlp, X_valid_preprocessed, y_valid)"
   ]
  },
  {
   "cell_type": "markdown",
   "metadata": {},
   "source": [
    "#### Байесовский классификатор"
   ]
  },
  {
   "cell_type": "code",
   "execution_count": 158,
   "metadata": {},
   "outputs": [],
   "source": [
    "gaussnb = GaussianNB()"
   ]
  },
  {
   "cell_type": "code",
   "execution_count": 159,
   "metadata": {},
   "outputs": [
    {
     "name": "stdout",
     "output_type": "stream",
     "text": [
      "CPU times: total: 1.41 s\n",
      "Wall time: 1.4 s\n"
     ]
    },
    {
     "data": {
      "text/html": [
       "<style>#sk-container-id-4 {color: black;background-color: white;}#sk-container-id-4 pre{padding: 0;}#sk-container-id-4 div.sk-toggleable {background-color: white;}#sk-container-id-4 label.sk-toggleable__label {cursor: pointer;display: block;width: 100%;margin-bottom: 0;padding: 0.3em;box-sizing: border-box;text-align: center;}#sk-container-id-4 label.sk-toggleable__label-arrow:before {content: \"▸\";float: left;margin-right: 0.25em;color: #696969;}#sk-container-id-4 label.sk-toggleable__label-arrow:hover:before {color: black;}#sk-container-id-4 div.sk-estimator:hover label.sk-toggleable__label-arrow:before {color: black;}#sk-container-id-4 div.sk-toggleable__content {max-height: 0;max-width: 0;overflow: hidden;text-align: left;background-color: #f0f8ff;}#sk-container-id-4 div.sk-toggleable__content pre {margin: 0.2em;color: black;border-radius: 0.25em;background-color: #f0f8ff;}#sk-container-id-4 input.sk-toggleable__control:checked~div.sk-toggleable__content {max-height: 200px;max-width: 100%;overflow: auto;}#sk-container-id-4 input.sk-toggleable__control:checked~label.sk-toggleable__label-arrow:before {content: \"▾\";}#sk-container-id-4 div.sk-estimator input.sk-toggleable__control:checked~label.sk-toggleable__label {background-color: #d4ebff;}#sk-container-id-4 div.sk-label input.sk-toggleable__control:checked~label.sk-toggleable__label {background-color: #d4ebff;}#sk-container-id-4 input.sk-hidden--visually {border: 0;clip: rect(1px 1px 1px 1px);clip: rect(1px, 1px, 1px, 1px);height: 1px;margin: -1px;overflow: hidden;padding: 0;position: absolute;width: 1px;}#sk-container-id-4 div.sk-estimator {font-family: monospace;background-color: #f0f8ff;border: 1px dotted black;border-radius: 0.25em;box-sizing: border-box;margin-bottom: 0.5em;}#sk-container-id-4 div.sk-estimator:hover {background-color: #d4ebff;}#sk-container-id-4 div.sk-parallel-item::after {content: \"\";width: 100%;border-bottom: 1px solid gray;flex-grow: 1;}#sk-container-id-4 div.sk-label:hover label.sk-toggleable__label {background-color: #d4ebff;}#sk-container-id-4 div.sk-serial::before {content: \"\";position: absolute;border-left: 1px solid gray;box-sizing: border-box;top: 0;bottom: 0;left: 50%;z-index: 0;}#sk-container-id-4 div.sk-serial {display: flex;flex-direction: column;align-items: center;background-color: white;padding-right: 0.2em;padding-left: 0.2em;position: relative;}#sk-container-id-4 div.sk-item {position: relative;z-index: 1;}#sk-container-id-4 div.sk-parallel {display: flex;align-items: stretch;justify-content: center;background-color: white;position: relative;}#sk-container-id-4 div.sk-item::before, #sk-container-id-4 div.sk-parallel-item::before {content: \"\";position: absolute;border-left: 1px solid gray;box-sizing: border-box;top: 0;bottom: 0;left: 50%;z-index: -1;}#sk-container-id-4 div.sk-parallel-item {display: flex;flex-direction: column;z-index: 1;position: relative;background-color: white;}#sk-container-id-4 div.sk-parallel-item:first-child::after {align-self: flex-end;width: 50%;}#sk-container-id-4 div.sk-parallel-item:last-child::after {align-self: flex-start;width: 50%;}#sk-container-id-4 div.sk-parallel-item:only-child::after {width: 0;}#sk-container-id-4 div.sk-dashed-wrapped {border: 1px dashed gray;margin: 0 0.4em 0.5em 0.4em;box-sizing: border-box;padding-bottom: 0.4em;background-color: white;}#sk-container-id-4 div.sk-label label {font-family: monospace;font-weight: bold;display: inline-block;line-height: 1.2em;}#sk-container-id-4 div.sk-label-container {text-align: center;}#sk-container-id-4 div.sk-container {/* jupyter's `normalize.less` sets `[hidden] { display: none; }` but bootstrap.min.css set `[hidden] { display: none !important; }` so we also need the `!important` here to be able to override the default hidden behavior on the sphinx rendered scikit-learn.org. See: https://github.com/scikit-learn/scikit-learn/issues/21755 */display: inline-block !important;position: relative;}#sk-container-id-4 div.sk-text-repr-fallback {display: none;}</style><div id=\"sk-container-id-4\" class=\"sk-top-container\"><div class=\"sk-text-repr-fallback\"><pre>GaussianNB()</pre><b>In a Jupyter environment, please rerun this cell to show the HTML representation or trust the notebook. <br />On GitHub, the HTML representation is unable to render, please try loading this page with nbviewer.org.</b></div><div class=\"sk-container\" hidden><div class=\"sk-item\"><div class=\"sk-estimator sk-toggleable\"><input class=\"sk-toggleable__control sk-hidden--visually\" id=\"sk-estimator-id-4\" type=\"checkbox\" checked><label for=\"sk-estimator-id-4\" class=\"sk-toggleable__label sk-toggleable__label-arrow\">GaussianNB</label><div class=\"sk-toggleable__content\"><pre>GaussianNB()</pre></div></div></div></div></div>"
      ],
      "text/plain": [
       "GaussianNB()"
      ]
     },
     "execution_count": 159,
     "metadata": {},
     "output_type": "execute_result"
    }
   ],
   "source": [
    "%%time\n",
    "gaussnb.fit(X_train_preprocessed, y_train);"
   ]
  },
  {
   "cell_type": "code",
   "execution_count": 160,
   "metadata": {},
   "outputs": [
    {
     "name": "stdout",
     "output_type": "stream",
     "text": [
      "Порог перевода вероятностей в классы: 0.05419511287276451\n",
      "0.6458839700782317 - roc_auc на вероятностях\n",
      "\n",
      "0.60928251 - roc_auc\n",
      "0.56001500 - accuracy\n",
      "0.03986940 - precision\n",
      "0.66136784 - recall\n",
      "0.07520520 - f1\n",
      "\n",
      "prediction|   0.0    |   1.0    \n",
      "true label|          |          \n",
      "--------------------------------\n",
      "       0.0|    108425|     86165\n",
      "       1.0|      1832|      3578\n"
     ]
    }
   ],
   "source": [
    "print_metrics(gaussnb, X_valid_preprocessed, y_valid)"
   ]
  },
  {
   "cell_type": "markdown",
   "metadata": {},
   "source": [
    "#### Дерево решений"
   ]
  },
  {
   "cell_type": "code",
   "execution_count": 161,
   "metadata": {},
   "outputs": [],
   "source": [
    "tree = DecisionTreeClassifier(random_state=RANDOM_SEED)"
   ]
  },
  {
   "cell_type": "code",
   "execution_count": 162,
   "metadata": {},
   "outputs": [
    {
     "name": "stdout",
     "output_type": "stream",
     "text": [
      "CPU times: total: 29.6 s\n",
      "Wall time: 29.6 s\n"
     ]
    },
    {
     "data": {
      "text/html": [
       "<style>#sk-container-id-5 {color: black;background-color: white;}#sk-container-id-5 pre{padding: 0;}#sk-container-id-5 div.sk-toggleable {background-color: white;}#sk-container-id-5 label.sk-toggleable__label {cursor: pointer;display: block;width: 100%;margin-bottom: 0;padding: 0.3em;box-sizing: border-box;text-align: center;}#sk-container-id-5 label.sk-toggleable__label-arrow:before {content: \"▸\";float: left;margin-right: 0.25em;color: #696969;}#sk-container-id-5 label.sk-toggleable__label-arrow:hover:before {color: black;}#sk-container-id-5 div.sk-estimator:hover label.sk-toggleable__label-arrow:before {color: black;}#sk-container-id-5 div.sk-toggleable__content {max-height: 0;max-width: 0;overflow: hidden;text-align: left;background-color: #f0f8ff;}#sk-container-id-5 div.sk-toggleable__content pre {margin: 0.2em;color: black;border-radius: 0.25em;background-color: #f0f8ff;}#sk-container-id-5 input.sk-toggleable__control:checked~div.sk-toggleable__content {max-height: 200px;max-width: 100%;overflow: auto;}#sk-container-id-5 input.sk-toggleable__control:checked~label.sk-toggleable__label-arrow:before {content: \"▾\";}#sk-container-id-5 div.sk-estimator input.sk-toggleable__control:checked~label.sk-toggleable__label {background-color: #d4ebff;}#sk-container-id-5 div.sk-label input.sk-toggleable__control:checked~label.sk-toggleable__label {background-color: #d4ebff;}#sk-container-id-5 input.sk-hidden--visually {border: 0;clip: rect(1px 1px 1px 1px);clip: rect(1px, 1px, 1px, 1px);height: 1px;margin: -1px;overflow: hidden;padding: 0;position: absolute;width: 1px;}#sk-container-id-5 div.sk-estimator {font-family: monospace;background-color: #f0f8ff;border: 1px dotted black;border-radius: 0.25em;box-sizing: border-box;margin-bottom: 0.5em;}#sk-container-id-5 div.sk-estimator:hover {background-color: #d4ebff;}#sk-container-id-5 div.sk-parallel-item::after {content: \"\";width: 100%;border-bottom: 1px solid gray;flex-grow: 1;}#sk-container-id-5 div.sk-label:hover label.sk-toggleable__label {background-color: #d4ebff;}#sk-container-id-5 div.sk-serial::before {content: \"\";position: absolute;border-left: 1px solid gray;box-sizing: border-box;top: 0;bottom: 0;left: 50%;z-index: 0;}#sk-container-id-5 div.sk-serial {display: flex;flex-direction: column;align-items: center;background-color: white;padding-right: 0.2em;padding-left: 0.2em;position: relative;}#sk-container-id-5 div.sk-item {position: relative;z-index: 1;}#sk-container-id-5 div.sk-parallel {display: flex;align-items: stretch;justify-content: center;background-color: white;position: relative;}#sk-container-id-5 div.sk-item::before, #sk-container-id-5 div.sk-parallel-item::before {content: \"\";position: absolute;border-left: 1px solid gray;box-sizing: border-box;top: 0;bottom: 0;left: 50%;z-index: -1;}#sk-container-id-5 div.sk-parallel-item {display: flex;flex-direction: column;z-index: 1;position: relative;background-color: white;}#sk-container-id-5 div.sk-parallel-item:first-child::after {align-self: flex-end;width: 50%;}#sk-container-id-5 div.sk-parallel-item:last-child::after {align-self: flex-start;width: 50%;}#sk-container-id-5 div.sk-parallel-item:only-child::after {width: 0;}#sk-container-id-5 div.sk-dashed-wrapped {border: 1px dashed gray;margin: 0 0.4em 0.5em 0.4em;box-sizing: border-box;padding-bottom: 0.4em;background-color: white;}#sk-container-id-5 div.sk-label label {font-family: monospace;font-weight: bold;display: inline-block;line-height: 1.2em;}#sk-container-id-5 div.sk-label-container {text-align: center;}#sk-container-id-5 div.sk-container {/* jupyter's `normalize.less` sets `[hidden] { display: none; }` but bootstrap.min.css set `[hidden] { display: none !important; }` so we also need the `!important` here to be able to override the default hidden behavior on the sphinx rendered scikit-learn.org. See: https://github.com/scikit-learn/scikit-learn/issues/21755 */display: inline-block !important;position: relative;}#sk-container-id-5 div.sk-text-repr-fallback {display: none;}</style><div id=\"sk-container-id-5\" class=\"sk-top-container\"><div class=\"sk-text-repr-fallback\"><pre>DecisionTreeClassifier(random_state=0)</pre><b>In a Jupyter environment, please rerun this cell to show the HTML representation or trust the notebook. <br />On GitHub, the HTML representation is unable to render, please try loading this page with nbviewer.org.</b></div><div class=\"sk-container\" hidden><div class=\"sk-item\"><div class=\"sk-estimator sk-toggleable\"><input class=\"sk-toggleable__control sk-hidden--visually\" id=\"sk-estimator-id-5\" type=\"checkbox\" checked><label for=\"sk-estimator-id-5\" class=\"sk-toggleable__label sk-toggleable__label-arrow\">DecisionTreeClassifier</label><div class=\"sk-toggleable__content\"><pre>DecisionTreeClassifier(random_state=0)</pre></div></div></div></div></div>"
      ],
      "text/plain": [
       "DecisionTreeClassifier(random_state=0)"
      ]
     },
     "execution_count": 162,
     "metadata": {},
     "output_type": "execute_result"
    }
   ],
   "source": [
    "%%time\n",
    "tree.fit(X_train_preprocessed, y_train);"
   ]
  },
  {
   "cell_type": "code",
   "execution_count": 163,
   "metadata": {},
   "outputs": [
    {
     "name": "stdout",
     "output_type": "stream",
     "text": [
      "Порог перевода вероятностей в классы: 0.033708156968674276\n",
      "0.5204877305418407 - roc_auc на вероятностях\n",
      "\n",
      "0.52080171 - roc_auc\n",
      "0.93335000 - accuracy\n",
      "0.05183341 - precision\n",
      "0.08465804 - recall\n",
      "0.06429875 - f1\n",
      "\n",
      "prediction|   0.0    |   1.0    \n",
      "true label|          |          \n",
      "--------------------------------\n",
      "       0.0|    186212|      8378\n",
      "       1.0|      4952|       458\n"
     ]
    }
   ],
   "source": [
    "print_metrics(tree, X_valid_preprocessed, y_valid)"
   ]
  },
  {
   "cell_type": "markdown",
   "metadata": {},
   "source": [
    "#### Случайный лес"
   ]
  },
  {
   "cell_type": "code",
   "execution_count": 164,
   "metadata": {},
   "outputs": [],
   "source": [
    "forest = RandomForestClassifier(random_state=RANDOM_SEED)"
   ]
  },
  {
   "cell_type": "code",
   "execution_count": 165,
   "metadata": {},
   "outputs": [
    {
     "name": "stdout",
     "output_type": "stream",
     "text": [
      "CPU times: total: 8min 21s\n",
      "Wall time: 8min 23s\n"
     ]
    },
    {
     "data": {
      "text/html": [
       "<style>#sk-container-id-6 {color: black;background-color: white;}#sk-container-id-6 pre{padding: 0;}#sk-container-id-6 div.sk-toggleable {background-color: white;}#sk-container-id-6 label.sk-toggleable__label {cursor: pointer;display: block;width: 100%;margin-bottom: 0;padding: 0.3em;box-sizing: border-box;text-align: center;}#sk-container-id-6 label.sk-toggleable__label-arrow:before {content: \"▸\";float: left;margin-right: 0.25em;color: #696969;}#sk-container-id-6 label.sk-toggleable__label-arrow:hover:before {color: black;}#sk-container-id-6 div.sk-estimator:hover label.sk-toggleable__label-arrow:before {color: black;}#sk-container-id-6 div.sk-toggleable__content {max-height: 0;max-width: 0;overflow: hidden;text-align: left;background-color: #f0f8ff;}#sk-container-id-6 div.sk-toggleable__content pre {margin: 0.2em;color: black;border-radius: 0.25em;background-color: #f0f8ff;}#sk-container-id-6 input.sk-toggleable__control:checked~div.sk-toggleable__content {max-height: 200px;max-width: 100%;overflow: auto;}#sk-container-id-6 input.sk-toggleable__control:checked~label.sk-toggleable__label-arrow:before {content: \"▾\";}#sk-container-id-6 div.sk-estimator input.sk-toggleable__control:checked~label.sk-toggleable__label {background-color: #d4ebff;}#sk-container-id-6 div.sk-label input.sk-toggleable__control:checked~label.sk-toggleable__label {background-color: #d4ebff;}#sk-container-id-6 input.sk-hidden--visually {border: 0;clip: rect(1px 1px 1px 1px);clip: rect(1px, 1px, 1px, 1px);height: 1px;margin: -1px;overflow: hidden;padding: 0;position: absolute;width: 1px;}#sk-container-id-6 div.sk-estimator {font-family: monospace;background-color: #f0f8ff;border: 1px dotted black;border-radius: 0.25em;box-sizing: border-box;margin-bottom: 0.5em;}#sk-container-id-6 div.sk-estimator:hover {background-color: #d4ebff;}#sk-container-id-6 div.sk-parallel-item::after {content: \"\";width: 100%;border-bottom: 1px solid gray;flex-grow: 1;}#sk-container-id-6 div.sk-label:hover label.sk-toggleable__label {background-color: #d4ebff;}#sk-container-id-6 div.sk-serial::before {content: \"\";position: absolute;border-left: 1px solid gray;box-sizing: border-box;top: 0;bottom: 0;left: 50%;z-index: 0;}#sk-container-id-6 div.sk-serial {display: flex;flex-direction: column;align-items: center;background-color: white;padding-right: 0.2em;padding-left: 0.2em;position: relative;}#sk-container-id-6 div.sk-item {position: relative;z-index: 1;}#sk-container-id-6 div.sk-parallel {display: flex;align-items: stretch;justify-content: center;background-color: white;position: relative;}#sk-container-id-6 div.sk-item::before, #sk-container-id-6 div.sk-parallel-item::before {content: \"\";position: absolute;border-left: 1px solid gray;box-sizing: border-box;top: 0;bottom: 0;left: 50%;z-index: -1;}#sk-container-id-6 div.sk-parallel-item {display: flex;flex-direction: column;z-index: 1;position: relative;background-color: white;}#sk-container-id-6 div.sk-parallel-item:first-child::after {align-self: flex-end;width: 50%;}#sk-container-id-6 div.sk-parallel-item:last-child::after {align-self: flex-start;width: 50%;}#sk-container-id-6 div.sk-parallel-item:only-child::after {width: 0;}#sk-container-id-6 div.sk-dashed-wrapped {border: 1px dashed gray;margin: 0 0.4em 0.5em 0.4em;box-sizing: border-box;padding-bottom: 0.4em;background-color: white;}#sk-container-id-6 div.sk-label label {font-family: monospace;font-weight: bold;display: inline-block;line-height: 1.2em;}#sk-container-id-6 div.sk-label-container {text-align: center;}#sk-container-id-6 div.sk-container {/* jupyter's `normalize.less` sets `[hidden] { display: none; }` but bootstrap.min.css set `[hidden] { display: none !important; }` so we also need the `!important` here to be able to override the default hidden behavior on the sphinx rendered scikit-learn.org. See: https://github.com/scikit-learn/scikit-learn/issues/21755 */display: inline-block !important;position: relative;}#sk-container-id-6 div.sk-text-repr-fallback {display: none;}</style><div id=\"sk-container-id-6\" class=\"sk-top-container\"><div class=\"sk-text-repr-fallback\"><pre>RandomForestClassifier(random_state=0)</pre><b>In a Jupyter environment, please rerun this cell to show the HTML representation or trust the notebook. <br />On GitHub, the HTML representation is unable to render, please try loading this page with nbviewer.org.</b></div><div class=\"sk-container\" hidden><div class=\"sk-item\"><div class=\"sk-estimator sk-toggleable\"><input class=\"sk-toggleable__control sk-hidden--visually\" id=\"sk-estimator-id-6\" type=\"checkbox\" checked><label for=\"sk-estimator-id-6\" class=\"sk-toggleable__label sk-toggleable__label-arrow\">RandomForestClassifier</label><div class=\"sk-toggleable__content\"><pre>RandomForestClassifier(random_state=0)</pre></div></div></div></div></div>"
      ],
      "text/plain": [
       "RandomForestClassifier(random_state=0)"
      ]
     },
     "execution_count": 165,
     "metadata": {},
     "output_type": "execute_result"
    }
   ],
   "source": [
    "%%time\n",
    "forest.fit(X_train_preprocessed, y_train);"
   ]
  },
  {
   "cell_type": "code",
   "execution_count": 166,
   "metadata": {},
   "outputs": [
    {
     "name": "stdout",
     "output_type": "stream",
     "text": [
      "Порог перевода вероятностей в классы: 0.010218123817113232\n",
      "0.6253519433580381 - roc_auc на вероятностях\n",
      "\n",
      "0.59594638 - roc_auc\n",
      "0.59998000 - accuracy\n",
      "0.03952047 - precision\n",
      "0.59168207 - recall\n",
      "0.07409208 - f1\n",
      "\n",
      "prediction|   0.0    |   1.0    \n",
      "true label|          |          \n",
      "--------------------------------\n",
      "       0.0|    116795|     77795\n",
      "       1.0|      2209|      3201\n"
     ]
    }
   ],
   "source": [
    "print_metrics(forest, X_valid_preprocessed, y_valid)"
   ]
  },
  {
   "cell_type": "markdown",
   "metadata": {},
   "source": [
    "#### Градиентный Бустинг"
   ]
  },
  {
   "cell_type": "code",
   "execution_count": 167,
   "metadata": {},
   "outputs": [],
   "source": [
    "histboost = HistGradientBoostingClassifier(random_state=RANDOM_SEED)"
   ]
  },
  {
   "cell_type": "code",
   "execution_count": 168,
   "metadata": {},
   "outputs": [
    {
     "name": "stdout",
     "output_type": "stream",
     "text": [
      "CPU times: total: 3min 28s\n",
      "Wall time: 32.8 s\n"
     ]
    },
    {
     "data": {
      "text/html": [
       "<style>#sk-container-id-7 {color: black;background-color: white;}#sk-container-id-7 pre{padding: 0;}#sk-container-id-7 div.sk-toggleable {background-color: white;}#sk-container-id-7 label.sk-toggleable__label {cursor: pointer;display: block;width: 100%;margin-bottom: 0;padding: 0.3em;box-sizing: border-box;text-align: center;}#sk-container-id-7 label.sk-toggleable__label-arrow:before {content: \"▸\";float: left;margin-right: 0.25em;color: #696969;}#sk-container-id-7 label.sk-toggleable__label-arrow:hover:before {color: black;}#sk-container-id-7 div.sk-estimator:hover label.sk-toggleable__label-arrow:before {color: black;}#sk-container-id-7 div.sk-toggleable__content {max-height: 0;max-width: 0;overflow: hidden;text-align: left;background-color: #f0f8ff;}#sk-container-id-7 div.sk-toggleable__content pre {margin: 0.2em;color: black;border-radius: 0.25em;background-color: #f0f8ff;}#sk-container-id-7 input.sk-toggleable__control:checked~div.sk-toggleable__content {max-height: 200px;max-width: 100%;overflow: auto;}#sk-container-id-7 input.sk-toggleable__control:checked~label.sk-toggleable__label-arrow:before {content: \"▾\";}#sk-container-id-7 div.sk-estimator input.sk-toggleable__control:checked~label.sk-toggleable__label {background-color: #d4ebff;}#sk-container-id-7 div.sk-label input.sk-toggleable__control:checked~label.sk-toggleable__label {background-color: #d4ebff;}#sk-container-id-7 input.sk-hidden--visually {border: 0;clip: rect(1px 1px 1px 1px);clip: rect(1px, 1px, 1px, 1px);height: 1px;margin: -1px;overflow: hidden;padding: 0;position: absolute;width: 1px;}#sk-container-id-7 div.sk-estimator {font-family: monospace;background-color: #f0f8ff;border: 1px dotted black;border-radius: 0.25em;box-sizing: border-box;margin-bottom: 0.5em;}#sk-container-id-7 div.sk-estimator:hover {background-color: #d4ebff;}#sk-container-id-7 div.sk-parallel-item::after {content: \"\";width: 100%;border-bottom: 1px solid gray;flex-grow: 1;}#sk-container-id-7 div.sk-label:hover label.sk-toggleable__label {background-color: #d4ebff;}#sk-container-id-7 div.sk-serial::before {content: \"\";position: absolute;border-left: 1px solid gray;box-sizing: border-box;top: 0;bottom: 0;left: 50%;z-index: 0;}#sk-container-id-7 div.sk-serial {display: flex;flex-direction: column;align-items: center;background-color: white;padding-right: 0.2em;padding-left: 0.2em;position: relative;}#sk-container-id-7 div.sk-item {position: relative;z-index: 1;}#sk-container-id-7 div.sk-parallel {display: flex;align-items: stretch;justify-content: center;background-color: white;position: relative;}#sk-container-id-7 div.sk-item::before, #sk-container-id-7 div.sk-parallel-item::before {content: \"\";position: absolute;border-left: 1px solid gray;box-sizing: border-box;top: 0;bottom: 0;left: 50%;z-index: -1;}#sk-container-id-7 div.sk-parallel-item {display: flex;flex-direction: column;z-index: 1;position: relative;background-color: white;}#sk-container-id-7 div.sk-parallel-item:first-child::after {align-self: flex-end;width: 50%;}#sk-container-id-7 div.sk-parallel-item:last-child::after {align-self: flex-start;width: 50%;}#sk-container-id-7 div.sk-parallel-item:only-child::after {width: 0;}#sk-container-id-7 div.sk-dashed-wrapped {border: 1px dashed gray;margin: 0 0.4em 0.5em 0.4em;box-sizing: border-box;padding-bottom: 0.4em;background-color: white;}#sk-container-id-7 div.sk-label label {font-family: monospace;font-weight: bold;display: inline-block;line-height: 1.2em;}#sk-container-id-7 div.sk-label-container {text-align: center;}#sk-container-id-7 div.sk-container {/* jupyter's `normalize.less` sets `[hidden] { display: none; }` but bootstrap.min.css set `[hidden] { display: none !important; }` so we also need the `!important` here to be able to override the default hidden behavior on the sphinx rendered scikit-learn.org. See: https://github.com/scikit-learn/scikit-learn/issues/21755 */display: inline-block !important;position: relative;}#sk-container-id-7 div.sk-text-repr-fallback {display: none;}</style><div id=\"sk-container-id-7\" class=\"sk-top-container\"><div class=\"sk-text-repr-fallback\"><pre>HistGradientBoostingClassifier(random_state=0)</pre><b>In a Jupyter environment, please rerun this cell to show the HTML representation or trust the notebook. <br />On GitHub, the HTML representation is unable to render, please try loading this page with nbviewer.org.</b></div><div class=\"sk-container\" hidden><div class=\"sk-item\"><div class=\"sk-estimator sk-toggleable\"><input class=\"sk-toggleable__control sk-hidden--visually\" id=\"sk-estimator-id-7\" type=\"checkbox\" checked><label for=\"sk-estimator-id-7\" class=\"sk-toggleable__label sk-toggleable__label-arrow\">HistGradientBoostingClassifier</label><div class=\"sk-toggleable__content\"><pre>HistGradientBoostingClassifier(random_state=0)</pre></div></div></div></div></div>"
      ],
      "text/plain": [
       "HistGradientBoostingClassifier(random_state=0)"
      ]
     },
     "execution_count": 168,
     "metadata": {},
     "output_type": "execute_result"
    }
   ],
   "source": [
    "%%time\n",
    "histboost.fit(X_train_preprocessed, y_train);"
   ]
  },
  {
   "cell_type": "code",
   "execution_count": 169,
   "metadata": {},
   "outputs": [
    {
     "name": "stdout",
     "output_type": "stream",
     "text": [
      "Порог перевода вероятностей в классы: 0.02822602984682529\n",
      "0.70696812360298 - roc_auc на вероятностях\n",
      "\n",
      "0.64682393 - roc_auc\n",
      "0.62957000 - accuracy\n",
      "0.04742197 - precision\n",
      "0.66506470 - recall\n",
      "0.08853129 - f1\n",
      "\n",
      "prediction|   0.0    |   1.0    \n",
      "true label|          |          \n",
      "--------------------------------\n",
      "       0.0|    122316|     72274\n",
      "       1.0|      1812|      3598\n"
     ]
    }
   ],
   "source": [
    "print_metrics(histboost, X_valid_preprocessed, y_valid)"
   ]
  },
  {
   "cell_type": "markdown",
   "metadata": {},
   "source": [
    "#### XGBoost"
   ]
  },
  {
   "cell_type": "code",
   "execution_count": 170,
   "metadata": {},
   "outputs": [],
   "source": [
    "xgboost = XGBClassifier()"
   ]
  },
  {
   "cell_type": "code",
   "execution_count": 171,
   "metadata": {},
   "outputs": [
    {
     "name": "stdout",
     "output_type": "stream",
     "text": [
      "CPU times: total: 22min 44s\n",
      "Wall time: 3min 10s\n"
     ]
    },
    {
     "data": {
      "text/html": [
       "<style>#sk-container-id-8 {color: black;background-color: white;}#sk-container-id-8 pre{padding: 0;}#sk-container-id-8 div.sk-toggleable {background-color: white;}#sk-container-id-8 label.sk-toggleable__label {cursor: pointer;display: block;width: 100%;margin-bottom: 0;padding: 0.3em;box-sizing: border-box;text-align: center;}#sk-container-id-8 label.sk-toggleable__label-arrow:before {content: \"▸\";float: left;margin-right: 0.25em;color: #696969;}#sk-container-id-8 label.sk-toggleable__label-arrow:hover:before {color: black;}#sk-container-id-8 div.sk-estimator:hover label.sk-toggleable__label-arrow:before {color: black;}#sk-container-id-8 div.sk-toggleable__content {max-height: 0;max-width: 0;overflow: hidden;text-align: left;background-color: #f0f8ff;}#sk-container-id-8 div.sk-toggleable__content pre {margin: 0.2em;color: black;border-radius: 0.25em;background-color: #f0f8ff;}#sk-container-id-8 input.sk-toggleable__control:checked~div.sk-toggleable__content {max-height: 200px;max-width: 100%;overflow: auto;}#sk-container-id-8 input.sk-toggleable__control:checked~label.sk-toggleable__label-arrow:before {content: \"▾\";}#sk-container-id-8 div.sk-estimator input.sk-toggleable__control:checked~label.sk-toggleable__label {background-color: #d4ebff;}#sk-container-id-8 div.sk-label input.sk-toggleable__control:checked~label.sk-toggleable__label {background-color: #d4ebff;}#sk-container-id-8 input.sk-hidden--visually {border: 0;clip: rect(1px 1px 1px 1px);clip: rect(1px, 1px, 1px, 1px);height: 1px;margin: -1px;overflow: hidden;padding: 0;position: absolute;width: 1px;}#sk-container-id-8 div.sk-estimator {font-family: monospace;background-color: #f0f8ff;border: 1px dotted black;border-radius: 0.25em;box-sizing: border-box;margin-bottom: 0.5em;}#sk-container-id-8 div.sk-estimator:hover {background-color: #d4ebff;}#sk-container-id-8 div.sk-parallel-item::after {content: \"\";width: 100%;border-bottom: 1px solid gray;flex-grow: 1;}#sk-container-id-8 div.sk-label:hover label.sk-toggleable__label {background-color: #d4ebff;}#sk-container-id-8 div.sk-serial::before {content: \"\";position: absolute;border-left: 1px solid gray;box-sizing: border-box;top: 0;bottom: 0;left: 50%;z-index: 0;}#sk-container-id-8 div.sk-serial {display: flex;flex-direction: column;align-items: center;background-color: white;padding-right: 0.2em;padding-left: 0.2em;position: relative;}#sk-container-id-8 div.sk-item {position: relative;z-index: 1;}#sk-container-id-8 div.sk-parallel {display: flex;align-items: stretch;justify-content: center;background-color: white;position: relative;}#sk-container-id-8 div.sk-item::before, #sk-container-id-8 div.sk-parallel-item::before {content: \"\";position: absolute;border-left: 1px solid gray;box-sizing: border-box;top: 0;bottom: 0;left: 50%;z-index: -1;}#sk-container-id-8 div.sk-parallel-item {display: flex;flex-direction: column;z-index: 1;position: relative;background-color: white;}#sk-container-id-8 div.sk-parallel-item:first-child::after {align-self: flex-end;width: 50%;}#sk-container-id-8 div.sk-parallel-item:last-child::after {align-self: flex-start;width: 50%;}#sk-container-id-8 div.sk-parallel-item:only-child::after {width: 0;}#sk-container-id-8 div.sk-dashed-wrapped {border: 1px dashed gray;margin: 0 0.4em 0.5em 0.4em;box-sizing: border-box;padding-bottom: 0.4em;background-color: white;}#sk-container-id-8 div.sk-label label {font-family: monospace;font-weight: bold;display: inline-block;line-height: 1.2em;}#sk-container-id-8 div.sk-label-container {text-align: center;}#sk-container-id-8 div.sk-container {/* jupyter's `normalize.less` sets `[hidden] { display: none; }` but bootstrap.min.css set `[hidden] { display: none !important; }` so we also need the `!important` here to be able to override the default hidden behavior on the sphinx rendered scikit-learn.org. See: https://github.com/scikit-learn/scikit-learn/issues/21755 */display: inline-block !important;position: relative;}#sk-container-id-8 div.sk-text-repr-fallback {display: none;}</style><div id=\"sk-container-id-8\" class=\"sk-top-container\"><div class=\"sk-text-repr-fallback\"><pre>XGBClassifier(base_score=None, booster=None, callbacks=None,\n",
       "              colsample_bylevel=None, colsample_bynode=None,\n",
       "              colsample_bytree=None, early_stopping_rounds=None,\n",
       "              enable_categorical=False, eval_metric=None, feature_types=None,\n",
       "              gamma=None, gpu_id=None, grow_policy=None, importance_type=None,\n",
       "              interaction_constraints=None, learning_rate=None, max_bin=None,\n",
       "              max_cat_threshold=None, max_cat_to_onehot=None,\n",
       "              max_delta_step=None, max_depth=None, max_leaves=None,\n",
       "              min_child_weight=None, missing=nan, monotone_constraints=None,\n",
       "              n_estimators=100, n_jobs=None, num_parallel_tree=None,\n",
       "              predictor=None, random_state=None, ...)</pre><b>In a Jupyter environment, please rerun this cell to show the HTML representation or trust the notebook. <br />On GitHub, the HTML representation is unable to render, please try loading this page with nbviewer.org.</b></div><div class=\"sk-container\" hidden><div class=\"sk-item\"><div class=\"sk-estimator sk-toggleable\"><input class=\"sk-toggleable__control sk-hidden--visually\" id=\"sk-estimator-id-8\" type=\"checkbox\" checked><label for=\"sk-estimator-id-8\" class=\"sk-toggleable__label sk-toggleable__label-arrow\">XGBClassifier</label><div class=\"sk-toggleable__content\"><pre>XGBClassifier(base_score=None, booster=None, callbacks=None,\n",
       "              colsample_bylevel=None, colsample_bynode=None,\n",
       "              colsample_bytree=None, early_stopping_rounds=None,\n",
       "              enable_categorical=False, eval_metric=None, feature_types=None,\n",
       "              gamma=None, gpu_id=None, grow_policy=None, importance_type=None,\n",
       "              interaction_constraints=None, learning_rate=None, max_bin=None,\n",
       "              max_cat_threshold=None, max_cat_to_onehot=None,\n",
       "              max_delta_step=None, max_depth=None, max_leaves=None,\n",
       "              min_child_weight=None, missing=nan, monotone_constraints=None,\n",
       "              n_estimators=100, n_jobs=None, num_parallel_tree=None,\n",
       "              predictor=None, random_state=None, ...)</pre></div></div></div></div></div>"
      ],
      "text/plain": [
       "XGBClassifier(base_score=None, booster=None, callbacks=None,\n",
       "              colsample_bylevel=None, colsample_bynode=None,\n",
       "              colsample_bytree=None, early_stopping_rounds=None,\n",
       "              enable_categorical=False, eval_metric=None, feature_types=None,\n",
       "              gamma=None, gpu_id=None, grow_policy=None, importance_type=None,\n",
       "              interaction_constraints=None, learning_rate=None, max_bin=None,\n",
       "              max_cat_threshold=None, max_cat_to_onehot=None,\n",
       "              max_delta_step=None, max_depth=None, max_leaves=None,\n",
       "              min_child_weight=None, missing=nan, monotone_constraints=None,\n",
       "              n_estimators=100, n_jobs=None, num_parallel_tree=None,\n",
       "              predictor=None, random_state=None, ...)"
      ]
     },
     "execution_count": 171,
     "metadata": {},
     "output_type": "execute_result"
    }
   ],
   "source": [
    "%%time\n",
    "xgboost.fit(X_train_preprocessed.values, y_train.values);"
   ]
  },
  {
   "cell_type": "code",
   "execution_count": 172,
   "metadata": {},
   "outputs": [
    {
     "name": "stdout",
     "output_type": "stream",
     "text": [
      "Порог перевода вероятностей в классы: 0.02784477629170188\n",
      "0.7107721766577036 - roc_auc на вероятностях\n",
      "\n",
      "0.65178082 - roc_auc\n",
      "0.63432000 - accuracy\n",
      "0.04836085 - precision\n",
      "0.67024030 - recall\n",
      "0.09021247 - f1\n",
      "\n",
      "prediction|   0.0    |   1.0    \n",
      "true label|          |          \n",
      "--------------------------------\n",
      "       0.0|    123238|     71352\n",
      "       1.0|      1784|      3626\n"
     ]
    }
   ],
   "source": [
    "print_metrics(xgboost, X_valid_preprocessed.values, y_valid.values)"
   ]
  },
  {
   "cell_type": "markdown",
   "metadata": {},
   "source": [
    "Даная модель продемонстировала наилучшие параметры в соответствии с условиями поставленной задачи. Представляется рациональным перейти к оценке данной модели."
   ]
  },
  {
   "cell_type": "markdown",
   "metadata": {},
   "source": [
    "## Оценка модели"
   ]
  },
  {
   "cell_type": "markdown",
   "metadata": {},
   "source": [
    "Создаем новый конвейер с учетом выбранной модели."
   ]
  },
  {
   "cell_type": "code",
   "execution_count": 173,
   "metadata": {},
   "outputs": [],
   "source": [
    "final_pipeline = Pipeline(steps=[\n",
    "\n",
    "    # Создание дополнительных признаков и\n",
    "    # Приведение датафрейма к удобному виду \n",
    "    ('indexer', FunctionTransformer(set_index)), \n",
    "    ('imputer', FunctionTransformer(fill_missings)), \n",
    "    ('engineer', FunctionTransformer(create_features)), \n",
    "    ('dropper', DropFeatures(['client_id', 'visit_date', 'visit_time', \n",
    "                              'device_screen_resolution'])), \n",
    "\n",
    "    # Преобразования численных переменных\n",
    "    ('normalization', YeoJohnsonTransformer()), \n",
    "    ('outlier_remover', Winsorizer()), \n",
    "    ('scaler', SklearnTransformerWrapper(StandardScaler())), \n",
    "\n",
    "    # Преобразования категориальных признаков\n",
    "    ('rare_encoder', RareLabelEncoder(tol=0.047319, replace_with='rare')),\n",
    "    ('onehot_encoder', OneHotEncoder(drop_last_binary=True)), \n",
    "    ('bool_converter', FunctionTransformer(converse_types)), \n",
    "\n",
    "    # Удаление дубликатов и коррелируемых признаков\n",
    "    ('constant_dropper', DropConstantFeatures(tol=0.95579)), \n",
    "    ('duplicated_dropper', DropDuplicateFeatures()), \n",
    "    ('correlated_dropper', DropCorrelatedFeatures(threshold=0.8856)), \n",
    "\n",
    "    # Лучшая модель с оптимизированными гиперпараметрами\n",
    "    ('model', xgboost), \n",
    "    \n",
    "])"
   ]
  },
  {
   "cell_type": "markdown",
   "metadata": {},
   "source": []
  },
  {
   "cell_type": "code",
   "execution_count": 174,
   "metadata": {},
   "outputs": [
    {
     "name": "stderr",
     "output_type": "stream",
     "text": [
      "c:\\Users\\V.Nikitin\\Anaconda3\\lib\\site-packages\\scipy\\stats\\morestats.py:1557: RuntimeWarning: divide by zero encountered in log\n",
      "  loglike = -n_samples / 2 * np.log(trans.var(axis=0))\n",
      "c:\\Users\\V.Nikitin\\Anaconda3\\lib\\site-packages\\scipy\\optimize\\optimize.py:2216: RuntimeWarning: invalid value encountered in double_scalars\n",
      "  p = (x - v) * tmp2 - (x - w) * tmp1\n",
      "c:\\Users\\V.Nikitin\\Anaconda3\\lib\\site-packages\\scipy\\optimize\\optimize.py:2217: RuntimeWarning: invalid value encountered in double_scalars\n",
      "  tmp2 = 2.0 * (tmp2 - tmp1)\n",
      "c:\\Users\\V.Nikitin\\Anaconda3\\lib\\site-packages\\feature_engine\\encoding\\rare_label.py:216: UserWarning: The number of unique categories for variable device_category is less than that indicated in n_categories. Thus, all categories will be considered frequent\n",
      "  warnings.warn(\n",
      "c:\\Users\\V.Nikitin\\Anaconda3\\lib\\site-packages\\feature_engine\\encoding\\rare_label.py:216: UserWarning: The number of unique categories for variable geo_city_added_distance_from_moscow_category is less than that indicated in n_categories. Thus, all categories will be considered frequent\n",
      "  warnings.warn(\n"
     ]
    }
   ],
   "source": [
    "final_pipeline.fit(X, y);"
   ]
  },
  {
   "cell_type": "code",
   "execution_count": 175,
   "metadata": {},
   "outputs": [
    {
     "name": "stdout",
     "output_type": "stream",
     "text": [
      "Лучший порог перевода вероятностей в класс: 0.02756581733121548\n"
     ]
    }
   ],
   "source": [
    "test_proba = final_pipeline.predict_proba(X_test)[:, 1]\n",
    "best_threshold = find_best_threshold(y_test, test_proba)\n",
    "test_prediction = (test_proba > best_threshold).astype(int)\n",
    "\n",
    "print(f'Лучший порог перевода вероятностей в класс: {best_threshold}')"
   ]
  },
  {
   "cell_type": "code",
   "execution_count": 176,
   "metadata": {},
   "outputs": [
    {
     "name": "stdout",
     "output_type": "stream",
     "text": [
      "Метрики лучшей модели на обучающей выборке:\n",
      "Порог перевода вероятностей в классы: 0.02756581733121548\n",
      "0.7455873208807363 - roc_auc на вероятностях\n",
      "\n",
      "0.67437459 - roc_auc\n",
      "0.63281592 - accuracy\n",
      "0.05126783 - precision\n",
      "0.71831017 - recall\n",
      "0.09570492 - f1\n",
      "\n",
      "prediction|   0.0    |   1.0    \n",
      "true label|          |          \n",
      "--------------------------------\n",
      "       0.0|   1018246|    596892\n",
      "       1.0|     12649|     32255\n"
     ]
    }
   ],
   "source": [
    "print(f'Метрики лучшей модели на обучающей выборке:')\n",
    "print_metrics(final_pipeline, X, y, best_threshold)"
   ]
  },
  {
   "cell_type": "code",
   "execution_count": 177,
   "metadata": {},
   "outputs": [
    {
     "name": "stdout",
     "output_type": "stream",
     "text": [
      "Метрики лучшей модели на тестовой выборке:\n",
      "Порог перевода вероятностей в классы: 0.02756581733121548\n",
      "0.7136699548099568 - roc_auc на вероятностях\n",
      "\n",
      "0.65183750 - roc_auc\n",
      "0.62918500 - accuracy\n",
      "0.04806416 - precision\n",
      "0.67578558 - recall\n",
      "0.08974532 - f1\n",
      "\n",
      "prediction|   0.0    |   1.0    \n",
      "true label|          |          \n",
      "--------------------------------\n",
      "       0.0|    122181|     72409\n",
      "       1.0|      1754|      3656\n"
     ]
    }
   ],
   "source": [
    "print(f'Метрики лучшей модели на тестовой выборке:')\n",
    "print_metrics(\n",
    "    final_pipeline, X_test, y_test, best_threshold)"
   ]
  },
  {
   "cell_type": "markdown",
   "metadata": {},
   "source": [
    "Целевая метрика `roc-auc=0.6518` (для пресказанных классов) выбранной модели больше 0.65, что соответствует поставленной цели."
   ]
  },
  {
   "cell_type": "markdown",
   "metadata": {},
   "source": [
    "### Обучение на всех данных\n",
    "\n",
    "Для анализа обработки данных и важности признаков разобъём финальный конвейер на препроцессор и модель и обучим их на всех данных. А перед сохранением модели объединим обратно."
   ]
  },
  {
   "cell_type": "code",
   "execution_count": 178,
   "metadata": {},
   "outputs": [],
   "source": [
    "final_model = final_pipeline.named_steps['model']\n",
    "final_preprocessor = final_pipeline.set_params(model=None)"
   ]
  },
  {
   "cell_type": "code",
   "execution_count": 179,
   "metadata": {},
   "outputs": [
    {
     "name": "stderr",
     "output_type": "stream",
     "text": [
      "c:\\Users\\V.Nikitin\\Anaconda3\\lib\\site-packages\\scipy\\stats\\morestats.py:1557: RuntimeWarning: divide by zero encountered in log\n",
      "  loglike = -n_samples / 2 * np.log(trans.var(axis=0))\n",
      "c:\\Users\\V.Nikitin\\Anaconda3\\lib\\site-packages\\scipy\\optimize\\optimize.py:2216: RuntimeWarning: invalid value encountered in double_scalars\n",
      "  p = (x - v) * tmp2 - (x - w) * tmp1\n",
      "c:\\Users\\V.Nikitin\\Anaconda3\\lib\\site-packages\\scipy\\optimize\\optimize.py:2217: RuntimeWarning: invalid value encountered in double_scalars\n",
      "  tmp2 = 2.0 * (tmp2 - tmp1)\n",
      "c:\\Users\\V.Nikitin\\Anaconda3\\lib\\site-packages\\feature_engine\\encoding\\rare_label.py:216: UserWarning: The number of unique categories for variable device_category is less than that indicated in n_categories. Thus, all categories will be considered frequent\n",
      "  warnings.warn(\n",
      "c:\\Users\\V.Nikitin\\Anaconda3\\lib\\site-packages\\feature_engine\\encoding\\rare_label.py:216: UserWarning: The number of unique categories for variable geo_city_added_distance_from_moscow_category is less than that indicated in n_categories. Thus, all categories will be considered frequent\n",
      "  warnings.warn(\n"
     ]
    }
   ],
   "source": [
    "sessions_preprocessed = final_preprocessor.fit_transform(df_sessions_new)"
   ]
  },
  {
   "cell_type": "code",
   "execution_count": 180,
   "metadata": {},
   "outputs": [],
   "source": [
    "final_model.fit(sessions_preprocessed, target);"
   ]
  },
  {
   "cell_type": "markdown",
   "metadata": {},
   "source": [
    "### Результаты обработки данных"
   ]
  },
  {
   "cell_type": "code",
   "execution_count": 181,
   "metadata": {},
   "outputs": [
    {
     "data": {
      "text/plain": [
       "(1860042, 58)"
      ]
     },
     "execution_count": 181,
     "metadata": {},
     "output_type": "execute_result"
    }
   ],
   "source": [
    "sessions_preprocessed.shape"
   ]
  },
  {
   "cell_type": "code",
   "execution_count": 182,
   "metadata": {},
   "outputs": [
    {
     "name": "stdout",
     "output_type": "stream",
     "text": [
      "<class 'pandas.core.frame.DataFrame'>\n",
      "Index: 1860042 entries, 9055434745589932991.1637753792.1637753792 to 9055430416266113553.1640968742.1640968742\n",
      "Data columns (total 58 columns):\n",
      " #   Column                                                     Dtype  \n",
      "---  ------                                                     -----  \n",
      " 0   visit_number                                               float64\n",
      " 1   visit_date_weekday                                         float64\n",
      " 2   visit_date_weekend                                         float64\n",
      " 3   visit_date_day                                             float64\n",
      " 4   visit_time_hour                                            float64\n",
      " 5   visit_time_minute                                          float64\n",
      " 6   visit_time_night                                           float64\n",
      " 7   utm_medium_added_is_organic                                float64\n",
      " 8   utm_source_added_is_social                                 float64\n",
      " 9   device_screen_resolution_width                             float64\n",
      " 10  device_screen_resolution_height                            float64\n",
      " 11  device_screen_resolution_ratio                             float64\n",
      " 12  geo_city_added_is_moscow_region                            float64\n",
      " 13  geo_city_added_is_big                                      float64\n",
      " 14  geo_city_is_big_or_in_moscow_region                        float64\n",
      " 15  geo_city_added_distance_from_moscow                        float64\n",
      " 16  utm_source_ZpYIoDJMcFzVoPFsHGJL                            float64\n",
      " 17  utm_source_MvfHsxITijuriZxsqZqt                            float64\n",
      " 18  utm_source_kjsLglQLzykiRbcDiGcD                            float64\n",
      " 19  utm_source_rare                                            float64\n",
      " 20  utm_source_fDLlAcSmythWSCVMvqvL                            float64\n",
      " 21  utm_source_BHcvLfOaCWvWTykYqHVe                            float64\n",
      " 22  utm_source_bByPQxmDaMXgpHeypKSM                            float64\n",
      " 23  utm_medium_cpm                                             float64\n",
      " 24  utm_medium_cpc                                             float64\n",
      " 25  utm_medium_rare                                            float64\n",
      " 26  utm_medium_referral                                        float64\n",
      " 27  utm_campaign_LEoPHuyFvzoNfnzGgfcd                          float64\n",
      " 28  utm_campaign_(nan)                                         float64\n",
      " 29  utm_campaign_gecBYcKZCPMcVYdSSzKP                          float64\n",
      " 30  utm_campaign_rare                                          float64\n",
      " 31  utm_adcontent_vCIpmpaGBnIQhyYNkXqp                         float64\n",
      " 32  utm_adcontent_xhoenQgDQsgfEPYNPwKO                         float64\n",
      " 33  utm_adcontent_rare                                         float64\n",
      " 34  utm_adcontent_(nan)                                        float64\n",
      " 35  utm_adcontent_JNHcPlZPxEMWDnRiyoBf                         float64\n",
      " 36  utm_keyword_puhZPIYqKXeFPaUviSjo                           float64\n",
      " 37  utm_keyword_rare                                           float64\n",
      " 38  device_category_mobile                                     float64\n",
      " 39  device_os_Android                                          float64\n",
      " 40  device_os_iOS                                              float64\n",
      " 41  device_os_Windows                                          float64\n",
      " 42  device_brand_Huawei                                        float64\n",
      " 43  device_brand_Samsung                                       float64\n",
      " 44  device_brand_Xiaomi                                        float64\n",
      " 45  device_brand_Apple                                         float64\n",
      " 46  device_brand_rare                                          float64\n",
      " 47  device_browser_Chrome                                      float64\n",
      " 48  device_browser_rare                                        float64\n",
      " 49  device_browser_Safari                                      float64\n",
      " 50  device_browser_YaBrowser                                   float64\n",
      " 51  geo_city_rare                                              float64\n",
      " 52  geo_city_Moscow                                            float64\n",
      " 53  geo_city_Saint Petersburg                                  float64\n",
      " 54  geo_city_added_distance_from_moscow_category_1000-3000 km  float64\n",
      " 55  geo_city_added_distance_from_moscow_category_500-1000 km   float64\n",
      " 56  geo_city_added_distance_from_moscow_category_100-500 km    float64\n",
      " 57  geo_city_added_distance_from_moscow_category_no distance   float64\n",
      "dtypes: float64(58)\n",
      "memory usage: 901.8+ MB\n"
     ]
    }
   ],
   "source": [
    "sessions_preprocessed.info()"
   ]
  },
  {
   "cell_type": "code",
   "execution_count": 183,
   "metadata": {},
   "outputs": [
    {
     "name": "stdout",
     "output_type": "stream",
     "text": [
      "Количество дубликатов: 176667\n"
     ]
    }
   ],
   "source": [
    "print('Количество дубликатов:', sessions_preprocessed.duplicated().sum())"
   ]
  },
  {
   "cell_type": "code",
   "execution_count": 184,
   "metadata": {},
   "outputs": [
    {
     "name": "stdout",
     "output_type": "stream",
     "text": [
      "Корреляция с целевой переменной:\n"
     ]
    },
    {
     "data": {
      "text/plain": [
       "target                                1.000000\n",
       "utm_medium_added_is_organic           0.050813\n",
       "utm_medium_referral                   0.049207\n",
       "utm_adcontent_JNHcPlZPxEMWDnRiyoBf    0.044788\n",
       "utm_source_bByPQxmDaMXgpHeypKSM       0.040561\n",
       "Name: target, dtype: float64"
      ]
     },
     "execution_count": 184,
     "metadata": {},
     "output_type": "execute_result"
    }
   ],
   "source": [
    "print('Корреляция с целевой переменной:')\n",
    "correlation = pd.concat([sessions_preprocessed, target], axis=1).corr()\n",
    "correlation['target'].sort_values(ascending=False, key=abs).head(5)"
   ]
  },
  {
   "cell_type": "code",
   "execution_count": 185,
   "metadata": {},
   "outputs": [],
   "source": [
    "feature_importance = pd.Series(\n",
    "    data=final_model.feature_importances_, \n",
    "    index=sessions_preprocessed.columns)"
   ]
  },
  {
   "cell_type": "code",
   "execution_count": 186,
   "metadata": {},
   "outputs": [],
   "source": [
    "original_columns = list(df_sessions_new.columns) + ['_added_']\n",
    "column_importances = list()\n",
    "for col in original_columns:\n",
    "    imp = feature_importance[feature_importance.index.str.contains(col)].sum()\n",
    "    column_importances.append(imp)\n",
    "\n",
    "column_importances = pd.Series(column_importances, index=original_columns)\n",
    "column_importances.sort_values(ascending=False, inplace=True)"
   ]
  },
  {
   "cell_type": "code",
   "execution_count": 187,
   "metadata": {},
   "outputs": [
    {
     "data": {
      "image/png": "[encoded data removed]",
      "text/plain": [
       "<Figure size 1296x720 with 1 Axes>"
      ]
     },
     "metadata": {
      "needs_background": "light"
     },
     "output_type": "display_data"
    }
   ],
   "source": [
    "plt.figure(figsize=(18, 10))\n",
    "sns.barplot(x=column_importances, y=column_importances.index, orient='h')\n",
    "plt.title('Важность оригинальных признаков');"
   ]
  },
  {
   "cell_type": "markdown",
   "metadata": {},
   "source": [
    "Самыми важными исходными признаками окзаались: размеры экрана, дата, время и номер посещения, город пользователя, а также признаки с дополнительными данными."
   ]
  },
  {
   "cell_type": "markdown",
   "metadata": {},
   "source": [
    "### Сохранение модели"
   ]
  },
  {
   "cell_type": "code",
   "execution_count": 188,
   "metadata": {},
   "outputs": [],
   "source": [
    "# Объединим препроцессор и модель обратно\n",
    "\n",
    "final_pipeline = final_preprocessor.set_params(model=final_model)"
   ]
  },
  {
   "cell_type": "code",
   "execution_count": 189,
   "metadata": {},
   "outputs": [],
   "source": [
    "# Добавим метаданные для модели\n",
    "\n",
    "metadata = {\n",
    "    'name': 'SberAutopodpiska: target event prediction', \n",
    "    'descripton': ('Модель по предсказанию совершения пользователем одного из '\n",
    "                   'целевых действий \"Заказать звонок\" или \"Оставить заявку\" '\n",
    "                   'на сайте сервиса СберАвтоподписка.'), \n",
    "    'model_type': final_model.__class__.__name__, \n",
    "    'version': 'Not Detected :-)', \n",
    "    'training_datetime': datetime.now(), \n",
    "    'author': 'Alexander Vinogradov', \n",
    "    'threshold': best_threshold, \n",
    "    'metrics': {\n",
    "        'roc_auc': roc_auc_score(y_test, test_proba), \n",
    "        'roc_auc_by_class': roc_auc_score(y_test, test_prediction),\n",
    "        'accuracy': accuracy_score(y_test, test_prediction), \n",
    "        'precision': precision_score(y_test, test_prediction), \n",
    "        'recall': recall_score(y_test, test_prediction), \n",
    "        'f1': f1_score(y_test, test_prediction),\n",
    "    }\n",
    "}\n",
    "\n",
    "final_pipeline.metadata = metadata"
   ]
  },
  {
   "cell_type": "code",
   "execution_count": 190,
   "metadata": {},
   "outputs": [],
   "source": [
    "# Сохраним модель\n",
    "models_folder = Path('.', 'models')\n",
    "models_folder.mkdir(exist_ok=True)\n",
    "filename = f'model_{datetime.now():%Y%m%d%H%M%S}.pkl'\n",
    "\n",
    "with open(models_folder / filename, 'wb') as file:\n",
    "    dill.dump(final_pipeline, file)"
   ]
  },
  {
   "cell_type": "markdown",
   "metadata": {},
   "source": [
    "## Выводы\n"
   ]
  },
  {
   "cell_type": "markdown",
   "metadata": {},
   "source": [
    "Для преобразования входных данных, со структурой как в файле `ga_sessions.csv`, в удобный для предсказания вид понадобилось четыре этапа:\n",
    "1. Заполнение пропусков и генерация признаков. В том числе добавление новых данных, как-то органический трафик или расстояние до Москвы.\n",
    "2. Преобразование численных переменных: нормализация и удаление выбросов.\n",
    "3. Преобразование категориальных признаков. Основная сложность с ними была в многообразии редких уникальных значений. В итоге только самые популярные значения были закодированы методом one-hot.\n",
    "4. Удаление дублирующих и коррелируемых признаков. Признаки могут коррелировать до 0.95, но именно с таким порогом финальная модель даёт лучший результат.\n",
    "\n",
    "Было проверено 8 моделей с гиперпараметрами по умолчанию. \n",
    "\n",
    "В итоге в качестве лучшей модели был выбран `xgboost` по следующим причинам: \n",
    "+ Один из лучших показателей `roc_auc`.\n",
    "+ Быстрое обучение. \n",
    "+ Модель интерпретируема, то есть можно получить показатели важности признаков.\n",
    "+ Может предсказывать вероятность класса.\n",
    "\n",
    "\n",
    "Качество модели по метрике `roc-auc` составляет **0.7107** (0.6518 при предсказании классов). Переобучения нет и цель проекта выполнена - `roc-auc` > 0.65."
   ]
  }
 ],
 "metadata": {
  "kernelspec": {
   "display_name": "base",
   "language": "python",
   "name": "python3"
  },
  "language_info": {
   "codemirror_mode": {
    "name": "ipython",
    "version": 3
   },
   "file_extension": ".py",
   "mimetype": "text/x-python",
   "name": "python",
   "nbconvert_exporter": "python",
   "pygments_lexer": "ipython3",
   "version": "3.9.12"
  },
  "orig_nbformat": 4
 },
 "nbformat": 4,
 "nbformat_minor": 2
}
